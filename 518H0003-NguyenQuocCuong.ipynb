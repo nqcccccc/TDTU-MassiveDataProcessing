{
 "cells": [
  {
   "cell_type": "code",
   "execution_count": null,
   "outputs": [],
   "source": [
    "import numpy as np\n",
    "import matplotlib.pyplot as plt"
   ],
   "metadata": {
    "collapsed": false,
    "pycharm": {
     "name": "#%%\n"
    }
   }
  },
  {
   "cell_type": "code",
   "execution_count": null,
   "outputs": [],
   "source": [
    "input = [\"Tôi yêu Việt Nam.\", \"Tôi trân trọng gia đình tôi\",\"Tôi thương em.\", \"Tôi yêu quý gia đình em\" ]\n",
    "\n",
    "words = []\n",
    "for sentences in input:\n",
    "    words.extend(sentences.split())\n",
    "words = list(set(words))\n",
    "words.sort()\n",
    "print(words)\n",
    "X = np.zeros([len(words), len(words)])\n",
    "print(X)"
   ],
   "metadata": {
    "collapsed": false,
    "pycharm": {
     "name": "#%%\n"
    }
   }
  },
  {
   "cell_type": "code",
   "execution_count": null,
   "outputs": [],
   "source": [
    "\n",
    "for sentences in input:\n",
    "    tokens = sentences.split()\n",
    "    for i, token in enumerate(tokens):\n",
    "        if(i == 0):\n",
    "            X[words.index(token), words.index(tokens[i + 1])] += 1\n",
    "        elif(i == len(tokens) - 1):\n",
    "            X[words.index(token), words.index(tokens[i - 1])] += 1\n",
    "        else:\n",
    "            X[words.index(token), words.index(tokens[i + 1])] += 1\n",
    "            X[words.index(token), words.index(tokens[i - 1])] += 1\n",
    "print(X)\n",
    "\n",
    "from numpy import asarray\n",
    "from numpy import savetxt\n",
    "data = asarray(X)\n",
    "savetxt('cau1.csv', data, delimiter=',')"
   ],
   "metadata": {
    "collapsed": false,
    "pycharm": {
     "name": "#%%\n"
    }
   }
  },
  {
   "cell_type": "code",
   "execution_count": null,
   "outputs": [],
   "source": [
    "la = np.linalg\n",
    "U, s, Vh = la.svd(X, full_matrices=False)\n",
    "plt.xlim(-1, 1)\n",
    "plt.ylim(-1, 1)\n",
    "for i in range(len(words)):\n",
    "    plt.text(U[i, 0], U[i, 1], words[i])\n",
    "\n",
    "plt.show()"
   ],
   "metadata": {
    "collapsed": false,
    "pycharm": {
     "name": "#%%\n"
    }
   }
  },
  {
   "cell_type": "code",
   "execution_count": null,
   "outputs": [],
   "source": [
    "from PIL import Image\n",
    "from numpy import asarray\n",
    "\n",
    "img = Image.open('poro.jpg')\n",
    "cau2 = asarray(img)\n",
    "\n",
    "print(cau2)\n",
    "data = asarray(cau2)\n",
    "savetxt('cau2.csv', data, delimiter=',')"
   ],
   "metadata": {
    "collapsed": false,
    "pycharm": {
     "name": "#%%\n"
    }
   }
  },
  {
   "cell_type": "code",
   "execution_count": null,
   "outputs": [],
   "source": [
    "\n",
    "\n"
   ],
   "metadata": {
    "collapsed": false,
    "pycharm": {
     "name": "#%%\n"
    }
   }
  }
 ],
 "metadata": {
  "kernelspec": {
   "display_name": "Python 3",
   "language": "python",
   "name": "python3"
  },
  "language_info": {
   "codemirror_mode": {
    "name": "ipython",
    "version": 2
   },
   "file_extension": ".py",
   "mimetype": "text/x-python",
   "name": "python",
   "nbconvert_exporter": "python",
   "pygments_lexer": "ipython2",
   "version": "2.7.6"
  }
 },
 "nbformat": 4,
 "nbformat_minor": 0
}