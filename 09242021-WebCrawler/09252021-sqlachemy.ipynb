{
 "cells": [
  {
   "cell_type": "code",
   "execution_count": 7,
   "metadata": {
    "collapsed": true,
    "pycharm": {
     "name": "#%%\n"
    }
   },
   "outputs": [
    {
     "name": "stdout",
     "output_type": "stream",
     "text": [
      "time: 7.49 s (started: 2021-09-25 10:28:42 +07:00)\n"
     ]
    }
   ],
   "source": [
    "import re\n",
    "% load_ext autotime\n",
    "import sqlalchemy as sal\n",
    "import pandas as pd"
   ]
  },
  {
   "cell_type": "code",
   "execution_count": 23,
   "outputs": [
    {
     "name": "stdout",
     "output_type": "stream",
     "text": [
      "time: 4.79 ms (started: 2021-09-25 10:42:20 +07:00)\n"
     ]
    }
   ],
   "source": [
    "engine = sal.create_engine('sqlite:////Users/quoccuongnguyen/Documents/TDTU/YEAR-4/HK1-2021-2022/Massive-Data/Code/Database-SQLLite/exam.db', echo=True)\n",
    "conn = engine.connect()"
   ],
   "metadata": {
    "collapsed": false,
    "pycharm": {
     "name": "#%%\n"
    }
   }
  },
  {
   "cell_type": "code",
   "execution_count": 24,
   "outputs": [
    {
     "name": "stdout",
     "output_type": "stream",
     "text": [
      "2021-09-25 10:42:23,697 INFO sqlalchemy.engine.Engine BEGIN (implicit)\n",
      "2021-09-25 10:42:23,699 INFO sqlalchemy.engine.Engine PRAGMA main.table_info(\"users\")\n",
      "2021-09-25 10:42:23,700 INFO sqlalchemy.engine.Engine [raw sql] ()\n",
      "2021-09-25 10:42:23,702 INFO sqlalchemy.engine.Engine PRAGMA temp.table_info(\"users\")\n",
      "2021-09-25 10:42:23,703 INFO sqlalchemy.engine.Engine [raw sql] ()\n",
      "2021-09-25 10:42:23,704 INFO sqlalchemy.engine.Engine PRAGMA main.table_info(\"addresses\")\n",
      "2021-09-25 10:42:23,706 INFO sqlalchemy.engine.Engine [raw sql] ()\n",
      "2021-09-25 10:42:23,707 INFO sqlalchemy.engine.Engine PRAGMA temp.table_info(\"addresses\")\n",
      "2021-09-25 10:42:23,708 INFO sqlalchemy.engine.Engine [raw sql] ()\n",
      "2021-09-25 10:42:23,711 INFO sqlalchemy.engine.Engine \n",
      "CREATE TABLE users (\n",
      "\tid INTEGER NOT NULL, \n",
      "\tname VARCHAR, \n",
      "\tfullname VARCHAR, \n",
      "\tPRIMARY KEY (id)\n",
      ")\n",
      "\n",
      "\n",
      "2021-09-25 10:42:23,713 INFO sqlalchemy.engine.Engine [no key 0.00126s] ()\n",
      "2021-09-25 10:42:23,716 INFO sqlalchemy.engine.Engine \n",
      "CREATE TABLE addresses (\n",
      "\tid INTEGER NOT NULL, \n",
      "\tuser_id INTEGER, \n",
      "\temail_address VARCHAR NOT NULL, \n",
      "\tPRIMARY KEY (id), \n",
      "\tFOREIGN KEY(user_id) REFERENCES users (id)\n",
      ")\n",
      "\n",
      "\n",
      "2021-09-25 10:42:23,716 INFO sqlalchemy.engine.Engine [no key 0.00091s] ()\n",
      "2021-09-25 10:42:23,720 INFO sqlalchemy.engine.Engine COMMIT\n",
      "time: 30.3 ms (started: 2021-09-25 10:42:23 +07:00)\n"
     ]
    }
   ],
   "source": [
    "metadata = sal.MetaData()\n",
    "users = sal.Table('users', metadata,\n",
    "                  sal.Column('id', sal.Integer, primary_key=True),\n",
    "                  sal.Column('name', sal.String),\n",
    "                  sal.Column('fullname', sal.String))\n",
    "\n",
    "addresses = sal.Table('addresses', metadata,\n",
    "                      sal.Column('id', sal.Integer, primary_key=True),\n",
    "                      sal.Column('user_id', None, sal.ForeignKey('users.id')),\n",
    "                      sal.Column('email_address', sal.String, nullable=False))\n",
    "\n",
    "metadata.create_all(engine)"
   ],
   "metadata": {
    "collapsed": false,
    "pycharm": {
     "name": "#%%\n"
    }
   }
  },
  {
   "cell_type": "code",
   "execution_count": 25,
   "outputs": [
    {
     "name": "stdout",
     "output_type": "stream",
     "text": [
      "INSERT INTO users (name, fullname) VALUES (:name, :fullname)\n",
      "{'name': 'jack', 'fullname': 'Jack Jones'}\n",
      "time: 3.57 ms (started: 2021-09-25 10:42:27 +07:00)\n"
     ]
    }
   ],
   "source": [
    "ins = users.insert().values(name='jack', fullname='Jack Jones')\n",
    "print(str(ins))\n",
    "print(ins.compile().params)"
   ],
   "metadata": {
    "collapsed": false,
    "pycharm": {
     "name": "#%%\n"
    }
   }
  },
  {
   "cell_type": "code",
   "execution_count": 26,
   "outputs": [
    {
     "name": "stdout",
     "output_type": "stream",
     "text": [
      "2021-09-25 10:42:30,059 INFO sqlalchemy.engine.Engine INSERT INTO users (name, fullname) VALUES (?, ?)\n",
      "2021-09-25 10:42:30,061 INFO sqlalchemy.engine.Engine [generated in 0.00233s] ('jack', 'Jack Jones')\n",
      "2021-09-25 10:42:30,064 INFO sqlalchemy.engine.Engine COMMIT\n",
      "<sqlalchemy.engine.cursor.LegacyCursorResult object at 0x11980e370>\n",
      "time: 8.63 ms (started: 2021-09-25 10:42:30 +07:00)\n"
     ]
    }
   ],
   "source": [
    "result = conn.execute(ins)\n",
    "print(result)"
   ],
   "metadata": {
    "collapsed": false,
    "pycharm": {
     "name": "#%%\n"
    }
   }
  },
  {
   "cell_type": "code",
   "execution_count": 27,
   "outputs": [
    {
     "name": "stdout",
     "output_type": "stream",
     "text": [
      "INSERT INTO users (name, fullname) VALUES (?, ?)\n",
      "time: 1.18 ms (started: 2021-09-25 10:42:33 +07:00)\n"
     ]
    }
   ],
   "source": [
    "ins.bind = engine\n",
    "print(str(ins))"
   ],
   "metadata": {
    "collapsed": false,
    "pycharm": {
     "name": "#%%\n"
    }
   }
  },
  {
   "cell_type": "code",
   "execution_count": 28,
   "outputs": [
    {
     "name": "stdout",
     "output_type": "stream",
     "text": [
      "(1,)\n",
      "time: 1.44 ms (started: 2021-09-25 10:42:33 +07:00)\n"
     ]
    }
   ],
   "source": [
    "print(result.inserted_primary_key)"
   ],
   "metadata": {
    "collapsed": false,
    "pycharm": {
     "name": "#%%\n"
    }
   }
  },
  {
   "cell_type": "code",
   "execution_count": 29,
   "outputs": [
    {
     "name": "stdout",
     "output_type": "stream",
     "text": [
      "2021-09-25 10:45:17,412 INFO sqlalchemy.engine.Engine INSERT INTO users (id, name, fullname) VALUES (?, ?, ?)\n",
      "2021-09-25 10:45:17,413 INFO sqlalchemy.engine.Engine [generated in 0.00167s] (2, 'wendy', 'Wendy Williams')\n",
      "2021-09-25 10:45:17,415 INFO sqlalchemy.engine.Engine COMMIT\n",
      "2021-09-25 10:45:17,418 INFO sqlalchemy.engine.Engine INSERT INTO addresses (user_id, email_address) VALUES (?, ?)\n",
      "2021-09-25 10:45:17,419 INFO sqlalchemy.engine.Engine [generated in 0.00108s] ((1, 'jack@yahoo.com'), (1, 'jack@msn.com'), (2, 'www@www.org'), (2, 'wendy@aol.com'))\n",
      "2021-09-25 10:45:17,420 INFO sqlalchemy.engine.Engine COMMIT\n"
     ]
    },
    {
     "data": {
      "text/plain": "<sqlalchemy.engine.cursor.LegacyCursorResult at 0x11977fca0>"
     },
     "execution_count": 29,
     "metadata": {},
     "output_type": "execute_result"
    },
    {
     "name": "stdout",
     "output_type": "stream",
     "text": [
      "time: 16.4 ms (started: 2021-09-25 10:45:17 +07:00)\n"
     ]
    }
   ],
   "source": [
    "conn.execute(users.insert(), id=2, name='wendy', fullname='Wendy Williams')\n",
    "\n",
    "conn.execute(addresses.insert(), [\n",
    "    {'user_id': 1, 'email_address': 'jack@yahoo.com'},\n",
    "    {'user_id': 1, 'email_address': 'jack@msn.com'},\n",
    "    {'user_id': 2, 'email_address': 'www@www.org'},\n",
    "    {'user_id': 2, 'email_address': 'wendy@aol.com'},\n",
    "])"
   ],
   "metadata": {
    "collapsed": false,
    "pycharm": {
     "name": "#%%\n"
    }
   }
  },
  {
   "cell_type": "code",
   "execution_count": 19,
   "outputs": [
    {
     "name": "stdout",
     "output_type": "stream",
     "text": [
      "2021-09-25 10:35:00,202 INFO sqlalchemy.engine.Engine SELECT users.id, users.name, users.fullname \n",
      "FROM users\n",
      "2021-09-25 10:35:00,205 INFO sqlalchemy.engine.Engine [cached since 48.93s ago] ()\n"
     ]
    },
    {
     "data": {
      "text/plain": "   0      1               2\n0  1   jack      Jack Jones\n1  2  wendy  Wendy Williams",
      "text/html": "<div>\n<style scoped>\n    .dataframe tbody tr th:only-of-type {\n        vertical-align: middle;\n    }\n\n    .dataframe tbody tr th {\n        vertical-align: top;\n    }\n\n    .dataframe thead th {\n        text-align: right;\n    }\n</style>\n<table border=\"1\" class=\"dataframe\">\n  <thead>\n    <tr style=\"text-align: right;\">\n      <th></th>\n      <th>0</th>\n      <th>1</th>\n      <th>2</th>\n    </tr>\n  </thead>\n  <tbody>\n    <tr>\n      <th>0</th>\n      <td>1</td>\n      <td>jack</td>\n      <td>Jack Jones</td>\n    </tr>\n    <tr>\n      <th>1</th>\n      <td>2</td>\n      <td>wendy</td>\n      <td>Wendy Williams</td>\n    </tr>\n  </tbody>\n</table>\n</div>"
     },
     "execution_count": 19,
     "metadata": {},
     "output_type": "execute_result"
    },
    {
     "name": "stdout",
     "output_type": "stream",
     "text": [
      "time: 14.7 ms (started: 2021-09-25 10:35:00 +07:00)\n"
     ]
    }
   ],
   "source": [
    "# Select * from user\n",
    "df = pd.DataFrame(conn.execute(sal.select([users])))\n",
    "df"
   ],
   "metadata": {
    "collapsed": false,
    "pycharm": {
     "name": "#%%\n"
    }
   }
  },
  {
   "cell_type": "code",
   "execution_count": 30,
   "outputs": [
    {
     "name": "stdout",
     "output_type": "stream",
     "text": [
      "2021-09-25 10:47:30,959 INFO sqlalchemy.engine.Engine SELECT users.id, users.name, users.fullname \n",
      "FROM users\n",
      "2021-09-25 10:47:30,960 INFO sqlalchemy.engine.Engine [generated in 0.00174s] ()\n",
      "name: jack ; fullname: Jack Jones\n",
      "2021-09-25 10:47:30,964 INFO sqlalchemy.engine.Engine SELECT users.id, users.name, users.fullname \n",
      "FROM users\n",
      "2021-09-25 10:47:30,965 INFO sqlalchemy.engine.Engine [cached since 0.005985s ago] ()\n",
      "name: jack ; fullname: Jack Jones\n",
      "2021-09-25 10:47:30,967 INFO sqlalchemy.engine.Engine SELECT users.id, users.name, users.fullname \n",
      "FROM users\n",
      "2021-09-25 10:47:30,967 INFO sqlalchemy.engine.Engine [cached since 0.008732s ago] ()\n",
      "name: jack ; fullname: Jack Jones\n",
      "name: wendy ; fullname: Wendy Williams\n",
      "time: 11.5 ms (started: 2021-09-25 10:47:30 +07:00)\n"
     ]
    }
   ],
   "source": [
    "# fetchone -> return 1 line data\n",
    "# fetchone similar to pop()\n",
    "\n",
    "# get 1st line from users\n",
    "row = conn.execute(sal.select([users])).fetchone()\n",
    "print(\"name:\", row['name'], \"; fullname:\", row['fullname'])\n",
    "\n",
    "# get next line from users\n",
    "row = conn.execute(sal.select([users])).fetchone()\n",
    "print(\"name:\", row[1], \"; fullname:\", row[2])\n",
    "\n",
    "# get all lines from users\n",
    "for row in conn.execute(sal.select([users])):\n",
    "    print(\"name:\", row[users.c.name], \"; fullname:\", row[users.c.fullname])"
   ],
   "metadata": {
    "collapsed": false,
    "pycharm": {
     "name": "#%%\n"
    }
   }
  },
  {
   "cell_type": "code",
   "execution_count": 34,
   "outputs": [
    {
     "name": "stdout",
     "output_type": "stream",
     "text": [
      "2021-09-25 10:50:41,824 INFO sqlalchemy.engine.Engine SELECT users.name, users.fullname \n",
      "FROM users\n",
      "2021-09-25 10:50:41,827 INFO sqlalchemy.engine.Engine [cached since 22.13s ago] ()\n",
      "('jack', 'Jack Jones')\n",
      "('wendy', 'Wendy Williams')\n",
      "time: 6.61 ms (started: 2021-09-25 10:50:41 +07:00)\n"
     ]
    }
   ],
   "source": [
    "# users.c.name -> table users column name\n",
    "result = conn.execute(sal.select([users.c.name, users.c.fullname]))\n",
    "\n",
    "for row in result:\n",
    "    print(row)"
   ],
   "metadata": {
    "collapsed": false,
    "pycharm": {
     "name": "#%%\n"
    }
   }
  },
  {
   "cell_type": "code",
   "execution_count": 37,
   "outputs": [
    {
     "name": "stdout",
     "output_type": "stream",
     "text": [
      "no\n",
      "time: 980 µs (started: 2021-09-25 10:55:48 +07:00)\n"
     ]
    }
   ],
   "source": [
    "if users.c.id == addresses.c.user_id:\n",
    "    print('ok')\n",
    "else:\n",
    "    print('no')"
   ],
   "metadata": {
    "collapsed": false,
    "pycharm": {
     "name": "#%%\n"
    }
   }
  },
  {
   "cell_type": "code",
   "execution_count": null,
   "outputs": [],
   "source": [],
   "metadata": {
    "collapsed": false,
    "pycharm": {
     "name": "#%%\n"
    }
   }
  }
 ],
 "metadata": {
  "kernelspec": {
   "display_name": "Python 3",
   "language": "python",
   "name": "python3"
  },
  "language_info": {
   "codemirror_mode": {
    "name": "ipython",
    "version": 2
   },
   "file_extension": ".py",
   "mimetype": "text/x-python",
   "name": "python",
   "nbconvert_exporter": "python",
   "pygments_lexer": "ipython2",
   "version": "2.7.6"
  }
 },
 "nbformat": 4,
 "nbformat_minor": 0
}