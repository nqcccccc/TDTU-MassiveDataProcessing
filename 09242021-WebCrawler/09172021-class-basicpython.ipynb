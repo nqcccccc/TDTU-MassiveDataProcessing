{
 "cells": [
  {
   "cell_type": "code",
   "execution_count": 2,
   "metadata": {
    "collapsed": true
   },
   "outputs": [],
   "source": [
    "import collections\n",
    "import json"
   ]
  },
  {
   "cell_type": "code",
   "execution_count": 3,
   "outputs": [
    {
     "name": "stdout",
     "output_type": "stream",
     "text": [
      "Counter({'Mai': 5, 'Hung': 2, 'Ha': 1, 'Lan': 1, 'Hoang': 1, 'Thai': 1, 'Bao': 1})\n"
     ]
    }
   ],
   "source": [
    "# Bai 1: Vao 1 danh sach, in ra nguoi thang cuoc theo tu tu\n",
    "\n",
    "voted=['Hung','Ha','Mai','Mai','Lan','Hoang','Hung','Mai', 'Mai','Thai','Bao','Mai']\n",
    "counter = collections.Counter(voted)\n",
    "\n",
    "print(counter)"
   ],
   "metadata": {
    "collapsed": false,
    "pycharm": {
     "name": "#%%\n"
    }
   }
  },
  {
   "cell_type": "code",
   "execution_count": 19,
   "outputs": [
    {
     "name": "stdout",
     "output_type": "stream",
     "text": [
      "cuong cuong cuong cuong cuong cuong cuong cuong cuong cuong cuong cuong cuong cuong cuong cuong cuong cuong\n",
      "18\n"
     ]
    }
   ],
   "source": [
    "# Bai 2: Vao 1 tap file text, in ra cac tu va so luong tu\n",
    "file = open('test.txt','r')\n",
    "file = file.read()\n",
    "\n",
    "print(file)\n",
    "\n",
    "print(len(file.split(' ')))"
   ],
   "metadata": {
    "collapsed": false,
    "pycharm": {
     "name": "#%%\n"
    }
   }
  },
  {
   "cell_type": "code",
   "execution_count": 21,
   "outputs": [
    {
     "data": {
      "text/plain": "False"
     },
     "execution_count": 21,
     "metadata": {},
     "output_type": "execute_result"
    }
   ],
   "source": [
    "# Bai 3: Nhap vao 1 chuoi viet ham xax dinh chuoi co phai la chuoi doi xung hay khong (Palindrome)\n",
    "\n",
    "def isPalindrome(x):\n",
    "    return x == x[::-1]\n",
    "\n",
    "isPalindrome('qwerrewq')"
   ],
   "metadata": {
    "collapsed": false,
    "pycharm": {
     "name": "#%%\n"
    }
   }
  },
  {
   "cell_type": "code",
   "execution_count": 24,
   "outputs": [
    {
     "name": "stdout",
     "output_type": "stream",
     "text": [
      "key1 : 1  is present in both side\n"
     ]
    }
   ],
   "source": [
    "# Bai 4: Viet chuong trinh de map key value trong 2 dict\n",
    "\n",
    "dict1 = {'key1': 1, 'key2': 3, 'key3': 2}\n",
    "dict2= {'key1': 1, 'key2': 2}\n",
    "\n",
    "for key in dict1:\n",
    "    if(key in dict2 and dict1[key] == dict2[key]):\n",
    "        print(key,':',dict1[key],' is present in both side')"
   ],
   "metadata": {
    "collapsed": false,
    "pycharm": {
     "name": "#%%\n"
    }
   }
  },
  {
   "cell_type": "code",
   "execution_count": 27,
   "outputs": [],
   "source": [
    "# Bai 5: Viet chuong trinh de chuyen dict thanh file json\n",
    "json.dump(dict1,open('test.json','w'))\n"
   ],
   "metadata": {
    "collapsed": false,
    "pycharm": {
     "name": "#%%\n"
    }
   }
  },
  {
   "cell_type": "code",
   "execution_count": null,
   "outputs": [],
   "source": [
    "\n",
    " "
   ],
   "metadata": {
    "collapsed": false,
    "pycharm": {
     "name": "#%%\n"
    }
   }
  }
 ],
 "metadata": {
  "kernelspec": {
   "display_name": "Python 3",
   "language": "python",
   "name": "python3"
  },
  "language_info": {
   "codemirror_mode": {
    "name": "ipython",
    "version": 2
   },
   "file_extension": ".py",
   "mimetype": "text/x-python",
   "name": "python",
   "nbconvert_exporter": "python",
   "pygments_lexer": "ipython2",
   "version": "2.7.6"
  }
 },
 "nbformat": 4,
 "nbformat_minor": 0
}