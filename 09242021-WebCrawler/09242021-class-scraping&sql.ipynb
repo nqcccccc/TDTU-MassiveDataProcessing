{
 "cells": [
  {
   "cell_type": "code",
   "execution_count": 5,
   "metadata": {
    "collapsed": true
   },
   "outputs": [
    {
     "name": "stdout",
     "output_type": "stream",
     "text": [
      "The autotime extension is already loaded. To reload it, use:\n",
      "  %reload_ext autotime\n",
      "time: 1.24 ms (started: 2021-09-24 08:59:38 +07:00)\n"
     ]
    }
   ],
   "source": [
    "import re\n",
    "%load_ext autotime"
   ]
  },
  {
   "cell_type": "code",
   "execution_count": 6,
   "outputs": [
    {
     "name": "stdout",
     "output_type": "stream",
     "text": [
      "Valid\n",
      "Invalid\n",
      "time: 1.88 ms (started: 2021-09-24 08:59:38 +07:00)\n"
     ]
    }
   ],
   "source": [
    "# Check a number is a phone number\n",
    "phonePattern = r'\\d{3}-\\d{3}-\\d{4}'\n",
    "\n",
    "test = '111-111-1111'\n",
    "test1 = '111-1111-1111'\n",
    "\n",
    "if re.fullmatch(phonePattern, test):\n",
    "    print('Valid')\n",
    "else:\n",
    "    print('Invalid')\n",
    "\n",
    "if re.fullmatch(phonePattern, test1):\n",
    "    print('Valid')\n",
    "else:\n",
    "    print('Invalid')"
   ],
   "metadata": {
    "collapsed": false,
    "pycharm": {
     "name": "#%%\n"
    }
   }
  },
  {
   "cell_type": "code",
   "execution_count": 7,
   "outputs": [
    {
     "name": "stdout",
     "output_type": "stream",
     "text": [
      "Valid\n",
      "Invalid\n",
      "time: 1.75 ms (started: 2021-09-24 08:59:38 +07:00)\n"
     ]
    }
   ],
   "source": [
    "# Check valid email address\n",
    "emailPattern = r'[a-zA-Z0-9._%+-]{1,20}@[a-zA-Z0-9+-]{2,20}.[a-z|A-Z]{2,3}'\n",
    "\n",
    "test = 'cuongbo1234@gmail.com'\n",
    "test1 = 'cuongbo1234@gmail.'\n",
    "\n",
    "if re.fullmatch(emailPattern, test):\n",
    "    print('Valid')\n",
    "else:\n",
    "    print('Invalid')\n",
    "\n",
    "if re.fullmatch(emailPattern, test1):\n",
    "    print('Valid')\n",
    "else:\n",
    "    print('Invalid')"
   ],
   "metadata": {
    "collapsed": false,
    "pycharm": {
     "name": "#%%\n"
    }
   }
  },
  {
   "cell_type": "code",
   "execution_count": 8,
   "outputs": [
    {
     "name": "stdout",
     "output_type": "stream",
     "text": [
      "Python is a programming language that lets you work quickly and integrate systems more efficiently. It is a widely-used general-purpose, high-level programming language. It was\\xe2\\x80\\xa6 <span class=\"read-more\"><a href=\"https://www.geeksforgeeks.org/what-is-the-difference-between-interactive-and-script-mode-in-python-programming/\">Read More</a></span>\n",
      "--------------------------------------------------------\n",
      "Golang is a procedural programming language. It was developed in 2007 by Robert Griesemer, Rob Pike, and Ken Thompson at Google but launched in 2009\\xe2\\x80\\xa6 <span class=\"read-more\"><a href=\"https://www.geeksforgeeks.org/difference-between-go-and-python-programming-language/\">Read More</a></span>\n",
      "--------------------------------------------------------\n",
      "&nbsp; The following Python section contains a wide collection of Python programming examples. The examples are categorized based on the topics including List, strings, dictionary,\\xe2\\x80\\xa6 <span class=\"read-more\"><a href=\"https://www.geeksforgeeks.org/python-programming-examples/\">Read More</a></span>\n",
      "--------------------------------------------------------\n",
      "The following are the list of best IDE&#8217;s for Python Programming on Windows operating systems. 1) PyCharm 2) Eclipse with Pydev 3) Wing IDE 4)\\xe2\\x80\\xa6 <span class=\"read-more\"><a href=\"https://www.geeksforgeeks.org/ide-python-programming-windows/\">Read More</a></span>\n",
      "--------------------------------------------------------\n",
      "Heya guys! I am back with another article my previous article on secure coding. This time we are not going to go into any theoretical\\xe2\\x80\\xa6 <span class=\"read-more\"><a href=\"https://www.geeksforgeeks.org/a-basic-python-programming-challenge-2/\">Read More</a></span>\n",
      "--------------------------------------------------------\n",
      "Python is a high-level, general-purpose and a very popular programming language. Python programming language (latest Python 3) is being used in web development, Machine Learning\\xe2\\x80\\xa6 <span class=\"read-more\"><a href=\"https://www.geeksforgeeks.org/python-programming-language/\">Read More</a></span>\n",
      "--------------------------------------------------------\n",
      "Python Programming language makes everything easier and straightforward. Effective use of its built-in libraries can save a lot of time and help with faster submissions\\xe2\\x80\\xa6 <span class=\"read-more\"><a href=\"https://www.geeksforgeeks.org/python-tips-and-tricks-for-competitive-programming/\">Read More</a></span>\n",
      "--------------------------------------------------------\n",
      "Reasons behind getting TLE: It is slower compared to other programming languages. It offers slower Input/Output. It has a lower recursion depth which often gives\\xe2\\x80\\xa6 <span class=\"read-more\"><a href=\"https://www.geeksforgeeks.org/avoid-tle-in-python-in-competitive-programming/\">Read More</a></span>\n",
      "--------------------------------------------------------\n",
      "Python Python is one of the most popular and powerful scripting languages that works nowadays. It is a high-level interpreted programming language. It is a\\xe2\\x80\\xa6 <span class=\"read-more\"><a href=\"https://www.geeksforgeeks.org/difference-between-python-and-lua-programming-language/\">Read More</a></span>\n",
      "--------------------------------------------------------\n",
      "To recurse or not to recurse, that is the question. We all know about the fun we have with recursive functions. But it has its\\xe2\\x80\\xa6 <span class=\"read-more\"><a href=\"https://www.geeksforgeeks.org/when-not-to-use-recursion-while-programming-in-python/\">Read More</a></span>\n",
      "--------------------------------------------------------\n",
      "Many times we&#8217;ve seen students struggling with the dilemma of choosing a worthwhile Programming Language for the sake of placements. Though this situation is somewhat\\xe2\\x80\\xa6 <span class=\"read-more\"><a href=\"https://www.geeksforgeeks.org/programming-language-for-placement-c-java-or-python/\">Read More</a></span>\n",
      "--------------------------------------------------------\n",
      "HTTP stands for HyperText Transfer Protocol, which works on the client-server machine. In most cases, the web browser acts as the client, and the computer\\xe2\\x80\\xa6 <span class=\"read-more\"><a href=\"https://www.geeksforgeeks.org/network-programming-python-http-requests/\">Read More</a></span>\n",
      "--------------------------------------------------------\n",
      "In Competitive Programming, it is important to read input as fast as possible to save valuable time. Input/Output in Python can be sometimes time taking\\xe2\\x80\\xa6 <span class=\"read-more\"><a href=\"https://www.geeksforgeeks.org/fast-i-o-for-competitive-programming-in-python/\">Read More</a></span>\n",
      "--------------------------------------------------------\n",
      "The request from the client in HTTP protocol reaches the server and fetches some data assuming it to be a valid request. This response from\\xe2\\x80\\xa6 <span class=\"read-more\"><a href=\"https://www.geeksforgeeks.org/network-programming-python-http-clients/\">Read More</a></span>\n",
      "--------------------------------------------------------\n",
      "Domain Name System also known as DNS is a phonebook of the internet, which has related to the domain name. DNS translates the domain names\\xe2\\x80\\xa6 <span class=\"read-more\"><a href=\"https://www.geeksforgeeks.org/network-programming-in-python-dns-look-up/\">Read More</a></span>\n",
      "--------------------------------------------------------\n",
      "time: 10.7 s (started: 2021-09-24 08:59:38 +07:00)\n"
     ]
    }
   ],
   "source": [
    "import urllib.request\n",
    "import urllib.parse\n",
    "\n",
    "url = 'https://www.geeksforgeeks.org/'\n",
    "values = {'s': 'python programming', 'submit': 'search'}\n",
    "\n",
    "data = urllib.parse.urlencode(values)\n",
    "data = data.encode('utf-8')\n",
    "req = urllib.request.Request(url, data)\n",
    "resp = urllib.request.urlopen(req)\n",
    "respData = resp.read()\n",
    "\n",
    "paragraphs = re.findall(r'<p>(.*?)</p>', str(respData))\n",
    "\n",
    "for eachP in paragraphs:\n",
    "    print(eachP)\n",
    "    print('--------------------------------------------------------')"
   ],
   "metadata": {
    "collapsed": false,
    "pycharm": {
     "name": "#%%\n"
    }
   }
  },
  {
   "cell_type": "code",
   "execution_count": 9,
   "outputs": [
    {
     "name": "stdout",
     "output_type": "stream",
     "text": [
      "Federal arrest warrant issued for Brian Laundrie in Gabby Petito investigation - NBC News\n",
      "<link>https://news.google.com/__i/rss/rd/articles/CBMifWh0dHBzOi8vd3d3Lm5iY25ld3MuY29tL25ld3MvdXMtbmV3cy9mZWRlcmFsLWFycmVzdC13YXJyYW50LWlzc3VlZC1icmlhbi1sYXVuZHJpZS1yZWxhdGVkLWdhYmJ5LXBldGl0by1pbnZlc3RpZ2F0aW9uLW4xMjc5OTg20gEsaHR0cHM6Ly93d3cubmJjbmV3cy5jb20vbmV3cy9hbXAvbmNuYTEyNzk5ODY?oc=5</link>\n",
      "Thu, 23 Sep 2021 23:59:00 GMT\n",
      "------------------------------------------------------------\n",
      "January 6 committee issues first subpoenas for witness testimony to four Trump loyalists - CNN\n",
      "<link>https://news.google.com/__i/rss/rd/articles/CBMiVmh0dHBzOi8vd3d3LmNubi5jb20vMjAyMS8wOS8yMy9wb2xpdGljcy9qYW51YXJ5LTYtc3VicG9lbmFzLXRydW1wLWxveWFsaXN0cy9pbmRleC5odG1s0gFaaHR0cHM6Ly9hbXAuY25uLmNvbS9jbm4vMjAyMS8wOS8yMy9wb2xpdGljcy9qYW51YXJ5LTYtc3VicG9lbmFzLXRydW1wLWxveWFsaXN0cy9pbmRleC5odG1s?oc=5</link>\n",
      "Thu, 23 Sep 2021 23:33:00 GMT\n",
      "------------------------------------------------------------\n",
      "Collierville Kroger shooting kills 2, including shooter, injures 12 more - WREG NewsChannel 3\n",
      "<link>https://news.google.com/__i/rss/rd/articles/CBMiRWh0dHBzOi8vd3d3LndyZWcuY29tL25ld3MvbG9jYWwvYWN0aXZlLXNob290ZXItb24tYnloYWxpYS1hbmQtcG9wbGFyL9IBSWh0dHBzOi8vd3d3LndyZWcuY29tL25ld3MvbG9jYWwvYWN0aXZlLXNob290ZXItb24tYnloYWxpYS1hbmQtcG9wbGFyL2FtcC8?oc=5</link>\n",
      "Thu, 23 Sep 2021 18:59:08 GMT\n",
      "------------------------------------------------------------\n",
      "U.S. Border Patrol will no longer use horses in Del Rio, Texas, after outrage over treatment of Haitian migrants - CNBC\n",
      "<link>https://news.google.com/__i/rss/rd/articles/CBMidmh0dHBzOi8vd3d3LmNuYmMuY29tLzIwMjEvMDkvMjMvYm9yZGVyLXBhdHJvbC13b250LXVzZS1ob3JzZXMtaW4tZGVsLXJpby1hZnRlci1vdXRyYWdlLW92ZXItdHJlYXRtZW50LW9mLWhhaXRpYW5zLmh0bWzSAXpodHRwczovL3d3dy5jbmJjLmNvbS9hbXAvMjAyMS8wOS8yMy9ib3JkZXItcGF0cm9sLXdvbnQtdXNlLWhvcnNlcy1pbi1kZWwtcmlvLWFmdGVyLW91dHJhZ2Utb3Zlci10cmVhdG1lbnQtb2YtaGFpdGlhbnMuaHRtbA?oc=5</link>\n",
      "Thu, 23 Sep 2021 23:04:57 GMT\n",
      "------------------------------------------------------------\n",
      "Jelani Day: Body found in Illinois River was missing Alabama A&M grad - AL.com\n",
      "<link>https://news.google.com/__i/rss/rd/articles/CBMiaWh0dHBzOi8vd3d3LmFsLmNvbS9uZXdzLzIwMjEvMDkvamVsYW5pLWRheXMtYm9keS1mb3VuZC1pbi1yaXZlci1hbGFiYW1hLWFtLWdyYWQtdmFuaXNoZWQtaW4taWxsaW5vaXMuaHRtbNIBeGh0dHBzOi8vd3d3LmFsLmNvbS9uZXdzLzIwMjEvMDkvamVsYW5pLWRheXMtYm9keS1mb3VuZC1pbi1yaXZlci1hbGFiYW1hLWFtLWdyYWQtdmFuaXNoZWQtaW4taWxsaW5vaXMuaHRtbD9vdXRwdXRUeXBlPWFtcA?oc=5</link>\n",
      "Thu, 23 Sep 2021 21:04:20 GMT\n",
      "------------------------------------------------------------\n",
      "Search for missing geologist in Arizona continues 3 months after disappearance from desert job site - Fox News\n",
      "<link>https://news.google.com/__i/rss/rd/articles/CBMiO2h0dHBzOi8vd3d3LmZveG5ld3MuY29tL3VzL21pc3NpbmctZ2VvbG9naXN0LWFyaXpvbmEtc2VhcmNo0gE_aHR0cHM6Ly93d3cuZm94bmV3cy5jb20vdXMvbWlzc2luZy1nZW9sb2dpc3QtYXJpem9uYS1zZWFyY2guYW1w?oc=5</link>\n",
      "Thu, 23 Sep 2021 18:13:53 GMT\n",
      "------------------------------------------------------------\n",
      "Education Department Awards Grant To Florida District That Defied Mask Ban : Back To School: Live Updates - NPR\n",
      "<link>https://news.google.com/__i/rss/rd/articles/CBMinwFodHRwczovL3d3dy5ucHIub3JnL3NlY3Rpb25zL2JhY2stdG8tc2Nob29sLWxpdmUtdXBkYXRlcy8yMDIxLzA5LzIzLzEwNDAyMTIzNzEvZWR1Y2F0aW9uLWRlcHQtd2lsbC1yZWltYnVyc2UtZmxvcmlkYS1kaXN0cmljdC10aGF0LWhhZC1mdW5kcy1oZWxkLW92ZXItbWFzay1tYW7SAQA?oc=5</link>\n",
      "Thu, 23 Sep 2021 20:40:08 GMT\n",
      "------------------------------------------------------------\n",
      "House Approves Funding for Israel's Iron Dome - The New York Times\n",
      "<link>https://news.google.com/__i/rss/rd/articles/CBMiTWh0dHBzOi8vd3d3Lm55dGltZXMuY29tLzIwMjEvMDkvMjMvdXMvcG9saXRpY3MvaXNyYWVsLWlyb24tZG9tZS1jb25ncmVzcy5odG1s0gFRaHR0cHM6Ly93d3cubnl0aW1lcy5jb20vMjAyMS8wOS8yMy91cy9wb2xpdGljcy9pc3JhZWwtaXJvbi1kb21lLWNvbmdyZXNzLmFtcC5odG1s?oc=5</link>\n",
      "Fri, 24 Sep 2021 01:11:57 GMT\n",
      "------------------------------------------------------------\n",
      "Nancy Pelosi, Mick Jagger and the $3.5 trillion social spending bill - Fox News\n",
      "<link>https://news.google.com/__i/rss/rd/articles/CBMiaWh0dHBzOi8vd3d3LmZveG5ld3MuY29tL3BvbGl0aWNzL2hpdGNoaGlrZXJzLWd1aWRlLW5hbmN5LXBlbG9zaS1taWNrLWphZ2dlci10cmlsbGlvbi1zb2NpYWwtc3BlbmRpbmctYmlsbNIBbWh0dHBzOi8vd3d3LmZveG5ld3MuY29tL3BvbGl0aWNzL2hpdGNoaGlrZXJzLWd1aWRlLW5hbmN5LXBlbG9zaS1taWNrLWphZ2dlci10cmlsbGlvbi1zb2NpYWwtc3BlbmRpbmctYmlsbC5hbXA?oc=5</link>\n",
      "Thu, 23 Sep 2021 23:36:31 GMT\n",
      "------------------------------------------------------------\n",
      "Biden could owe as much as $500K in back taxes, government report indicates - New York Post \n",
      "<link>https://news.google.com/__i/rss/rd/articles/CBMiUmh0dHBzOi8vbnlwb3N0LmNvbS8yMDIxLzA5LzIzL2JpZGVuLWNvdWxkLW93ZS1hcy1tdWNoLWFzLTUwMGstaW4taXJzLXRheGVzLXJlcG9ydC_SAVZodHRwczovL255cG9zdC5jb20vMjAyMS8wOS8yMy9iaWRlbi1jb3VsZC1vd2UtYXMtbXVjaC1hcy01MDBrLWluLWlycy10YXhlcy1yZXBvcnQvYW1wLw?oc=5</link>\n",
      "Thu, 23 Sep 2021 22:00:00 GMT\n",
      "------------------------------------------------------------\n",
      "Catalan Separatist Leader, Carles Puigdemont, Arrested in Italy - The New York Times\n",
      "<link>https://news.google.com/__i/rss/rd/articles/CBMiXmh0dHBzOi8vd3d3Lm55dGltZXMuY29tLzIwMjEvMDkvMjMvd29ybGQvZXVyb3BlL3B1aWdkZW1vbnQtYXJyZXN0ZWQtY2F0YWxvbmlhLXNwYWluLWl0YWx5Lmh0bWzSAWJodHRwczovL3d3dy5ueXRpbWVzLmNvbS8yMDIxLzA5LzIzL3dvcmxkL2V1cm9wZS9wdWlnZGVtb250LWFycmVzdGVkLWNhdGFsb25pYS1zcGFpbi1pdGFseS5hbXAuaHRtbA?oc=5</link>\n",
      "Thu, 23 Sep 2021 23:25:20 GMT\n",
      "------------------------------------------------------------\n",
      "Taliban announce hunt for ancient treasure - Yahoo News\n",
      "<link>https://news.google.com/__i/rss/rd/articles/CBMiTGh0dHBzOi8vbmV3cy55YWhvby5jb20vdGFsaWJhbi1hbm5vdW5jZS1odW50LWFuY2llbnQtdHJlYXN1cmUtMjAyOTAwNjYyLmh0bWzSAVRodHRwczovL25ld3MueWFob28uY29tL2FtcGh0bWwvdGFsaWJhbi1hbm5vdW5jZS1odW50LWFuY2llbnQtdHJlYXN1cmUtMjAyOTAwNjYyLmh0bWw?oc=5</link>\n",
      "Thu, 23 Sep 2021 20:29:00 GMT\n",
      "------------------------------------------------------------\n",
      "Biden is bringing together Japan, Australia and India to stare down China - CNN\n",
      "<link>https://news.google.com/__i/rss/rd/articles/CBMiW2h0dHBzOi8vd3d3LmNubi5jb20vMjAyMS8wOS8yMy9hc2lhL3VzLWNoaW5hLWluZGlhLWF1c3RyYWxpYS1qYXBhbi1xdWFkLWludGwtaG5rL2luZGV4Lmh0bWzSAV9odHRwczovL2FtcC5jbm4uY29tL2Nubi8yMDIxLzA5LzIzL2FzaWEvdXMtY2hpbmEtaW5kaWEtYXVzdHJhbGlhLWphcGFuLXF1YWQtaW50bC1obmsvaW5kZXguaHRtbA?oc=5</link>\n",
      "Fri, 24 Sep 2021 00:08:00 GMT\n",
      "------------------------------------------------------------\n",
      "China sends jets and bombers near Taiwan as Beijing opposes island’s trade deal bid - The Guardian\n",
      "<link>https://news.google.com/__i/rss/rd/articles/CBMigAFodHRwczovL3d3dy50aGVndWFyZGlhbi5jb20vd29ybGQvMjAyMS9zZXAvMjQvY2hpbmEtc2VuZHMtamV0cy1hbmQtYm9tYmVycy1uZWFyLXRhaXdhbi1hcy1iZWlqaW5nLW9wcG9zZXMtaXNsYW5kcy10cmFkZS1kZWFsLWJpZNIBgAFodHRwczovL2FtcC50aGVndWFyZGlhbi5jb20vd29ybGQvMjAyMS9zZXAvMjQvY2hpbmEtc2VuZHMtamV0cy1hbmQtYm9tYmVycy1uZWFyLXRhaXdhbi1hcy1iZWlqaW5nLW9wcG9zZXMtaXNsYW5kcy10cmFkZS1kZWFsLWJpZA?oc=5</link>\n",
      "Fri, 24 Sep 2021 00:02:00 GMT\n",
      "------------------------------------------------------------\n",
      "CDC recommends Pfizer booster shots - Fox News\n",
      "<link>https://news.google.com/__i/rss/rd/articles/CBMiPmh0dHBzOi8vd3d3LmZveG5ld3MuY29tL3VzL2NkYy1yZWNvbW1lbmRzLXBmaXplci1ib29zdGVyLXNob3Rz0gFCaHR0cHM6Ly93d3cuZm94bmV3cy5jb20vdXMvY2RjLXJlY29tbWVuZHMtcGZpemVyLWJvb3N0ZXItc2hvdHMuYW1w?oc=5</link>\n",
      "Thu, 23 Sep 2021 22:53:57 GMT\n",
      "------------------------------------------------------------\n",
      "Japan's Nikkei 225 jumps about 2% as investors seek clarity on Evergrande situation - CNBC\n",
      "<link>https://news.google.com/__i/rss/rd/articles/CBMiV2h0dHBzOi8vd3d3LmNuYmMuY29tLzIwMjEvMDkvMjQvYXNpYS1tYXJrZXRzLWNoaW5hLWV2ZXJncmFuZGUtZ3JvdXAtY3VycmVuY2llcy1vaWwuaHRtbNIBW2h0dHBzOi8vd3d3LmNuYmMuY29tL2FtcC8yMDIxLzA5LzI0L2FzaWEtbWFya2V0cy1jaGluYS1ldmVyZ3JhbmRlLWdyb3VwLWN1cnJlbmNpZXMtb2lsLmh0bWw?oc=5</link>\n",
      "Thu, 23 Sep 2021 23:41:12 GMT\n",
      "------------------------------------------------------------\n",
      "Boppy Baby Pillow Recalled After Deaths Of 8 Infants - NPR\n",
      "<link>https://news.google.com/__i/rss/rd/articles/CBMidmh0dHBzOi8vd3d3Lm5wci5vcmcvMjAyMS8wOS8yMy8xMDQwMjAzMTUwL2JvcHB5LXJlY2FsbC1pbmZhbnQtYmFieS1kZWF0aHMtc3VmZm9jYXRpb24tcmlzay1zbGVlcD9mdD1ucHJtbCZmPTEwNDAyMDMxNTDSAQA?oc=5</link>\n",
      "Thu, 23 Sep 2021 20:34:01 GMT\n",
      "------------------------------------------------------------\n",
      "Stock market news live updates: Stock futures steady after S&P 500's best day since July - Yahoo Finance\n",
      "<link>https://news.google.com/__i/rss/rd/articles/CBMiXmh0dHBzOi8vZmluYW5jZS55YWhvby5jb20vbmV3cy9zdG9jay1tYXJrZXQtbmV3cy1saXZlLXVwZGF0ZXMtc2VwdGVtYmVyLTI0LTIwMjEtMjI0MDUyNTU0Lmh0bWzSAWZodHRwczovL2ZpbmFuY2UueWFob28uY29tL2FtcGh0bWwvbmV3cy9zdG9jay1tYXJrZXQtbmV3cy1saXZlLXVwZGF0ZXMtc2VwdGVtYmVyLTI0LTIwMjEtMjI0MDUyNTU0Lmh0bWw?oc=5</link>\n",
      "Thu, 23 Sep 2021 22:40:52 GMT\n",
      "------------------------------------------------------------\n",
      "Nintendo Direct September 2021: the biggest announcements and trailers - The Verge\n",
      "<link>https://news.google.com/__i/rss/rd/articles/CBMiYWh0dHBzOi8vd3d3LnRoZXZlcmdlLmNvbS8yMDIxLzkvMjMvMjI2ODk0NjIvbmludGVuZG8tZGlyZWN0LXNlcHRlbWJlci0yMDIxLXRyYWlsZXJzLWFubm91bmNlbWVudHPSAW5odHRwczovL3d3dy50aGV2ZXJnZS5jb20vcGxhdGZvcm0vYW1wLzIwMjEvOS8yMy8yMjY4OTQ2Mi9uaW50ZW5kby1kaXJlY3Qtc2VwdGVtYmVyLTIwMjEtdHJhaWxlcnMtYW5ub3VuY2VtZW50cw?oc=5</link>\n",
      "Thu, 23 Sep 2021 22:57:59 GMT\n",
      "------------------------------------------------------------\n",
      "Walmart PS5 and Halo Xbox Series X restock now live — how to get yours - Tom's Guide\n",
      "<link>https://news.google.com/__i/rss/rd/articles/CBMic2h0dHBzOi8vd3d3LnRvbXNndWlkZS5jb20vbmV3cy93YWxtYXJ0LXdpbGwtaGF2ZS1wczUtYW5kLWhhbG8teGJveC1zZXJpZXMteC1yZXN0b2NrLXRvZGF5LXRpbWUtYW5kLWhvdy10by1nZXQteW91cnPSAXdodHRwczovL3d3dy50b21zZ3VpZGUuY29tL2FtcC9uZXdzL3dhbG1hcnQtd2lsbC1oYXZlLXBzNS1hbmQtaGFsby14Ym94LXNlcmllcy14LXJlc3RvY2stdG9kYXktdGltZS1hbmQtaG93LXRvLWdldC15b3Vycw?oc=5</link>\n",
      "Fri, 24 Sep 2021 01:09:28 GMT\n",
      "------------------------------------------------------------\n",
      "Docking a Surface Pen to your Surface Duo 2 phone will cost $65 - The Verge\n",
      "<link>https://news.google.com/__i/rss/rd/articles/CBMiX2h0dHBzOi8vd3d3LnRoZXZlcmdlLmNvbS8yMDIxLzkvMjMvMjI2OTA1NjUvc3VyZmFjZS1kdW8tMi1wZW4tY292ZXItcHJpY2UtcmVsZWFzZS1kYXRlLXNsaW0tcGVu0gFsaHR0cHM6Ly93d3cudGhldmVyZ2UuY29tL3BsYXRmb3JtL2FtcC8yMDIxLzkvMjMvMjI2OTA1NjUvc3VyZmFjZS1kdW8tMi1wZW4tY292ZXItcHJpY2UtcmVsZWFzZS1kYXRlLXNsaW0tcGVu?oc=5</link>\n",
      "Thu, 23 Sep 2021 22:42:49 GMT\n",
      "------------------------------------------------------------\n",
      "First iPhone 13 pre-orders now arriving to customers around the world - 9to5Mac\n",
      "<link>https://news.google.com/__i/rss/rd/articles/CBMiQWh0dHBzOi8vOXRvNW1hYy5jb20vMjAyMS8wOS8yMy9pcGhvbmUtMTMtcHJlLW9yZGVycy1ub3ctYXJyaXZpbmcv0gFFaHR0cHM6Ly85dG81bWFjLmNvbS8yMDIxLzA5LzIzL2lwaG9uZS0xMy1wcmUtb3JkZXJzLW5vdy1hcnJpdmluZy9hbXAv?oc=5</link>\n",
      "Thu, 23 Sep 2021 21:45:00 GMT\n",
      "------------------------------------------------------------\n",
      "Harry hits bar at $1,300-a-night NYC hotel for second night in a row but Meghan nowhere to be seen - Daily Mail\n",
      "<link>https://news.google.com/__i/rss/rd/articles/CBMieGh0dHBzOi8vd3d3LmRhaWx5bWFpbC5jby51ay9uZXdzL2FydGljbGUtMTAwMjMwNTUvSGFycnktaGl0cy1iYXItMS0zMDAtbmlnaHQtTllDLWhvdGVsLXNlY29uZC1uaWdodC1yb3ctTWVnaGFuLXNlZW4uaHRtbNIBfGh0dHBzOi8vd3d3LmRhaWx5bWFpbC5jby51ay9uZXdzL2FydGljbGUtMTAwMjMwNTUvYW1wL0hhcnJ5LWhpdHMtYmFyLTEtMzAwLW5pZ2h0LU5ZQy1ob3RlbC1zZWNvbmQtbmlnaHQtcm93LU1lZ2hhbi1zZWVuLmh0bWw?oc=5</link>\n",
      "Thu, 23 Sep 2021 23:28:38 GMT\n",
      "------------------------------------------------------------\n",
      "Willie Garson's cause of death confirmed - Fox News\n",
      "<link>https://news.google.com/__i/rss/rd/articles/CBMiTGh0dHBzOi8vd3d3LmZveG5ld3MuY29tL2VudGVydGFpbm1lbnQvd2lsbGllLWdhcnNvbi1jYXVzZS1vZi1kZWF0aC1jb25maXJtZWTSAVBodHRwczovL3d3dy5mb3huZXdzLmNvbS9lbnRlcnRhaW5tZW50L3dpbGxpZS1nYXJzb24tY2F1c2Utb2YtZGVhdGgtY29uZmlybWVkLmFtcA?oc=5</link>\n",
      "Thu, 23 Sep 2021 21:24:53 GMT\n",
      "------------------------------------------------------------\n",
      "Carole Baskin Slams ‘Tiger King 2’ After Netflix Releases Sequel Teaser - Hollywood Reporter\n",
      "<link>https://news.google.com/__i/rss/rd/articles/CBMiU2h0dHBzOi8vd3d3LmhvbGx5d29vZHJlcG9ydGVyLmNvbS90di90di1uZXdzL3RpZ2VyLWtpbmctMi1jYXJvbGUtYmFza2luLTEyMzUwMTk1MDgv0gFXaHR0cHM6Ly93d3cuaG9sbHl3b29kcmVwb3J0ZXIuY29tL3R2L3R2LW5ld3MvdGlnZXIta2luZy0yLWNhcm9sZS1iYXNraW4tMTIzNTAxOTUwOC9hbXAv?oc=5</link>\n",
      "Thu, 23 Sep 2021 18:46:42 GMT\n",
      "------------------------------------------------------------\n",
      "Foundation: Dark Knight writer David Goyer explains 4 key things to know - Polygon\n",
      "<link>https://news.google.com/__i/rss/rd/articles/CBMiXWh0dHBzOi8vd3d3LnBvbHlnb24uY29tLzIyNjg5NzM1L2ZvdW5kYXRpb24tYXBwbGUtdHYtZXBpc29kZXMtOC1zZWFzb25zLWRhdmlkLWdveWVyLWludGVydmlld9IBamh0dHBzOi8vd3d3LnBvbHlnb24uY29tL3BsYXRmb3JtL2FtcC8yMjY4OTczNS9mb3VuZGF0aW9uLWFwcGxlLXR2LWVwaXNvZGVzLTgtc2Vhc29ucy1kYXZpZC1nb3llci1pbnRlcnZpZXc?oc=5</link>\n",
      "Thu, 23 Sep 2021 19:00:00 GMT\n",
      "------------------------------------------------------------\n",
      "Christian McCaffrey ruled out of Panthers-Texans game with hamstring injury - Yahoo Sports\n",
      "<link>https://news.google.com/__i/rss/rd/articles/CBMidGh0dHBzOi8vc3BvcnRzLnlhaG9vLmNvbS9jaHJpc3RpYW4tbWMtY2FmZnJleS1ydWxlZC1vdXQtb2YtcGFudGhlcnMtdGV4YW5zLWdhbWUtd2l0aC1oYW1zdHJpbmctaW5qdXJ5LTAxMTA0NDQ4My5odG1s0gF8aHR0cHM6Ly9zcG9ydHMueWFob28uY29tL2FtcGh0bWwvY2hyaXN0aWFuLW1jLWNhZmZyZXktcnVsZWQtb3V0LW9mLXBhbnRoZXJzLXRleGFucy1nYW1lLXdpdGgtaGFtc3RyaW5nLWluanVyeS0wMTEwNDQ0ODMuaHRtbA?oc=5</link>\n",
      "Fri, 24 Sep 2021 01:10:00 GMT\n",
      "------------------------------------------------------------\n",
      "Fantasy Football Injury Report: Andy Dalton, Antonio Gibson, and Josh Jacobs injury updates - Pro Football Network\n",
      "<link>https://news.google.com/__i/rss/rd/articles/CBMiZGh0dHBzOi8vd3d3LnByb2Zvb3RiYWxsbmV0d29yay5jb20vZmFudGFzeS1mb290YmFsbC1pbmp1cnktcmVwb3J0LWRhbHRvbi1naWJzb24tamFjb2JzLTIwMjEtbmZsd2stMy_SAQA?oc=5</link>\n",
      "Thu, 23 Sep 2021 13:45:57 GMT\n",
      "------------------------------------------------------------\n",
      "NFL Week 3 picks, odds: Eagles upset Cowboys, Bucs topple Rams, Dolphins surprise Raiders - CBS Sports\n",
      "<link>https://news.google.com/__i/rss/rd/articles/CBMieWh0dHBzOi8vd3d3LmNic3Nwb3J0cy5jb20vbmZsL25ld3MvbmZsLXdlZWstMy1waWNrcy1vZGRzLWVhZ2xlcy11cHNldC1jb3dib3lzLWJ1Y3MtdG9wcGxlLXJhbXMtZG9scGhpbnMtc3VycHJpc2UtcmFpZGVycy_SAX1odHRwczovL3d3dy5jYnNzcG9ydHMuY29tL25mbC9uZXdzL25mbC13ZWVrLTMtcGlja3Mtb2Rkcy1lYWdsZXMtdXBzZXQtY293Ym95cy1idWNzLXRvcHBsZS1yYW1zLWRvbHBoaW5zLXN1cnByaXNlLXJhaWRlcnMvYW1wLw?oc=5</link>\n",
      "Thu, 23 Sep 2021 19:55:00 GMT\n",
      "------------------------------------------------------------\n",
      "Timberwolves' toxic office environment, interoffice relationship led to Gersson Rosas' firing - USA TODAY\n",
      "<link>https://news.google.com/__i/rss/rd/articles/CBMiiwFodHRwczovL3d3dy51c2F0b2RheS5jb20vc3Rvcnkvc3BvcnRzL25iYS90d29sdmVzLzIwMjEvMDkvMjMvdHdvbHZlcy1maXJlZC1nZXJzc29uLXJvc2FzLXRveGljLWN1bHR1cmUtaW50ZXJvZmZpY2UtcmVsYXRpb25zaGlwLzU4Mjg0ODUwMDEv0gEnaHR0cHM6Ly9hbXAudXNhdG9kYXkuY29tL2FtcC81ODI4NDg1MDAx?oc=5</link>\n",
      "Thu, 23 Sep 2021 18:00:00 GMT\n",
      "------------------------------------------------------------\n",
      "Oldest human footprints in North America found in New Mexico - Yahoo News\n",
      "<link>https://news.google.com/__i/rss/rd/articles/CBMiS2h0dHBzOi8vbmV3cy55YWhvby5jb20vb2xkZXN0LWh1bWFuLWZvb3RwcmludHMtbm9ydGgtYW1lcmljYS0yMjUxMDY1OTAuaHRtbNIBU2h0dHBzOi8vbmV3cy55YWhvby5jb20vYW1waHRtbC9vbGRlc3QtaHVtYW4tZm9vdHByaW50cy1ub3J0aC1hbWVyaWNhLTIyNTEwNjU5MC5odG1s?oc=5</link>\n",
      "Thu, 23 Sep 2021 22:51:06 GMT\n",
      "------------------------------------------------------------\n",
      "NASA's InSight lander detects 90-minute Mars quake, its first big ones - Business Insider\n",
      "<link>https://news.google.com/__i/rss/rd/articles/CBMiUmh0dHBzOi8vd3d3LmJ1c2luZXNzaW5zaWRlci5jb20vbmFzYS1pbnNpZ2h0LWxhbmRlci1kZXRlY3RzLWJpZy1tYXJzLXF1YWtlcy0yMDIxLTnSAVZodHRwczovL3d3dy5idXNpbmVzc2luc2lkZXIuY29tL25hc2EtaW5zaWdodC1sYW5kZXItZGV0ZWN0cy1iaWctbWFycy1xdWFrZXMtMjAyMS05P2FtcA?oc=5</link>\n",
      "Thu, 23 Sep 2021 22:42:24 GMT\n",
      "------------------------------------------------------------\n",
      "Carbon dioxide reactor makes Martian fuel - Phys.org\n",
      "<link>https://news.google.com/__i/rss/rd/articles/CBMiRmh0dHBzOi8vcGh5cy5vcmcvbmV3cy8yMDIxLTA5LWNhcmJvbi1kaW94aWRlLXJlYWN0b3ItbWFydGlhbi1mdWVsLmh0bWzSAUVodHRwczovL3BoeXMub3JnL25ld3MvMjAyMS0wOS1jYXJib24tZGlveGlkZS1yZWFjdG9yLW1hcnRpYW4tZnVlbC5hbXA?oc=5</link>\n",
      "Thu, 23 Sep 2021 17:04:19 GMT\n",
      "------------------------------------------------------------\n",
      "Hubble Space Telescope finds 6 dead galaxies, as expert says 'all galaxies' should be forming stars - Daily Mail\n",
      "<link>https://news.google.com/__i/rss/rd/articles/CBMijQFodHRwczovL3d3dy5kYWlseW1haWwuY28udWsvc2NpZW5jZXRlY2gvYXJ0aWNsZS0xMDAyMTM4MS9IdWJibGUtU3BhY2UtVGVsZXNjb3BlLWZpbmRzLTYtZGVhZC1nYWxheGllcy1leHBlcnQtc2F5cy1nYWxheGllcy1mb3JtaW5nLXN0YXJzLmh0bWzSAZEBaHR0cHM6Ly93d3cuZGFpbHltYWlsLmNvLnVrL3NjaWVuY2V0ZWNoL2FydGljbGUtMTAwMjEzODEvYW1wL0h1YmJsZS1TcGFjZS1UZWxlc2NvcGUtZmluZHMtNi1kZWFkLWdhbGF4aWVzLWV4cGVydC1zYXlzLWdhbGF4aWVzLWZvcm1pbmctc3RhcnMuaHRtbA?oc=5</link>\n",
      "Thu, 23 Sep 2021 15:21:27 GMT\n",
      "------------------------------------------------------------\n",
      "What’s A ‘Race-Free’ Approach to Diagnosing Kidney Disease? - The New York Times\n",
      "<link>https://news.google.com/__i/rss/rd/articles/CBMiTGh0dHBzOi8vd3d3Lm55dGltZXMuY29tLzIwMjEvMDkvMjMvaGVhbHRoL2tpZG5leS1kaXNlYXNlLWJsYWNrLXBhdGllbnRzLmh0bWzSAVBodHRwczovL3d3dy5ueXRpbWVzLmNvbS8yMDIxLzA5LzIzL2hlYWx0aC9raWRuZXktZGlzZWFzZS1ibGFjay1wYXRpZW50cy5hbXAuaHRtbA?oc=5</link>\n",
      "Thu, 23 Sep 2021 16:30:09 GMT\n",
      "------------------------------------------------------------\n",
      "Is the R.1 variant in the Bay Area? What to know about the highly mutated COVID strain - San Francisco Chronicle\n",
      "<link>https://news.google.com/__i/rss/rd/articles/CBMiZ2h0dHBzOi8vd3d3LnNmY2hyb25pY2xlLmNvbS9oZWFsdGgvYXJ0aWNsZS9Jcy10aGUtUi0xLXZhcmlhbnQtaW4tdGhlLUJheS1BcmVhLVdoYXQtdG8ta25vdy0xNjQ4MzE4NS5waHDSAQA?oc=5</link>\n",
      "Thu, 23 Sep 2021 23:03:32 GMT\n",
      "------------------------------------------------------------\n",
      "Nearly 1600 new COVID-19 cases reported in Utah Thursday, 19 deaths - KSL.com\n",
      "<link>https://news.google.com/__i/rss/rd/articles/CBMiZ2h0dHBzOi8vd3d3LmtzbC5jb20vYXJ0aWNsZS81MDI0Nzk0My9uZWFybHktMTYwMC1uZXctY292aWQtMTktY2FzZXMtcmVwb3J0ZWQtaW4tdXRhaC10aHVyc2RheS0xOS1kZWF0aHPSAQA?oc=5</link>\n",
      "Thu, 23 Sep 2021 19:54:14 GMT\n",
      "------------------------------------------------------------\n",
      "Canadian man punches nurse in the face multiple times after his wife is vaccinated for Covid-19 without his consent - East Idaho News\n",
      "<link>https://news.google.com/__i/rss/rd/articles/CBMimgFodHRwczovL3d3dy5lYXN0aWRhaG9uZXdzLmNvbS8yMDIxLzA5L2NhbmFkaWFuLW1hbi1wdW5jaGVzLW51cnNlLWluLXRoZS1mYWNlLW11bHRpcGxlLXRpbWVzLWFmdGVyLWhpcy13aWZlLWlzLXZhY2NpbmF0ZWQtZm9yLWNvdmlkLTE5LXdpdGhvdXQtaGlzLWNvbnNlbnQv0gEA?oc=5</link>\n",
      "Thu, 23 Sep 2021 18:22:00 GMT\n",
      "------------------------------------------------------------\n",
      "time: 632 ms (started: 2021-09-24 08:59:48 +07:00)\n"
     ]
    }
   ],
   "source": [
    "# Cao du lieu qua web xml rss\n",
    "import bs4\n",
    "from bs4 import BeautifulSoup as soup\n",
    "from urllib.request import urlopen\n",
    "\n",
    "news_url = \"https://news.google.com/news/rss\"\n",
    "Client = urlopen(news_url)\n",
    "xml_page = Client.read()\n",
    "Client.close()\n",
    "\n",
    "soup_page = soup(xml_page, 'xml')\n",
    "news_list = soup_page.findAll(\"item\")\n",
    "# Print news title, url and publish date\n",
    "for news in news_list:\n",
    "    print(news.title.text)\n",
    "    print(news.link)\n",
    "    print(news.pubDate.text)\n",
    "    print(\"-\" * 60)"
   ],
   "metadata": {
    "collapsed": false,
    "pycharm": {
     "name": "#%%\n"
    }
   }
  },
  {
   "cell_type": "code",
   "execution_count": 16,
   "outputs": [
    {
     "name": "stdout",
     "output_type": "stream",
     "text": [
      "1.4.25\n",
      "time: 1.87 ms (started: 2021-09-24 09:00:01 +07:00)\n"
     ]
    }
   ],
   "source": [
    "# Cao du lieu qua co so du lieu\n",
    "import sqlalchemy\n",
    "\n",
    "print(sqlalchemy.__version__)"
   ],
   "metadata": {
    "collapsed": false,
    "pycharm": {
     "name": "#%%\n"
    }
   }
  },
  {
   "cell_type": "code",
   "execution_count": 17,
   "outputs": [
    {
     "name": "stdout",
     "output_type": "stream",
     "text": [
      "time: 1.06 ms (started: 2021-09-24 09:00:03 +07:00)\n"
     ]
    }
   ],
   "source": [
    "from sqlalchemy import create_engine\n",
    "\n",
    "engine = create_engine('sqlite:///:memory:', echo=True)"
   ],
   "metadata": {
    "collapsed": false,
    "pycharm": {
     "name": "#%%\n"
    }
   }
  },
  {
   "cell_type": "code",
   "execution_count": 18,
   "outputs": [
    {
     "name": "stdout",
     "output_type": "stream",
     "text": [
      "2021-09-24 09:00:04,148 INFO sqlalchemy.engine.Engine BEGIN (implicit)\n",
      "2021-09-24 09:00:04,150 INFO sqlalchemy.engine.Engine PRAGMA main.table_info(\"users\")\n",
      "2021-09-24 09:00:04,152 INFO sqlalchemy.engine.Engine [raw sql] ()\n",
      "2021-09-24 09:00:04,154 INFO sqlalchemy.engine.Engine PRAGMA temp.table_info(\"users\")\n",
      "2021-09-24 09:00:04,156 INFO sqlalchemy.engine.Engine [raw sql] ()\n",
      "2021-09-24 09:00:04,159 INFO sqlalchemy.engine.Engine PRAGMA main.table_info(\"addresses\")\n",
      "2021-09-24 09:00:04,160 INFO sqlalchemy.engine.Engine [raw sql] ()\n",
      "2021-09-24 09:00:04,161 INFO sqlalchemy.engine.Engine PRAGMA temp.table_info(\"addresses\")\n",
      "2021-09-24 09:00:04,162 INFO sqlalchemy.engine.Engine [raw sql] ()\n",
      "2021-09-24 09:00:04,164 INFO sqlalchemy.engine.Engine \n",
      "CREATE TABLE users (\n",
      "\tid INTEGER NOT NULL, \n",
      "\tname VARCHAR, \n",
      "\tfullname VARCHAR, \n",
      "\tPRIMARY KEY (id)\n",
      ")\n",
      "\n",
      "\n",
      "2021-09-24 09:00:04,165 INFO sqlalchemy.engine.Engine [no key 0.00102s] ()\n",
      "2021-09-24 09:00:04,166 INFO sqlalchemy.engine.Engine \n",
      "CREATE TABLE addresses (\n",
      "\tid INTEGER NOT NULL, \n",
      "\tuser_id INTEGER, \n",
      "\temail_address VARCHAR NOT NULL, \n",
      "\tPRIMARY KEY (id), \n",
      "\tFOREIGN KEY(user_id) REFERENCES users (id)\n",
      ")\n",
      "\n",
      "\n",
      "2021-09-24 09:00:04,168 INFO sqlalchemy.engine.Engine [no key 0.00207s] ()\n",
      "2021-09-24 09:00:04,171 INFO sqlalchemy.engine.Engine COMMIT\n",
      "time: 27.2 ms (started: 2021-09-24 09:00:04 +07:00)\n"
     ]
    }
   ],
   "source": [
    "from sqlalchemy import Table, Column, Integer, String, MetaData, ForeignKey\n",
    "\n",
    "metadata = MetaData()\n",
    "users = Table('users', metadata,\n",
    "              Column('id', Integer, primary_key=True),\n",
    "              Column('name', String),\n",
    "              Column('fullname', String),\n",
    "              )\n",
    "\n",
    "addresses = Table('addresses', metadata,\n",
    "                  Column('id', Integer, primary_key=True),\n",
    "                  Column('user_id', None, ForeignKey('users.id')),\n",
    "                  Column('email_address', String, nullable=False))\n",
    "metadata.create_all(engine)"
   ],
   "metadata": {
    "collapsed": false,
    "pycharm": {
     "name": "#%%\n"
    }
   }
  },
  {
   "cell_type": "code",
   "execution_count": 19,
   "outputs": [
    {
     "name": "stdout",
     "output_type": "stream",
     "text": [
      "INSERT INTO users (name, fullname) VALUES (:name, :fullname)\n",
      "{'name': 'jack', 'fullname': 'Jack Jones'}\n",
      "2021-09-24 09:00:05,630 INFO sqlalchemy.engine.Engine INSERT INTO users (name, fullname) VALUES (?, ?)\n",
      "2021-09-24 09:00:05,632 INFO sqlalchemy.engine.Engine [generated in 0.00243s] ('jack', 'Jack Jones')\n",
      "2021-09-24 09:00:05,634 INFO sqlalchemy.engine.Engine COMMIT\n",
      "<sqlalchemy.engine.cursor.LegacyCursorResult object at 0x10eadf670>\n",
      "INSERT INTO users (name, fullname) VALUES (?, ?)\n",
      "(1,)\n",
      "time: 10.7 ms (started: 2021-09-24 09:00:05 +07:00)\n"
     ]
    }
   ],
   "source": [
    "# insert\n",
    "ins = users.insert().values(name='jack', fullname='Jack Jones')\n",
    "print(str(ins))\n",
    "print(ins.compile().params)\n",
    "\n",
    "conn = engine.connect()\n",
    "result = conn.execute(ins)\n",
    "print(result)\n",
    "ins.bind = engine\n",
    "print(str(ins))\n",
    "print(result.inserted_primary_key)\n",
    "\n",
    "### Du lieu duoc tao o dau /tmp"
   ],
   "metadata": {
    "collapsed": false,
    "pycharm": {
     "name": "#%%\n"
    }
   }
  },
  {
   "cell_type": "code",
   "execution_count": 20,
   "outputs": [
    {
     "name": "stdout",
     "output_type": "stream",
     "text": [
      "2021-09-24 09:00:07,498 INFO sqlalchemy.engine.Engine INSERT INTO users (id, name, fullname) VALUES (?, ?, ?)\n",
      "2021-09-24 09:00:07,501 INFO sqlalchemy.engine.Engine [generated in 0.00276s] (2, 'wendy', 'Wendy Williams')\n",
      "2021-09-24 09:00:07,503 INFO sqlalchemy.engine.Engine COMMIT\n",
      "2021-09-24 09:00:07,505 INFO sqlalchemy.engine.Engine INSERT INTO addresses (user_id, email_address) VALUES (?, ?)\n",
      "2021-09-24 09:00:07,507 INFO sqlalchemy.engine.Engine [generated in 0.00142s] ((1, 'jack@yahoo.com'), (1, 'jack@msn.com'), (2, 'www@www.org'), (2, 'wendy@aol.com'))\n",
      "2021-09-24 09:00:07,508 INFO sqlalchemy.engine.Engine COMMIT\n"
     ]
    },
    {
     "data": {
      "text/plain": "<sqlalchemy.engine.cursor.LegacyCursorResult at 0x10e81e430>"
     },
     "execution_count": 20,
     "metadata": {},
     "output_type": "execute_result"
    },
    {
     "name": "stdout",
     "output_type": "stream",
     "text": [
      "time: 16.7 ms (started: 2021-09-24 09:00:07 +07:00)\n"
     ]
    }
   ],
   "source": [
    "# multi insert\n",
    "ins = users.insert()\n",
    "conn.execute(ins, id=2, name='wendy', fullname='Wendy Williams')\n",
    "conn.execute(addresses.insert(), [\n",
    "    {'user_id': 1, 'email_address': 'jack@yahoo.com'},\n",
    "    {'user_id': 1, 'email_address': 'jack@msn.com'},\n",
    "    {'user_id': 2, 'email_address': 'www@www.org'},\n",
    "    {'user_id': 2, 'email_address': 'wendy@aol.com'},\n",
    "])\n"
   ],
   "metadata": {
    "collapsed": false,
    "pycharm": {
     "name": "#%%\n"
    }
   }
  },
  {
   "cell_type": "code",
   "execution_count": 21,
   "outputs": [
    {
     "name": "stdout",
     "output_type": "stream",
     "text": [
      "2021-09-24 09:00:09,809 INFO sqlalchemy.engine.Engine SELECT users.id, users.name, users.fullname \n",
      "FROM users\n",
      "2021-09-24 09:00:09,812 INFO sqlalchemy.engine.Engine [generated in 0.00277s] ()\n",
      "<sqlalchemy.engine.cursor.LegacyCursorResult object at 0x10a789b80>\n",
      "(1, 'jack', 'Jack Jones')\n",
      "(2, 'wendy', 'Wendy Williams')\n",
      "time: 6.25 ms (started: 2021-09-24 09:00:09 +07:00)\n"
     ]
    }
   ],
   "source": [
    "# Selecting\n",
    "\n",
    "from sqlalchemy.sql import select\n",
    "s = select([users])\n",
    "result = conn.execute(s)\n",
    "print(result)\n",
    "\n",
    "for row in result:\n",
    "    print(row)"
   ],
   "metadata": {
    "collapsed": false,
    "pycharm": {
     "name": "#%%\n"
    }
   }
  },
  {
   "cell_type": "code",
   "execution_count": 25,
   "outputs": [
    {
     "name": "stdout",
     "output_type": "stream",
     "text": [
      "2021-09-24 09:02:48,888 INFO sqlalchemy.engine.Engine SELECT users.id, users.name, users.fullname \n",
      "FROM users\n",
      "2021-09-24 09:02:48,890 INFO sqlalchemy.engine.Engine [cached since 159.1s ago] ()\n",
      "name: jack ; fullname: Jack Jones\n",
      "name: wendy ; fullname: Wendy Williams\n",
      "2021-09-24 09:02:48,892 INFO sqlalchemy.engine.Engine SELECT users.id, users.name, users.fullname \n",
      "FROM users\n",
      "2021-09-24 09:02:48,893 INFO sqlalchemy.engine.Engine [cached since 159.1s ago] ()\n",
      "name: jack ; fullname: Jack Jones\n",
      "name: wendy ; fullname: Wendy Williams\n",
      "time: 9.35 ms (started: 2021-09-24 09:02:48 +07:00)\n"
     ]
    }
   ],
   "source": [
    "result = conn.execute(s)\n",
    "row = result.fetchone()\n",
    "print(\"name:\", row['name'], \"; fullname:\", row['fullname'])\n",
    "\n",
    "row = result.fetchone()\n",
    "print(\"name:\", row[1], \"; fullname:\", row[2])\n",
    "\n",
    "for row in conn.execute(s):\n",
    "    print(\"name:\", row[users.c.name], \"; fullname:\", row[users.c.fullname])\n"
   ],
   "metadata": {
    "collapsed": false,
    "pycharm": {
     "name": "#%%\n"
    }
   }
  },
  {
   "cell_type": "code",
   "execution_count": 27,
   "outputs": [
    {
     "name": "stdout",
     "output_type": "stream",
     "text": [
      "2021-09-24 09:04:26,202 INFO sqlalchemy.engine.Engine SELECT users.name, users.fullname \n",
      "FROM users\n",
      "2021-09-24 09:04:26,203 INFO sqlalchemy.engine.Engine [cached since 86s ago] ()\n",
      "('jack', 'Jack Jones')\n",
      "('wendy', 'Wendy Williams')\n",
      "time: 3.61 ms (started: 2021-09-24 09:04:26 +07:00)\n"
     ]
    }
   ],
   "source": [
    "#6- Selecting Specific Columns\n",
    "s = select([users.c.name, users.c.fullname])\n",
    "result = conn.execute(s)\n",
    "for row in result:\n",
    "    print(row)"
   ],
   "metadata": {
    "collapsed": false,
    "pycharm": {
     "name": "#%%\n"
    }
   }
  },
  {
   "cell_type": "code",
   "execution_count": 29,
   "outputs": [
    {
     "name": "stdout",
     "output_type": "stream",
     "text": [
      "users.id = addresses.user_id\n",
      "users.id = :id_1\n",
      "users.id != :id_1\n",
      "users.name IS NULL\n",
      "users.name < :name_1\n",
      "users.id + addresses.id\n",
      "users.name || users.fullname\n",
      "time: 5.78 ms (started: 2021-09-24 09:05:45 +07:00)\n"
     ]
    }
   ],
   "source": [
    "#7- Operators\n",
    "users.c.id == addresses.c.user_id\n",
    "\n",
    "print(users.c.id == addresses.c.user_id)\n",
    "\n",
    "print(users.c.id == 7)\n",
    "\n",
    "(users.c.id == 7).compile().params\n",
    "\n",
    "print(users.c.id != 7)\n",
    "\n",
    "print(users.c.name == None)\n",
    "\n",
    "print('fred' > users.c.name)\n",
    "\n",
    "print(users.c.id + addresses.c.id)\n",
    "\n",
    "print(users.c.name + users.c.fullname)"
   ],
   "metadata": {
    "collapsed": false,
    "pycharm": {
     "name": "#%%\n"
    }
   }
  },
  {
   "cell_type": "code",
   "execution_count": 30,
   "outputs": [
    {
     "name": "stdout",
     "output_type": "stream",
     "text": [
      "users.name LIKE :name_1 AND users.id = addresses.user_id AND (addresses.email_address = :email_address_1 OR addresses.email_address = :email_address_2) AND users.id <= :id_1\n",
      "time: 2.06 ms (started: 2021-09-24 09:05:55 +07:00)\n"
     ]
    }
   ],
   "source": [
    "# Conjunction\n",
    "from sqlalchemy.sql import and_, or_, not_\n",
    "print(and_(\n",
    "         users.c.name.like('j%'),\n",
    "         users.c.id == addresses.c.user_id,\n",
    "         or_(\n",
    "              addresses.c.email_address == 'wendy@aol.com',\n",
    "              addresses.c.email_address == 'jack@yahoo.com'\n",
    "         ),\n",
    "         not_(users.c.id > 5)\n",
    "       )\n",
    "  )"
   ],
   "metadata": {
    "collapsed": false,
    "pycharm": {
     "name": "#%%\n"
    }
   }
  },
  {
   "cell_type": "code",
   "execution_count": 31,
   "outputs": [
    {
     "name": "stdout",
     "output_type": "stream",
     "text": [
      "users.name LIKE :name_1 AND users.id = addresses.user_id AND (addresses.email_address = :email_address_1 OR addresses.email_address = :email_address_2) AND users.id <= :id_1\n",
      "time: 1.48 ms (started: 2021-09-24 09:06:47 +07:00)\n"
     ]
    }
   ],
   "source": [
    "print(users.c.name.like('j%') & (users.c.id == addresses.c.user_id) &\n",
    "     (\n",
    "       (addresses.c.email_address == 'wendy@aol.com') | \\\n",
    "       (addresses.c.email_address == 'jack@yahoo.com')\n",
    "     ) \\\n",
    "     & ~(users.c.id>5)\n",
    " )"
   ],
   "metadata": {
    "collapsed": false,
    "pycharm": {
     "name": "#%%\n"
    }
   }
  },
  {
   "cell_type": "code",
   "execution_count": 32,
   "outputs": [
    {
     "name": "stdout",
     "output_type": "stream",
     "text": [
      "2021-09-24 09:07:17,038 INFO sqlalchemy.engine.Engine SELECT users.fullname || ? || addresses.email_address AS title \n",
      "FROM users, addresses \n",
      "WHERE users.id = addresses.user_id AND users.name BETWEEN ? AND ? AND (addresses.email_address LIKE ? OR addresses.email_address LIKE ?)\n",
      "2021-09-24 09:07:17,039 INFO sqlalchemy.engine.Engine [generated in 0.00113s] (', ', 'm', 'z', '%@aol.com', '%@msn.com')\n"
     ]
    },
    {
     "data": {
      "text/plain": "[('Wendy Williams, wendy@aol.com',)]"
     },
     "execution_count": 32,
     "metadata": {},
     "output_type": "execute_result"
    },
    {
     "name": "stdout",
     "output_type": "stream",
     "text": [
      "time: 6.86 ms (started: 2021-09-24 09:07:17 +07:00)\n"
     ]
    }
   ],
   "source": [
    "s = select([(users.c.fullname +\n",
    "               \", \" + addresses.c.email_address).\n",
    "                label('title')]).\\\n",
    "        where(\n",
    "           and_(\n",
    "               users.c.id == addresses.c.user_id,\n",
    "               users.c.name.between('m', 'z'),\n",
    "               or_(\n",
    "                  addresses.c.email_address.like('%@aol.com'),\n",
    "                  addresses.c.email_address.like('%@msn.com')\n",
    "               )\n",
    "           )\n",
    "        )\n",
    "conn.execute(s).fetchall()"
   ],
   "metadata": {
    "collapsed": false,
    "pycharm": {
     "name": "#%%\n"
    }
   }
  },
  {
   "cell_type": "code",
   "execution_count": 35,
   "outputs": [
    {
     "name": "stdout",
     "output_type": "stream",
     "text": [
      "2021-09-24 09:09:27,766 INFO sqlalchemy.engine.Engine SELECT users.fullname || ', ' || addresses.email_address AS title FROM users, addresses WHERE users.id = addresses.user_id AND users.name BETWEEN ? AND ? AND (addresses.email_address LIKE ? OR addresses.email_address LIKE ?)\n",
      "2021-09-24 09:09:27,767 INFO sqlalchemy.engine.Engine [cached since 45.01s ago] ('m', 'z', '%@aol.com', '%@msn.com')\n"
     ]
    },
    {
     "data": {
      "text/plain": "[('Wendy Williams, wendy@aol.com',)]"
     },
     "execution_count": 35,
     "metadata": {},
     "output_type": "execute_result"
    },
    {
     "name": "stdout",
     "output_type": "stream",
     "text": [
      "time: 4.26 ms (started: 2021-09-24 09:09:27 +07:00)\n"
     ]
    }
   ],
   "source": [
    "#8-Using Textual SQL\n",
    "from sqlalchemy.sql import text\n",
    "s = text(\n",
    "     \"SELECT users.fullname || ', ' || addresses.email_address AS title \"\n",
    "         \"FROM users, addresses \"\n",
    "         \"WHERE users.id = addresses.user_id \"\n",
    "         \"AND users.name BETWEEN :x AND :y \"\n",
    "         \"AND (addresses.email_address LIKE :e1 \"\n",
    "             \"OR addresses.email_address LIKE :e2)\")\n",
    "conn.execute(s, x='m', y='z', e1='%@aol.com', e2='%@msn.com').fetchall()"
   ],
   "metadata": {
    "collapsed": false,
    "pycharm": {
     "name": "#%%\n"
    }
   }
  },
  {
   "cell_type": "code",
   "execution_count": 36,
   "outputs": [
    {
     "name": "stdout",
     "output_type": "stream",
     "text": [
      "2021-09-24 09:09:33,113 INFO sqlalchemy.engine.Engine SELECT addresses.user_id, count(addresses.id) AS num_addresses \n",
      "FROM addresses GROUP BY addresses.user_id ORDER BY addresses.user_id, num_addresses\n",
      "2021-09-24 09:09:33,115 INFO sqlalchemy.engine.Engine [generated in 0.00158s] ()\n"
     ]
    },
    {
     "data": {
      "text/plain": "[(1, 2), (2, 2)]"
     },
     "execution_count": 36,
     "metadata": {},
     "output_type": "execute_result"
    },
    {
     "name": "stdout",
     "output_type": "stream",
     "text": [
      "time: 6.08 ms (started: 2021-09-24 09:09:33 +07:00)\n"
     ]
    }
   ],
   "source": [
    "#Ordering or Grouping by a Label\n",
    "from sqlalchemy import func\n",
    "stmt = select([\n",
    "        addresses.c.user_id,\n",
    "        func.count(addresses.c.id).label('num_addresses')]).\\\n",
    "        group_by(\"user_id\").order_by(\"user_id\", \"num_addresses\")\n",
    "\n",
    "conn.execute(stmt).fetchall()"
   ],
   "metadata": {
    "collapsed": false,
    "pycharm": {
     "name": "#%%\n"
    }
   }
  },
  {
   "cell_type": "code",
   "execution_count": 37,
   "outputs": [
    {
     "name": "stdout",
     "output_type": "stream",
     "text": [
      "2021-09-24 09:09:59,966 INFO sqlalchemy.engine.Engine SELECT addresses.user_id, count(addresses.id) AS num_addresses \n",
      "FROM addresses GROUP BY addresses.user_id ORDER BY addresses.user_id, num_addresses DESC\n",
      "2021-09-24 09:09:59,967 INFO sqlalchemy.engine.Engine [generated in 0.00131s] ()\n"
     ]
    },
    {
     "data": {
      "text/plain": "[(1, 2), (2, 2)]"
     },
     "execution_count": 37,
     "metadata": {},
     "output_type": "execute_result"
    },
    {
     "name": "stdout",
     "output_type": "stream",
     "text": [
      "time: 5.86 ms (started: 2021-09-24 09:09:59 +07:00)\n"
     ]
    }
   ],
   "source": [
    "from sqlalchemy import func, desc\n",
    "stmt = select([\n",
    "        addresses.c.user_id,\n",
    "        func.count(addresses.c.id).label('num_addresses')]).\\\n",
    "        group_by(\"user_id\").order_by(\"user_id\", desc(\"num_addresses\"))\n",
    "\n",
    "conn.execute(stmt).fetchall()"
   ],
   "metadata": {
    "collapsed": false,
    "pycharm": {
     "name": "#%%\n"
    }
   }
  },
  {
   "cell_type": "code",
   "execution_count": 39,
   "outputs": [
    {
     "name": "stdout",
     "output_type": "stream",
     "text": [
      "2021-09-24 09:11:24,671 INFO sqlalchemy.engine.Engine SELECT users_1.id, users_1.name, users_1.fullname, users_2.id AS id_1, users_2.name AS name_1, users_2.fullname AS fullname_1 \n",
      "FROM users AS users_1, users AS users_2 \n",
      "WHERE users_1.name > users_2.name ORDER BY users_1.name\n",
      "2021-09-24 09:11:24,674 INFO sqlalchemy.engine.Engine [cached since 11.52s ago] ()\n"
     ]
    },
    {
     "data": {
      "text/plain": "[(2, 'wendy', 'Wendy Williams', 1, 'jack', 'Jack Jones')]"
     },
     "execution_count": 39,
     "metadata": {},
     "output_type": "execute_result"
    },
    {
     "name": "stdout",
     "output_type": "stream",
     "text": [
      "time: 12.5 ms (started: 2021-09-24 09:11:24 +07:00)\n"
     ]
    }
   ],
   "source": [
    "u1a, u1b = users.alias(), users.alias()\n",
    "stmt = select([u1a, u1b]).\\\n",
    "            where(u1a.c.name > u1b.c.name).\\\n",
    "            order_by(u1a.c.name)  # using \"name\" here would be ambiguous\n",
    "\n",
    "conn.execute(stmt).fetchall()"
   ],
   "metadata": {
    "collapsed": false,
    "pycharm": {
     "name": "#%%\n"
    }
   }
  },
  {
   "cell_type": "code",
   "execution_count": 40,
   "outputs": [
    {
     "name": "stdout",
     "output_type": "stream",
     "text": [
      "2021-09-24 09:11:26,286 INFO sqlalchemy.engine.Engine SELECT users.id, users.name, users.fullname \n",
      "FROM users, addresses AS addresses_1, addresses AS addresses_2 \n",
      "WHERE users.id = addresses_1.user_id AND users.id = addresses_2.user_id AND addresses_1.email_address = ? AND addresses_2.email_address = ?\n",
      "2021-09-24 09:11:26,288 INFO sqlalchemy.engine.Engine [cached since 13.13s ago] ('jack@msn.com', 'jack@yahoo.com')\n"
     ]
    },
    {
     "data": {
      "text/plain": "[(1, 'jack', 'Jack Jones')]"
     },
     "execution_count": 40,
     "metadata": {},
     "output_type": "execute_result"
    },
    {
     "name": "stdout",
     "output_type": "stream",
     "text": [
      "time: 5.66 ms (started: 2021-09-24 09:11:26 +07:00)\n"
     ]
    }
   ],
   "source": [
    "#Alias and sub\n",
    "a1 = addresses.alias()\n",
    "a2 = addresses.alias()\n",
    "s = select([users]).\\\n",
    "       where(and_(\n",
    "           users.c.id == a1.c.user_id,\n",
    "           users.c.id == a2.c.user_id,\n",
    "           a1.c.email_address == 'jack@msn.com',\n",
    "           a2.c.email_address == 'jack@yahoo.com'\n",
    "       ))\n",
    "conn.execute(s).fetchall()"
   ],
   "metadata": {
    "collapsed": false,
    "pycharm": {
     "name": "#%%\n"
    }
   }
  },
  {
   "cell_type": "code",
   "execution_count": 42,
   "outputs": [
    {
     "name": "stdout",
     "output_type": "stream",
     "text": [
      "2021-09-24 09:13:13,189 INFO sqlalchemy.engine.Engine UPDATE users SET fullname=(? || users.name)\n",
      "2021-09-24 09:13:13,192 INFO sqlalchemy.engine.Engine [cached since 9.588s ago] ('Fullname: ',)\n",
      "2021-09-24 09:13:13,194 INFO sqlalchemy.engine.Engine COMMIT\n",
      "2021-09-24 09:13:13,196 INFO sqlalchemy.engine.Engine INSERT INTO users (id, name) VALUES (?, (? || ?))\n",
      "2021-09-24 09:13:13,198 INFO sqlalchemy.engine.Engine [generated in 0.00136s] ((4, 'name1', ' .. name'), (5, 'name2', ' .. name'), (6, 'name3', ' .. name'))\n",
      "2021-09-24 09:13:13,199 INFO sqlalchemy.engine.Engine COMMIT\n"
     ]
    },
    {
     "data": {
      "text/plain": "<sqlalchemy.engine.cursor.LegacyCursorResult at 0x1107d4e80>"
     },
     "execution_count": 42,
     "metadata": {},
     "output_type": "execute_result"
    },
    {
     "name": "stdout",
     "output_type": "stream",
     "text": [
      "time: 20.8 ms (started: 2021-09-24 09:13:13 +07:00)\n"
     ]
    }
   ],
   "source": [
    "from sqlalchemy import bindparam\n",
    "\n",
    "#update\n",
    "stmt = users.update().\\\n",
    "             values(fullname=\"Fullname: \" + users.c.name)\n",
    "conn.execute(stmt)\n",
    "stmt = users.insert().\\\n",
    "         values(name=bindparam('_name') + \" .. name\")\n",
    "conn.execute(stmt, [\n",
    "       {'id':4, '_name':'name1'},\n",
    "       {'id':5, '_name':'name2'},\n",
    "       {'id':6, '_name':'name3'},\n",
    "    ])"
   ],
   "metadata": {
    "collapsed": false,
    "pycharm": {
     "name": "#%%\n"
    }
   }
  },
  {
   "cell_type": "code",
   "execution_count": 43,
   "outputs": [
    {
     "name": "stdout",
     "output_type": "stream",
     "text": [
      "2021-09-24 09:13:42,107 INFO sqlalchemy.engine.Engine UPDATE users SET name=? WHERE users.name = ?\n",
      "2021-09-24 09:13:42,110 INFO sqlalchemy.engine.Engine [generated in 0.00292s] ('ed', 'jack')\n",
      "2021-09-24 09:13:42,112 INFO sqlalchemy.engine.Engine COMMIT\n",
      "2021-09-24 09:13:42,114 INFO sqlalchemy.engine.Engine UPDATE users SET name=? WHERE users.name = ?\n",
      "2021-09-24 09:13:42,115 INFO sqlalchemy.engine.Engine [generated in 0.00131s] (('ed', 'jack'), ('mary', 'wendy'), ('jake', 'jim'))\n",
      "2021-09-24 09:13:42,116 INFO sqlalchemy.engine.Engine COMMIT\n"
     ]
    },
    {
     "data": {
      "text/plain": "<sqlalchemy.engine.cursor.LegacyCursorResult at 0x1107c7a00>"
     },
     "execution_count": 43,
     "metadata": {},
     "output_type": "execute_result"
    },
    {
     "name": "stdout",
     "output_type": "stream",
     "text": [
      "time: 14.4 ms (started: 2021-09-24 09:13:42 +07:00)\n"
     ]
    }
   ],
   "source": [
    "stmt = users.update().\\\n",
    "             where(users.c.name == 'jack').\\\n",
    "            values(name='ed')\n",
    "\n",
    "conn.execute(stmt)\n",
    "\n",
    "stmt = users.update().\\\n",
    "            where(users.c.name == bindparam('oldname')).\\\n",
    "            values(name=bindparam('newname'))\n",
    "conn.execute(stmt, [\n",
    "    {'oldname':'jack', 'newname':'ed'},\n",
    "    {'oldname':'wendy', 'newname':'mary'},\n",
    "    {'oldname':'jim', 'newname':'jake'},\n",
    "    ])"
   ],
   "metadata": {
    "collapsed": false,
    "pycharm": {
     "name": "#%%\n"
    }
   }
  },
  {
   "cell_type": "code",
   "execution_count": 44,
   "outputs": [
    {
     "name": "stdout",
     "output_type": "stream",
     "text": [
      "2021-09-24 09:13:55,201 INFO sqlalchemy.engine.Engine UPDATE users SET fullname=(SELECT addresses.email_address \n",
      "FROM addresses \n",
      "WHERE addresses.user_id = users.id\n",
      " LIMIT ? OFFSET ?)\n",
      "2021-09-24 09:13:55,202 INFO sqlalchemy.engine.Engine [generated in 0.00142s] (1, 0)\n",
      "2021-09-24 09:13:55,203 INFO sqlalchemy.engine.Engine COMMIT\n"
     ]
    },
    {
     "name": "stderr",
     "output_type": "stream",
     "text": [
      "/var/folders/z0/__h78b812lx9bj6wb1f8_fjh0000gn/T/ipykernel_14027/2779503420.py:5: SAWarning: implicitly coercing SELECT object to scalar subquery; please use the .scalar_subquery() method to produce a scalar subquery.\n",
      "  conn.execute(users.update().values(fullname=stmt))\n"
     ]
    },
    {
     "data": {
      "text/plain": "<sqlalchemy.engine.cursor.LegacyCursorResult at 0x110b7a6d0>"
     },
     "execution_count": 44,
     "metadata": {},
     "output_type": "execute_result"
    },
    {
     "name": "stdout",
     "output_type": "stream",
     "text": [
      "time: 9.56 ms (started: 2021-09-24 09:13:55 +07:00)\n"
     ]
    }
   ],
   "source": [
    "#Correlated Updates\n",
    "stmt = select([addresses.c.email_address]).\\\n",
    "             where(addresses.c.user_id == users.c.id).\\\n",
    "            limit(1)\n",
    "conn.execute(users.update().values(fullname=stmt))"
   ],
   "metadata": {
    "collapsed": false,
    "pycharm": {
     "name": "#%%\n"
    }
   }
  },
  {
   "cell_type": "code",
   "execution_count": 45,
   "outputs": [
    {
     "name": "stdout",
     "output_type": "stream",
     "text": [
      "2021-09-24 09:14:03,719 INFO sqlalchemy.engine.Engine DELETE FROM addresses\n",
      "2021-09-24 09:14:03,721 INFO sqlalchemy.engine.Engine [generated in 0.00195s] ()\n",
      "2021-09-24 09:14:03,723 INFO sqlalchemy.engine.Engine COMMIT\n",
      "2021-09-24 09:14:03,724 INFO sqlalchemy.engine.Engine DELETE FROM users WHERE users.name > ?\n",
      "2021-09-24 09:14:03,725 INFO sqlalchemy.engine.Engine [generated in 0.00081s] ('m',)\n",
      "2021-09-24 09:14:03,726 INFO sqlalchemy.engine.Engine COMMIT\n"
     ]
    },
    {
     "data": {
      "text/plain": "<sqlalchemy.engine.cursor.LegacyCursorResult at 0x10eac6a60>"
     },
     "execution_count": 45,
     "metadata": {},
     "output_type": "execute_result"
    },
    {
     "name": "stdout",
     "output_type": "stream",
     "text": [
      "time: 11.4 ms (started: 2021-09-24 09:14:03 +07:00)\n"
     ]
    }
   ],
   "source": [
    "#Delete\n",
    "conn.execute(addresses.delete())\n",
    "\n",
    "conn.execute(users.delete().where(users.c.name > 'm'))"
   ],
   "metadata": {
    "collapsed": false,
    "pycharm": {
     "name": "#%%\n"
    }
   }
  },
  {
   "cell_type": "code",
   "execution_count": null,
   "outputs": [],
   "source": [],
   "metadata": {
    "collapsed": false,
    "pycharm": {
     "name": "#%%\n"
    }
   }
  }
 ],
 "metadata": {
  "kernelspec": {
   "display_name": "Python 3",
   "language": "python",
   "name": "python3"
  },
  "language_info": {
   "codemirror_mode": {
    "name": "ipython",
    "version": 2
   },
   "file_extension": ".py",
   "mimetype": "text/x-python",
   "name": "python",
   "nbconvert_exporter": "python",
   "pygments_lexer": "ipython2",
   "version": "2.7.6"
  }
 },
 "nbformat": 4,
 "nbformat_minor": 0
}