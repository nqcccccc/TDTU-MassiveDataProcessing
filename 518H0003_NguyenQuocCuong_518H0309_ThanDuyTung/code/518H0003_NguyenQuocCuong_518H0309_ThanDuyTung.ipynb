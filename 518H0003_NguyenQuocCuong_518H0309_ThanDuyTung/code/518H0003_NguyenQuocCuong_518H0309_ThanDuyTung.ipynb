{
  "nbformat": 4,
  "nbformat_minor": 0,
  "metadata": {
    "colab": {
      "name": "phobert-ms.ipynb",
      "provenance": [],
      "collapsed_sections": []
    },
    "kernelspec": {
      "name": "python3",
      "display_name": "Python 3"
    },
    "language_info": {
      "name": "python"
    },
    "widgets": {
      "application/vnd.jupyter.widget-state+json": {
        "9ce79cd4414d46f881c715ad2ccc3ebe": {
          "model_module": "@jupyter-widgets/controls",
          "model_name": "HBoxModel",
          "model_module_version": "1.5.0",
          "state": {
            "_view_name": "HBoxView",
            "_dom_classes": [],
            "_model_name": "HBoxModel",
            "_view_module": "@jupyter-widgets/controls",
            "_model_module_version": "1.5.0",
            "_view_count": null,
            "_view_module_version": "1.5.0",
            "box_style": "",
            "layout": "IPY_MODEL_794188f5727e4b0f8e59fe78134d79d9",
            "_model_module": "@jupyter-widgets/controls",
            "children": [
              "IPY_MODEL_63d8f58cb8104cfabdd957881661d3fb",
              "IPY_MODEL_a1528192da1d4667b08ba498089776cb",
              "IPY_MODEL_dc1c63ba72d84677ad380dc659b4552d"
            ]
          }
        },
        "794188f5727e4b0f8e59fe78134d79d9": {
          "model_module": "@jupyter-widgets/base",
          "model_name": "LayoutModel",
          "model_module_version": "1.2.0",
          "state": {
            "_view_name": "LayoutView",
            "grid_template_rows": null,
            "right": null,
            "justify_content": null,
            "_view_module": "@jupyter-widgets/base",
            "overflow": null,
            "_model_module_version": "1.2.0",
            "_view_count": null,
            "flex_flow": null,
            "width": null,
            "min_width": null,
            "border": null,
            "align_items": null,
            "bottom": null,
            "_model_module": "@jupyter-widgets/base",
            "top": null,
            "grid_column": null,
            "overflow_y": null,
            "overflow_x": null,
            "grid_auto_flow": null,
            "grid_area": null,
            "grid_template_columns": null,
            "flex": null,
            "_model_name": "LayoutModel",
            "justify_items": null,
            "grid_row": null,
            "max_height": null,
            "align_content": null,
            "visibility": null,
            "align_self": null,
            "height": null,
            "min_height": null,
            "padding": null,
            "grid_auto_rows": null,
            "grid_gap": null,
            "max_width": null,
            "order": null,
            "_view_module_version": "1.2.0",
            "grid_template_areas": null,
            "object_position": null,
            "object_fit": null,
            "grid_auto_columns": null,
            "margin": null,
            "display": null,
            "left": null
          }
        },
        "63d8f58cb8104cfabdd957881661d3fb": {
          "model_module": "@jupyter-widgets/controls",
          "model_name": "HTMLModel",
          "model_module_version": "1.5.0",
          "state": {
            "_view_name": "HTMLView",
            "style": "IPY_MODEL_8a090d0f84494c3daece395d9b4af96c",
            "_dom_classes": [],
            "description": "",
            "_model_name": "HTMLModel",
            "placeholder": "​",
            "_view_module": "@jupyter-widgets/controls",
            "_model_module_version": "1.5.0",
            "value": "100%",
            "_view_count": null,
            "_view_module_version": "1.5.0",
            "description_tooltip": null,
            "_model_module": "@jupyter-widgets/controls",
            "layout": "IPY_MODEL_f9b7c9d54da54586896ef4a500c28e9f"
          }
        },
        "a1528192da1d4667b08ba498089776cb": {
          "model_module": "@jupyter-widgets/controls",
          "model_name": "FloatProgressModel",
          "model_module_version": "1.5.0",
          "state": {
            "_view_name": "ProgressView",
            "style": "IPY_MODEL_24e26d64724f4ab38279fdcfe70527ae",
            "_dom_classes": [],
            "description": "",
            "_model_name": "FloatProgressModel",
            "bar_style": "success",
            "max": 10000,
            "_view_module": "@jupyter-widgets/controls",
            "_model_module_version": "1.5.0",
            "value": 10000,
            "_view_count": null,
            "_view_module_version": "1.5.0",
            "orientation": "horizontal",
            "min": 0,
            "description_tooltip": null,
            "_model_module": "@jupyter-widgets/controls",
            "layout": "IPY_MODEL_3dbe9f14d523459798995508c605930b"
          }
        },
        "dc1c63ba72d84677ad380dc659b4552d": {
          "model_module": "@jupyter-widgets/controls",
          "model_name": "HTMLModel",
          "model_module_version": "1.5.0",
          "state": {
            "_view_name": "HTMLView",
            "style": "IPY_MODEL_5cb843f186704a749349cbd1346fcbc2",
            "_dom_classes": [],
            "description": "",
            "_model_name": "HTMLModel",
            "placeholder": "​",
            "_view_module": "@jupyter-widgets/controls",
            "_model_module_version": "1.5.0",
            "value": " 10000/10000 [2:22:34&lt;00:00,  1.24it/s]",
            "_view_count": null,
            "_view_module_version": "1.5.0",
            "description_tooltip": null,
            "_model_module": "@jupyter-widgets/controls",
            "layout": "IPY_MODEL_c632c67fd7a14eefba002973278f839d"
          }
        },
        "8a090d0f84494c3daece395d9b4af96c": {
          "model_module": "@jupyter-widgets/controls",
          "model_name": "DescriptionStyleModel",
          "model_module_version": "1.5.0",
          "state": {
            "_view_name": "StyleView",
            "_model_name": "DescriptionStyleModel",
            "description_width": "",
            "_view_module": "@jupyter-widgets/base",
            "_model_module_version": "1.5.0",
            "_view_count": null,
            "_view_module_version": "1.2.0",
            "_model_module": "@jupyter-widgets/controls"
          }
        },
        "f9b7c9d54da54586896ef4a500c28e9f": {
          "model_module": "@jupyter-widgets/base",
          "model_name": "LayoutModel",
          "model_module_version": "1.2.0",
          "state": {
            "_view_name": "LayoutView",
            "grid_template_rows": null,
            "right": null,
            "justify_content": null,
            "_view_module": "@jupyter-widgets/base",
            "overflow": null,
            "_model_module_version": "1.2.0",
            "_view_count": null,
            "flex_flow": null,
            "width": null,
            "min_width": null,
            "border": null,
            "align_items": null,
            "bottom": null,
            "_model_module": "@jupyter-widgets/base",
            "top": null,
            "grid_column": null,
            "overflow_y": null,
            "overflow_x": null,
            "grid_auto_flow": null,
            "grid_area": null,
            "grid_template_columns": null,
            "flex": null,
            "_model_name": "LayoutModel",
            "justify_items": null,
            "grid_row": null,
            "max_height": null,
            "align_content": null,
            "visibility": null,
            "align_self": null,
            "height": null,
            "min_height": null,
            "padding": null,
            "grid_auto_rows": null,
            "grid_gap": null,
            "max_width": null,
            "order": null,
            "_view_module_version": "1.2.0",
            "grid_template_areas": null,
            "object_position": null,
            "object_fit": null,
            "grid_auto_columns": null,
            "margin": null,
            "display": null,
            "left": null
          }
        },
        "24e26d64724f4ab38279fdcfe70527ae": {
          "model_module": "@jupyter-widgets/controls",
          "model_name": "ProgressStyleModel",
          "model_module_version": "1.5.0",
          "state": {
            "_view_name": "StyleView",
            "_model_name": "ProgressStyleModel",
            "description_width": "",
            "_view_module": "@jupyter-widgets/base",
            "_model_module_version": "1.5.0",
            "_view_count": null,
            "_view_module_version": "1.2.0",
            "bar_color": null,
            "_model_module": "@jupyter-widgets/controls"
          }
        },
        "3dbe9f14d523459798995508c605930b": {
          "model_module": "@jupyter-widgets/base",
          "model_name": "LayoutModel",
          "model_module_version": "1.2.0",
          "state": {
            "_view_name": "LayoutView",
            "grid_template_rows": null,
            "right": null,
            "justify_content": null,
            "_view_module": "@jupyter-widgets/base",
            "overflow": null,
            "_model_module_version": "1.2.0",
            "_view_count": null,
            "flex_flow": null,
            "width": null,
            "min_width": null,
            "border": null,
            "align_items": null,
            "bottom": null,
            "_model_module": "@jupyter-widgets/base",
            "top": null,
            "grid_column": null,
            "overflow_y": null,
            "overflow_x": null,
            "grid_auto_flow": null,
            "grid_area": null,
            "grid_template_columns": null,
            "flex": null,
            "_model_name": "LayoutModel",
            "justify_items": null,
            "grid_row": null,
            "max_height": null,
            "align_content": null,
            "visibility": null,
            "align_self": null,
            "height": null,
            "min_height": null,
            "padding": null,
            "grid_auto_rows": null,
            "grid_gap": null,
            "max_width": null,
            "order": null,
            "_view_module_version": "1.2.0",
            "grid_template_areas": null,
            "object_position": null,
            "object_fit": null,
            "grid_auto_columns": null,
            "margin": null,
            "display": null,
            "left": null
          }
        },
        "5cb843f186704a749349cbd1346fcbc2": {
          "model_module": "@jupyter-widgets/controls",
          "model_name": "DescriptionStyleModel",
          "model_module_version": "1.5.0",
          "state": {
            "_view_name": "StyleView",
            "_model_name": "DescriptionStyleModel",
            "description_width": "",
            "_view_module": "@jupyter-widgets/base",
            "_model_module_version": "1.5.0",
            "_view_count": null,
            "_view_module_version": "1.2.0",
            "_model_module": "@jupyter-widgets/controls"
          }
        },
        "c632c67fd7a14eefba002973278f839d": {
          "model_module": "@jupyter-widgets/base",
          "model_name": "LayoutModel",
          "model_module_version": "1.2.0",
          "state": {
            "_view_name": "LayoutView",
            "grid_template_rows": null,
            "right": null,
            "justify_content": null,
            "_view_module": "@jupyter-widgets/base",
            "overflow": null,
            "_model_module_version": "1.2.0",
            "_view_count": null,
            "flex_flow": null,
            "width": null,
            "min_width": null,
            "border": null,
            "align_items": null,
            "bottom": null,
            "_model_module": "@jupyter-widgets/base",
            "top": null,
            "grid_column": null,
            "overflow_y": null,
            "overflow_x": null,
            "grid_auto_flow": null,
            "grid_area": null,
            "grid_template_columns": null,
            "flex": null,
            "_model_name": "LayoutModel",
            "justify_items": null,
            "grid_row": null,
            "max_height": null,
            "align_content": null,
            "visibility": null,
            "align_self": null,
            "height": null,
            "min_height": null,
            "padding": null,
            "grid_auto_rows": null,
            "grid_gap": null,
            "max_width": null,
            "order": null,
            "_view_module_version": "1.2.0",
            "grid_template_areas": null,
            "object_position": null,
            "object_fit": null,
            "grid_auto_columns": null,
            "margin": null,
            "display": null,
            "left": null
          }
        },
        "0297ab7c224f42459383cfc224b4cef2": {
          "model_module": "@jupyter-widgets/controls",
          "model_name": "HBoxModel",
          "model_module_version": "1.5.0",
          "state": {
            "_view_name": "HBoxView",
            "_dom_classes": [],
            "_model_name": "HBoxModel",
            "_view_module": "@jupyter-widgets/controls",
            "_model_module_version": "1.5.0",
            "_view_count": null,
            "_view_module_version": "1.5.0",
            "box_style": "",
            "layout": "IPY_MODEL_db26e55909aa45ab943bddaeaba8f301",
            "_model_module": "@jupyter-widgets/controls",
            "children": [
              "IPY_MODEL_614d7315a8f44a81ae62519891c64fe7",
              "IPY_MODEL_cc9c68e6d2054b428bdbb44fdedfdc7e",
              "IPY_MODEL_91a6ec7368b14673bfb891dbf92a75b9"
            ]
          }
        },
        "db26e55909aa45ab943bddaeaba8f301": {
          "model_module": "@jupyter-widgets/base",
          "model_name": "LayoutModel",
          "model_module_version": "1.2.0",
          "state": {
            "_view_name": "LayoutView",
            "grid_template_rows": null,
            "right": null,
            "justify_content": null,
            "_view_module": "@jupyter-widgets/base",
            "overflow": null,
            "_model_module_version": "1.2.0",
            "_view_count": null,
            "flex_flow": null,
            "width": null,
            "min_width": null,
            "border": null,
            "align_items": null,
            "bottom": null,
            "_model_module": "@jupyter-widgets/base",
            "top": null,
            "grid_column": null,
            "overflow_y": null,
            "overflow_x": null,
            "grid_auto_flow": null,
            "grid_area": null,
            "grid_template_columns": null,
            "flex": null,
            "_model_name": "LayoutModel",
            "justify_items": null,
            "grid_row": null,
            "max_height": null,
            "align_content": null,
            "visibility": null,
            "align_self": null,
            "height": null,
            "min_height": null,
            "padding": null,
            "grid_auto_rows": null,
            "grid_gap": null,
            "max_width": null,
            "order": null,
            "_view_module_version": "1.2.0",
            "grid_template_areas": null,
            "object_position": null,
            "object_fit": null,
            "grid_auto_columns": null,
            "margin": null,
            "display": null,
            "left": null
          }
        },
        "614d7315a8f44a81ae62519891c64fe7": {
          "model_module": "@jupyter-widgets/controls",
          "model_name": "HTMLModel",
          "model_module_version": "1.5.0",
          "state": {
            "_view_name": "HTMLView",
            "style": "IPY_MODEL_b1753f4c79214b0789eff9d07c652433",
            "_dom_classes": [],
            "description": "",
            "_model_name": "HTMLModel",
            "placeholder": "​",
            "_view_module": "@jupyter-widgets/controls",
            "_model_module_version": "1.5.0",
            "value": "Read file: 100%",
            "_view_count": null,
            "_view_module_version": "1.5.0",
            "description_tooltip": null,
            "_model_module": "@jupyter-widgets/controls",
            "layout": "IPY_MODEL_ccfc077fca894853bc042ef6dbbf306b"
          }
        },
        "cc9c68e6d2054b428bdbb44fdedfdc7e": {
          "model_module": "@jupyter-widgets/controls",
          "model_name": "FloatProgressModel",
          "model_module_version": "1.5.0",
          "state": {
            "_view_name": "ProgressView",
            "style": "IPY_MODEL_faceeaa346734fa9b3baf83d02ab3ee6",
            "_dom_classes": [],
            "description": "",
            "_model_name": "FloatProgressModel",
            "bar_style": "success",
            "max": 10000,
            "_view_module": "@jupyter-widgets/controls",
            "_model_module_version": "1.5.0",
            "value": 10000,
            "_view_count": null,
            "_view_module_version": "1.5.0",
            "orientation": "horizontal",
            "min": 0,
            "description_tooltip": null,
            "_model_module": "@jupyter-widgets/controls",
            "layout": "IPY_MODEL_38802e99b8bc4f13bccaf82d06bbe424"
          }
        },
        "91a6ec7368b14673bfb891dbf92a75b9": {
          "model_module": "@jupyter-widgets/controls",
          "model_name": "HTMLModel",
          "model_module_version": "1.5.0",
          "state": {
            "_view_name": "HTMLView",
            "style": "IPY_MODEL_53380a1f1b1f4d908f8572bc3dc854c4",
            "_dom_classes": [],
            "description": "",
            "_model_name": "HTMLModel",
            "placeholder": "​",
            "_view_module": "@jupyter-widgets/controls",
            "_model_module_version": "1.5.0",
            "value": " 10000/10000 [1:28:19&lt;00:00,  1.66it/s]",
            "_view_count": null,
            "_view_module_version": "1.5.0",
            "description_tooltip": null,
            "_model_module": "@jupyter-widgets/controls",
            "layout": "IPY_MODEL_de3e58327fb24ff0b79b2747a6eef93e"
          }
        },
        "b1753f4c79214b0789eff9d07c652433": {
          "model_module": "@jupyter-widgets/controls",
          "model_name": "DescriptionStyleModel",
          "model_module_version": "1.5.0",
          "state": {
            "_view_name": "StyleView",
            "_model_name": "DescriptionStyleModel",
            "description_width": "",
            "_view_module": "@jupyter-widgets/base",
            "_model_module_version": "1.5.0",
            "_view_count": null,
            "_view_module_version": "1.2.0",
            "_model_module": "@jupyter-widgets/controls"
          }
        },
        "ccfc077fca894853bc042ef6dbbf306b": {
          "model_module": "@jupyter-widgets/base",
          "model_name": "LayoutModel",
          "model_module_version": "1.2.0",
          "state": {
            "_view_name": "LayoutView",
            "grid_template_rows": null,
            "right": null,
            "justify_content": null,
            "_view_module": "@jupyter-widgets/base",
            "overflow": null,
            "_model_module_version": "1.2.0",
            "_view_count": null,
            "flex_flow": null,
            "width": null,
            "min_width": null,
            "border": null,
            "align_items": null,
            "bottom": null,
            "_model_module": "@jupyter-widgets/base",
            "top": null,
            "grid_column": null,
            "overflow_y": null,
            "overflow_x": null,
            "grid_auto_flow": null,
            "grid_area": null,
            "grid_template_columns": null,
            "flex": null,
            "_model_name": "LayoutModel",
            "justify_items": null,
            "grid_row": null,
            "max_height": null,
            "align_content": null,
            "visibility": null,
            "align_self": null,
            "height": null,
            "min_height": null,
            "padding": null,
            "grid_auto_rows": null,
            "grid_gap": null,
            "max_width": null,
            "order": null,
            "_view_module_version": "1.2.0",
            "grid_template_areas": null,
            "object_position": null,
            "object_fit": null,
            "grid_auto_columns": null,
            "margin": null,
            "display": null,
            "left": null
          }
        },
        "faceeaa346734fa9b3baf83d02ab3ee6": {
          "model_module": "@jupyter-widgets/controls",
          "model_name": "ProgressStyleModel",
          "model_module_version": "1.5.0",
          "state": {
            "_view_name": "StyleView",
            "_model_name": "ProgressStyleModel",
            "description_width": "",
            "_view_module": "@jupyter-widgets/base",
            "_model_module_version": "1.5.0",
            "_view_count": null,
            "_view_module_version": "1.2.0",
            "bar_color": null,
            "_model_module": "@jupyter-widgets/controls"
          }
        },
        "38802e99b8bc4f13bccaf82d06bbe424": {
          "model_module": "@jupyter-widgets/base",
          "model_name": "LayoutModel",
          "model_module_version": "1.2.0",
          "state": {
            "_view_name": "LayoutView",
            "grid_template_rows": null,
            "right": null,
            "justify_content": null,
            "_view_module": "@jupyter-widgets/base",
            "overflow": null,
            "_model_module_version": "1.2.0",
            "_view_count": null,
            "flex_flow": null,
            "width": null,
            "min_width": null,
            "border": null,
            "align_items": null,
            "bottom": null,
            "_model_module": "@jupyter-widgets/base",
            "top": null,
            "grid_column": null,
            "overflow_y": null,
            "overflow_x": null,
            "grid_auto_flow": null,
            "grid_area": null,
            "grid_template_columns": null,
            "flex": null,
            "_model_name": "LayoutModel",
            "justify_items": null,
            "grid_row": null,
            "max_height": null,
            "align_content": null,
            "visibility": null,
            "align_self": null,
            "height": null,
            "min_height": null,
            "padding": null,
            "grid_auto_rows": null,
            "grid_gap": null,
            "max_width": null,
            "order": null,
            "_view_module_version": "1.2.0",
            "grid_template_areas": null,
            "object_position": null,
            "object_fit": null,
            "grid_auto_columns": null,
            "margin": null,
            "display": null,
            "left": null
          }
        },
        "53380a1f1b1f4d908f8572bc3dc854c4": {
          "model_module": "@jupyter-widgets/controls",
          "model_name": "DescriptionStyleModel",
          "model_module_version": "1.5.0",
          "state": {
            "_view_name": "StyleView",
            "_model_name": "DescriptionStyleModel",
            "description_width": "",
            "_view_module": "@jupyter-widgets/base",
            "_model_module_version": "1.5.0",
            "_view_count": null,
            "_view_module_version": "1.2.0",
            "_model_module": "@jupyter-widgets/controls"
          }
        },
        "de3e58327fb24ff0b79b2747a6eef93e": {
          "model_module": "@jupyter-widgets/base",
          "model_name": "LayoutModel",
          "model_module_version": "1.2.0",
          "state": {
            "_view_name": "LayoutView",
            "grid_template_rows": null,
            "right": null,
            "justify_content": null,
            "_view_module": "@jupyter-widgets/base",
            "overflow": null,
            "_model_module_version": "1.2.0",
            "_view_count": null,
            "flex_flow": null,
            "width": null,
            "min_width": null,
            "border": null,
            "align_items": null,
            "bottom": null,
            "_model_module": "@jupyter-widgets/base",
            "top": null,
            "grid_column": null,
            "overflow_y": null,
            "overflow_x": null,
            "grid_auto_flow": null,
            "grid_area": null,
            "grid_template_columns": null,
            "flex": null,
            "_model_name": "LayoutModel",
            "justify_items": null,
            "grid_row": null,
            "max_height": null,
            "align_content": null,
            "visibility": null,
            "align_self": null,
            "height": null,
            "min_height": null,
            "padding": null,
            "grid_auto_rows": null,
            "grid_gap": null,
            "max_width": null,
            "order": null,
            "_view_module_version": "1.2.0",
            "grid_template_areas": null,
            "object_position": null,
            "object_fit": null,
            "grid_auto_columns": null,
            "margin": null,
            "display": null,
            "left": null
          }
        }
      }
    }
  },
  "cells": [
    {
      "cell_type": "code",
      "execution_count": null,
      "metadata": {
        "colab": {
          "base_uri": "https://localhost:8080/"
        },
        "id": "233AbNwv0yL3",
        "outputId": "bee0fc64-38e5-434f-a16c-56c0f96dde97"
      },
      "outputs": [
        {
          "output_type": "stream",
          "name": "stdout",
          "text": [
            "Mounted at /content/drive/\n",
            "doi-song  khoa-hoc    oto-xe-may  suc-khoe\t     the-thao\n",
            "du-lich   kinh-doanh  phap-luat   text_features.pkl\n",
            "giao-duc  label.pkl   so-hoa\t  text.pkl\n"
          ]
        }
      ],
      "source": [
        "from google.colab import drive\n",
        "drive.mount('/content/drive/')\n",
        "\n",
        "!ls '/content/drive/MyDrive/Bert/data'"
      ]
    },
    {
      "cell_type": "code",
      "source": [
        "!pip3 install underthesea\n",
        "!pip3 install fairseq\n",
        "!pip3 install fastbpe"
      ],
      "metadata": {
        "colab": {
          "base_uri": "https://localhost:8080/",
          "height": 1000
        },
        "id": "uq3W0xC-0zUm",
        "outputId": "ac876e41-b40e-4481-c5a4-b39222911954"
      },
      "execution_count": null,
      "outputs": [
        {
          "output_type": "stream",
          "name": "stdout",
          "text": [
            "Collecting underthesea\n",
            "  Downloading underthesea-1.3.3-py3-none-any.whl (7.5 MB)\n",
            "\u001b[K     |████████████████████████████████| 7.5 MB 4.7 MB/s \n",
            "\u001b[?25hRequirement already satisfied: nltk in /usr/local/lib/python3.7/dist-packages (from underthesea) (3.2.5)\n",
            "Requirement already satisfied: torch>=1.1.0 in /usr/local/lib/python3.7/dist-packages (from underthesea) (1.10.0+cu111)\n",
            "Collecting transformers>=3.5.0\n",
            "  Downloading transformers-4.15.0-py3-none-any.whl (3.4 MB)\n",
            "\u001b[K     |████████████████████████████████| 3.4 MB 46.0 MB/s \n",
            "\u001b[?25hCollecting unidecode\n",
            "  Downloading Unidecode-1.3.2-py3-none-any.whl (235 kB)\n",
            "\u001b[K     |████████████████████████████████| 235 kB 45.0 MB/s \n",
            "\u001b[?25hRequirement already satisfied: requests in /usr/local/lib/python3.7/dist-packages (from underthesea) (2.23.0)\n",
            "Collecting python-crfsuite>=0.9.6\n",
            "  Downloading python_crfsuite-0.9.7-cp37-cp37m-manylinux1_x86_64.whl (743 kB)\n",
            "\u001b[K     |████████████████████████████████| 743 kB 43.0 MB/s \n",
            "\u001b[?25hRequirement already satisfied: scikit-learn in /usr/local/lib/python3.7/dist-packages (from underthesea) (1.0.1)\n",
            "Requirement already satisfied: tqdm in /usr/local/lib/python3.7/dist-packages (from underthesea) (4.62.3)\n",
            "Requirement already satisfied: joblib in /usr/local/lib/python3.7/dist-packages (from underthesea) (1.1.0)\n",
            "Requirement already satisfied: Click>=6.0 in /usr/local/lib/python3.7/dist-packages (from underthesea) (7.1.2)\n",
            "Collecting seqeval\n",
            "  Downloading seqeval-1.2.2.tar.gz (43 kB)\n",
            "\u001b[K     |████████████████████████████████| 43 kB 1.7 MB/s \n",
            "\u001b[?25hRequirement already satisfied: PyYAML in /usr/local/lib/python3.7/dist-packages (from underthesea) (3.13)\n",
            "Requirement already satisfied: typing-extensions in /usr/local/lib/python3.7/dist-packages (from torch>=1.1.0->underthesea) (3.10.0.2)\n",
            "Requirement already satisfied: filelock in /usr/local/lib/python3.7/dist-packages (from transformers>=3.5.0->underthesea) (3.4.0)\n",
            "Collecting huggingface-hub<1.0,>=0.1.0\n",
            "  Downloading huggingface_hub-0.2.1-py3-none-any.whl (61 kB)\n",
            "\u001b[K     |████████████████████████████████| 61 kB 474 kB/s \n",
            "\u001b[?25hRequirement already satisfied: regex!=2019.12.17 in /usr/local/lib/python3.7/dist-packages (from transformers>=3.5.0->underthesea) (2019.12.20)\n",
            "Collecting PyYAML\n",
            "  Downloading PyYAML-6.0-cp37-cp37m-manylinux_2_5_x86_64.manylinux1_x86_64.manylinux_2_12_x86_64.manylinux2010_x86_64.whl (596 kB)\n",
            "\u001b[K     |████████████████████████████████| 596 kB 39.0 MB/s \n",
            "\u001b[?25hCollecting sacremoses\n",
            "  Downloading sacremoses-0.0.46-py3-none-any.whl (895 kB)\n",
            "\u001b[K     |████████████████████████████████| 895 kB 41.3 MB/s \n",
            "\u001b[?25hCollecting tokenizers<0.11,>=0.10.1\n",
            "  Downloading tokenizers-0.10.3-cp37-cp37m-manylinux_2_5_x86_64.manylinux1_x86_64.manylinux_2_12_x86_64.manylinux2010_x86_64.whl (3.3 MB)\n",
            "\u001b[K     |████████████████████████████████| 3.3 MB 42.3 MB/s \n",
            "\u001b[?25hRequirement already satisfied: importlib-metadata in /usr/local/lib/python3.7/dist-packages (from transformers>=3.5.0->underthesea) (4.8.2)\n",
            "Requirement already satisfied: packaging>=20.0 in /usr/local/lib/python3.7/dist-packages (from transformers>=3.5.0->underthesea) (21.3)\n",
            "Requirement already satisfied: numpy>=1.17 in /usr/local/lib/python3.7/dist-packages (from transformers>=3.5.0->underthesea) (1.19.5)\n",
            "Requirement already satisfied: pyparsing!=3.0.5,>=2.0.2 in /usr/local/lib/python3.7/dist-packages (from packaging>=20.0->transformers>=3.5.0->underthesea) (3.0.6)\n",
            "Requirement already satisfied: zipp>=0.5 in /usr/local/lib/python3.7/dist-packages (from importlib-metadata->transformers>=3.5.0->underthesea) (3.6.0)\n",
            "Requirement already satisfied: six in /usr/local/lib/python3.7/dist-packages (from nltk->underthesea) (1.15.0)\n",
            "Requirement already satisfied: urllib3!=1.25.0,!=1.25.1,<1.26,>=1.21.1 in /usr/local/lib/python3.7/dist-packages (from requests->underthesea) (1.24.3)\n",
            "Requirement already satisfied: certifi>=2017.4.17 in /usr/local/lib/python3.7/dist-packages (from requests->underthesea) (2021.10.8)\n",
            "Requirement already satisfied: idna<3,>=2.5 in /usr/local/lib/python3.7/dist-packages (from requests->underthesea) (2.10)\n",
            "Requirement already satisfied: chardet<4,>=3.0.2 in /usr/local/lib/python3.7/dist-packages (from requests->underthesea) (3.0.4)\n",
            "Requirement already satisfied: threadpoolctl>=2.0.0 in /usr/local/lib/python3.7/dist-packages (from scikit-learn->underthesea) (3.0.0)\n",
            "Requirement already satisfied: scipy>=1.1.0 in /usr/local/lib/python3.7/dist-packages (from scikit-learn->underthesea) (1.4.1)\n",
            "Building wheels for collected packages: seqeval\n",
            "  Building wheel for seqeval (setup.py) ... \u001b[?25l\u001b[?25hdone\n",
            "  Created wheel for seqeval: filename=seqeval-1.2.2-py3-none-any.whl size=16181 sha256=de4cd11e7dfe843b9bea83754c6759aabb16fbcff998c98adc1b13b77791b670\n",
            "  Stored in directory: /root/.cache/pip/wheels/05/96/ee/7cac4e74f3b19e3158dce26a20a1c86b3533c43ec72a549fd7\n",
            "Successfully built seqeval\n",
            "Installing collected packages: PyYAML, tokenizers, sacremoses, huggingface-hub, unidecode, transformers, seqeval, python-crfsuite, underthesea\n",
            "  Attempting uninstall: PyYAML\n",
            "    Found existing installation: PyYAML 3.13\n",
            "    Uninstalling PyYAML-3.13:\n",
            "      Successfully uninstalled PyYAML-3.13\n",
            "Successfully installed PyYAML-6.0 huggingface-hub-0.2.1 python-crfsuite-0.9.7 sacremoses-0.0.46 seqeval-1.2.2 tokenizers-0.10.3 transformers-4.15.0 underthesea-1.3.3 unidecode-1.3.2\n",
            "Collecting fairseq\n",
            "  Downloading fairseq-0.10.2-cp37-cp37m-manylinux1_x86_64.whl (1.7 MB)\n",
            "\u001b[K     |████████████████████████████████| 1.7 MB 5.4 MB/s \n",
            "\u001b[?25hRequirement already satisfied: numpy in /usr/local/lib/python3.7/dist-packages (from fairseq) (1.19.5)\n",
            "Requirement already satisfied: cffi in /usr/local/lib/python3.7/dist-packages (from fairseq) (1.15.0)\n",
            "Collecting hydra-core\n",
            "  Downloading hydra_core-1.1.1-py3-none-any.whl (145 kB)\n",
            "\u001b[K     |████████████████████████████████| 145 kB 52.9 MB/s \n",
            "\u001b[?25hCollecting dataclasses\n",
            "  Downloading dataclasses-0.6-py3-none-any.whl (14 kB)\n",
            "Collecting sacrebleu>=1.4.12\n",
            "  Downloading sacrebleu-2.0.0-py3-none-any.whl (90 kB)\n",
            "\u001b[K     |████████████████████████████████| 90 kB 8.0 MB/s \n",
            "\u001b[?25hRequirement already satisfied: regex in /usr/local/lib/python3.7/dist-packages (from fairseq) (2019.12.20)\n",
            "Requirement already satisfied: torch in /usr/local/lib/python3.7/dist-packages (from fairseq) (1.10.0+cu111)\n",
            "Requirement already satisfied: cython in /usr/local/lib/python3.7/dist-packages (from fairseq) (0.29.24)\n",
            "Requirement already satisfied: tqdm in /usr/local/lib/python3.7/dist-packages (from fairseq) (4.62.3)\n",
            "Requirement already satisfied: tabulate>=0.8.9 in /usr/local/lib/python3.7/dist-packages (from sacrebleu>=1.4.12->fairseq) (0.8.9)\n",
            "Collecting colorama\n",
            "  Downloading colorama-0.4.4-py2.py3-none-any.whl (16 kB)\n",
            "Collecting portalocker\n",
            "  Downloading portalocker-2.3.2-py2.py3-none-any.whl (15 kB)\n",
            "Requirement already satisfied: pycparser in /usr/local/lib/python3.7/dist-packages (from cffi->fairseq) (2.21)\n",
            "Collecting omegaconf==2.1.*\n",
            "  Downloading omegaconf-2.1.1-py3-none-any.whl (74 kB)\n",
            "\u001b[K     |████████████████████████████████| 74 kB 3.4 MB/s \n",
            "\u001b[?25hCollecting antlr4-python3-runtime==4.8\n",
            "  Downloading antlr4-python3-runtime-4.8.tar.gz (112 kB)\n",
            "\u001b[K     |████████████████████████████████| 112 kB 51.1 MB/s \n",
            "\u001b[?25hRequirement already satisfied: importlib-resources in /usr/local/lib/python3.7/dist-packages (from hydra-core->fairseq) (5.4.0)\n",
            "Requirement already satisfied: PyYAML>=5.1.0 in /usr/local/lib/python3.7/dist-packages (from omegaconf==2.1.*->hydra-core->fairseq) (6.0)\n",
            "Requirement already satisfied: zipp>=3.1.0 in /usr/local/lib/python3.7/dist-packages (from importlib-resources->hydra-core->fairseq) (3.6.0)\n",
            "Requirement already satisfied: typing-extensions in /usr/local/lib/python3.7/dist-packages (from torch->fairseq) (3.10.0.2)\n",
            "Building wheels for collected packages: antlr4-python3-runtime\n",
            "  Building wheel for antlr4-python3-runtime (setup.py) ... \u001b[?25l\u001b[?25hdone\n",
            "  Created wheel for antlr4-python3-runtime: filename=antlr4_python3_runtime-4.8-py3-none-any.whl size=141230 sha256=fd79fb87bb8b65ed0c07cb0fd8202e9754af64e0be81cea3aacfdbe606c2f99f\n",
            "  Stored in directory: /root/.cache/pip/wheels/ca/33/b7/336836125fc9bb4ceaa4376d8abca10ca8bc84ddc824baea6c\n",
            "Successfully built antlr4-python3-runtime\n",
            "Installing collected packages: antlr4-python3-runtime, portalocker, omegaconf, colorama, sacrebleu, hydra-core, dataclasses, fairseq\n",
            "Successfully installed antlr4-python3-runtime-4.8 colorama-0.4.4 dataclasses-0.6 fairseq-0.10.2 hydra-core-1.1.1 omegaconf-2.1.1 portalocker-2.3.2 sacrebleu-2.0.0\n"
          ]
        },
        {
          "output_type": "display_data",
          "data": {
            "application/vnd.colab-display-data+json": {
              "pip_warning": {
                "packages": [
                  "pydevd_plugins"
                ]
              }
            }
          },
          "metadata": {}
        },
        {
          "output_type": "stream",
          "name": "stdout",
          "text": [
            "Collecting fastbpe\n",
            "  Downloading fastBPE-0.1.0.tar.gz (35 kB)\n",
            "Building wheels for collected packages: fastbpe\n",
            "  Building wheel for fastbpe (setup.py) ... \u001b[?25l\u001b[?25hdone\n",
            "  Created wheel for fastbpe: filename=fastBPE-0.1.0-cp37-cp37m-linux_x86_64.whl size=483106 sha256=36c987a780c69fd965b23f333a8aac8e13dd660600d52dc4ced54be89b525eb6\n",
            "  Stored in directory: /root/.cache/pip/wheels/bd/d4/0e/0d317a65f77d3f8049fedd8a2ee0519164cf3e6bd77ef886f1\n",
            "Successfully built fastbpe\n",
            "Installing collected packages: fastbpe\n",
            "Successfully installed fastbpe-0.1.0\n"
          ]
        }
      ]
    },
    {
      "cell_type": "code",
      "source": [
        "import torch\n",
        "\n",
        "from fairseq.models.roberta import RobertaModel\n",
        "from fairseq.data.encoders.fastbpe import fastBPE\n",
        "\n",
        "from sklearn.preprocessing import LabelEncoder\n",
        "from sklearn.model_selection import train_test_split\n",
        "\n",
        "from sklearn.svm import SVC\n",
        "from sklearn.neighbors import KNeighborsClassifier\n",
        "\n",
        "import tensorflow as tf\n",
        "from tensorflow import keras\n",
        "from tensorflow.keras import layers,models\n",
        "\n",
        "import underthesea as uts\n",
        "\n",
        "import glob2\n",
        "import numpy as np\n",
        "from tqdm.notebook import tqdm\n",
        "\n",
        "import re\n",
        "\n",
        "import pickle\n",
        "import string\n",
        "import io\n",
        "\n",
        "import matplotlib.pyplot as plt\n",
        "import seaborn as sns"
      ],
      "metadata": {
        "id": "mFoh51hS1IP2"
      },
      "execution_count": null,
      "outputs": []
    },
    {
      "cell_type": "code",
      "source": [
        "def save_pkl(path, obj):\n",
        "  with open(path, 'wb') as f:\n",
        "    pickle.dump(obj, f)\n",
        "\n",
        "def load_pkl(path):\n",
        "  with open(path, 'rb') as f:\n",
        "    obj = pickle.load(f)\n",
        "  return obj"
      ],
      "metadata": {
        "id": "_0bQ8bb51aEa"
      },
      "execution_count": null,
      "outputs": []
    },
    {
      "cell_type": "code",
      "source": [
        "stopwords = []\n",
        "with open('/content/drive/MyDrive/Bert/stopwords.txt', mode='r', encoding='utf-8') as f:\n",
        "  for line in enumerate(f):\n",
        "    stopwords.append(str(line[1]).strip())\n",
        "stopwords[:5]"
      ],
      "metadata": {
        "colab": {
          "base_uri": "https://localhost:8080/"
        },
        "id": "C2UD5c0f9gX6",
        "outputId": "ec499087-3b4b-400f-cf17-5a2fe5f9f95d"
      },
      "execution_count": null,
      "outputs": [
        {
          "output_type": "execute_result",
          "data": {
            "text/plain": [
              "['a lô', 'a ha', 'ai', 'ai ai', 'ai nấy']"
            ]
          },
          "metadata": {},
          "execution_count": 7
        }
      ]
    },
    {
      "cell_type": "code",
      "source": [
        "path = '/content/drive/MyDrive/Bert/data/*/*.txt'\n",
        "\n",
        "def load_and_preprocess_data(path):\n",
        "    texts = []\n",
        "    labels = []\n",
        "    regex = re.compile('[%s]' % re.escape(string.punctuation))\n",
        "    for file_path in tqdm(glob2.glob(path), desc='Read file'):\n",
        "        try:\n",
        "            with open(file_path, 'r', encoding='utf-8') as f:\n",
        "                data = f.read()\n",
        "\n",
        "            data = data.replace('“', ' ').replace('”', ' ')\n",
        "            data = (regex.sub(' ', str(data))).lower()\n",
        "\n",
        "            data = uts.word_tokenize(data, format='text')\n",
        "\n",
        "            data = ' '.join([word for word in data.split() if word not in stopwords])\n",
        "\n",
        "            label = file_path.split('/')[6]\n",
        "            texts.append(data)\n",
        "            labels.append(label)\n",
        "        except:\n",
        "            next\n",
        "    return texts, labels"
      ],
      "metadata": {
        "id": "y1indGQd2G8z"
      },
      "execution_count": null,
      "outputs": []
    },
    {
      "cell_type": "code",
      "source": [
        "text, label = load_and_preprocess_data('/content/drive/MyDrive/Bert/data/*/*.txt')"
      ],
      "metadata": {
        "colab": {
          "base_uri": "https://localhost:8080/",
          "height": 49,
          "referenced_widgets": [
            "0297ab7c224f42459383cfc224b4cef2",
            "db26e55909aa45ab943bddaeaba8f301",
            "614d7315a8f44a81ae62519891c64fe7",
            "cc9c68e6d2054b428bdbb44fdedfdc7e",
            "91a6ec7368b14673bfb891dbf92a75b9",
            "b1753f4c79214b0789eff9d07c652433",
            "ccfc077fca894853bc042ef6dbbf306b",
            "faceeaa346734fa9b3baf83d02ab3ee6",
            "38802e99b8bc4f13bccaf82d06bbe424",
            "53380a1f1b1f4d908f8572bc3dc854c4",
            "de3e58327fb24ff0b79b2747a6eef93e"
          ]
        },
        "id": "C5qVn6TV6aJn",
        "outputId": "340af84c-c6fe-4120-98df-03ccbd3f3988"
      },
      "execution_count": null,
      "outputs": [
        {
          "output_type": "display_data",
          "data": {
            "application/vnd.jupyter.widget-view+json": {
              "model_id": "0297ab7c224f42459383cfc224b4cef2",
              "version_minor": 0,
              "version_major": 2
            },
            "text/plain": [
              "Read file:   0%|          | 0/10000 [00:00<?, ?it/s]"
            ]
          },
          "metadata": {}
        }
      ]
    },
    {
      "cell_type": "markdown",
      "source": [
        "# **ONLY run the block below in the FIRST time !!!**"
      ],
      "metadata": {
        "id": "q1w5gPIyIGLf"
      }
    },
    {
      "cell_type": "code",
      "source": [
        "save_pkl('/content/drive/MyDrive/Bert/data/text.pkl', text)\n",
        "save_pkl('/content/drive/MyDrive/Bert/data/label.pkl', label)"
      ],
      "metadata": {
        "id": "26jmJhdd7uBg"
      },
      "execution_count": null,
      "outputs": []
    },
    {
      "cell_type": "markdown",
      "source": [
        "# **ONLY run the block below for the SECOND time onwards !!!**"
      ],
      "metadata": {
        "id": "myqu57-LIQXL"
      }
    },
    {
      "cell_type": "code",
      "source": [
        "text = load_pkl('/content/drive/MyDrive/Bert/data/text.pkl')\n",
        "label = load_pkl('/content/drive/MyDrive/Bert/data/label.pkl')"
      ],
      "metadata": {
        "id": "XvyfqKR5H74b"
      },
      "execution_count": null,
      "outputs": []
    },
    {
      "cell_type": "code",
      "source": [
        "figure, axis = plt.subplots(2, 2, figsize=(10, 10))\n",
        "\n",
        "text_len = [len(i.split()) for i in text[:2500]]\n",
        "sns.histplot(text_len, ax=axis[0, 0])\n",
        "\n",
        "text_len = [len(i.split()) for i in text[2500:5000]]\n",
        "sns.histplot(text_len, ax=axis[1, 0])\n",
        "\n",
        "text_len = [len(i.split()) for i in text[5000:7500]]\n",
        "sns.histplot(text_len, ax=axis[0, 1])\n",
        "\n",
        "text_len = [len(i.split()) for i in text[7500:]]\n",
        "sns.histplot(text_len, ax=axis[1, 1])\n",
        "\n",
        "plt.show()"
      ],
      "metadata": {
        "colab": {
          "base_uri": "https://localhost:8080/",
          "height": 595
        },
        "id": "WWNepzO58fVJ",
        "outputId": "a03ebaaa-97c7-466c-ffba-e80131c63a15"
      },
      "execution_count": null,
      "outputs": [
        {
          "output_type": "display_data",
          "data": {
            "image/png": "[encoded data removed]",
            "text/plain": [
              "<Figure size 720x720 with 4 Axes>"
            ]
          },
          "metadata": {
            "needs_background": "light"
          }
        }
      ]
    },
    {
      "cell_type": "code",
      "source": [
        "phobert = RobertaModel.from_pretrained('/content/drive/MyDrive/Bert/PhoBERT_base_fairseq', checkpoint_file='model.pt')\n",
        "phobert.eval()"
      ],
      "metadata": {
        "id": "7GbGQw5n9Ln2",
        "colab": {
          "base_uri": "https://localhost:8080/"
        },
        "outputId": "f49d51fc-767f-43a9-c1f6-7f7738a307ec"
      },
      "execution_count": null,
      "outputs": [
        {
          "output_type": "stream",
          "name": "stderr",
          "text": [
            "1042301B [00:00, 4947519.58B/s]\n",
            "456318B [00:00, 4539977.35B/s]\n"
          ]
        },
        {
          "output_type": "execute_result",
          "data": {
            "text/plain": [
              "RobertaHubInterface(\n",
              "  (model): RobertaModel(\n",
              "    (encoder): RobertaEncoder(\n",
              "      (sentence_encoder): TransformerSentenceEncoder(\n",
              "        (dropout_module): FairseqDropout()\n",
              "        (embed_tokens): Embedding(64001, 768, padding_idx=1)\n",
              "        (embed_positions): LearnedPositionalEmbedding(258, 768, padding_idx=1)\n",
              "        (layers): ModuleList(\n",
              "          (0): TransformerSentenceEncoderLayer(\n",
              "            (dropout_module): FairseqDropout()\n",
              "            (activation_dropout_module): FairseqDropout()\n",
              "            (self_attn): MultiheadAttention(\n",
              "              (dropout_module): FairseqDropout()\n",
              "              (k_proj): Linear(in_features=768, out_features=768, bias=True)\n",
              "              (v_proj): Linear(in_features=768, out_features=768, bias=True)\n",
              "              (q_proj): Linear(in_features=768, out_features=768, bias=True)\n",
              "              (out_proj): Linear(in_features=768, out_features=768, bias=True)\n",
              "            )\n",
              "            (self_attn_layer_norm): LayerNorm((768,), eps=1e-05, elementwise_affine=True)\n",
              "            (fc1): Linear(in_features=768, out_features=3072, bias=True)\n",
              "            (fc2): Linear(in_features=3072, out_features=768, bias=True)\n",
              "            (final_layer_norm): LayerNorm((768,), eps=1e-05, elementwise_affine=True)\n",
              "          )\n",
              "          (1): TransformerSentenceEncoderLayer(\n",
              "            (dropout_module): FairseqDropout()\n",
              "            (activation_dropout_module): FairseqDropout()\n",
              "            (self_attn): MultiheadAttention(\n",
              "              (dropout_module): FairseqDropout()\n",
              "              (k_proj): Linear(in_features=768, out_features=768, bias=True)\n",
              "              (v_proj): Linear(in_features=768, out_features=768, bias=True)\n",
              "              (q_proj): Linear(in_features=768, out_features=768, bias=True)\n",
              "              (out_proj): Linear(in_features=768, out_features=768, bias=True)\n",
              "            )\n",
              "            (self_attn_layer_norm): LayerNorm((768,), eps=1e-05, elementwise_affine=True)\n",
              "            (fc1): Linear(in_features=768, out_features=3072, bias=True)\n",
              "            (fc2): Linear(in_features=3072, out_features=768, bias=True)\n",
              "            (final_layer_norm): LayerNorm((768,), eps=1e-05, elementwise_affine=True)\n",
              "          )\n",
              "          (2): TransformerSentenceEncoderLayer(\n",
              "            (dropout_module): FairseqDropout()\n",
              "            (activation_dropout_module): FairseqDropout()\n",
              "            (self_attn): MultiheadAttention(\n",
              "              (dropout_module): FairseqDropout()\n",
              "              (k_proj): Linear(in_features=768, out_features=768, bias=True)\n",
              "              (v_proj): Linear(in_features=768, out_features=768, bias=True)\n",
              "              (q_proj): Linear(in_features=768, out_features=768, bias=True)\n",
              "              (out_proj): Linear(in_features=768, out_features=768, bias=True)\n",
              "            )\n",
              "            (self_attn_layer_norm): LayerNorm((768,), eps=1e-05, elementwise_affine=True)\n",
              "            (fc1): Linear(in_features=768, out_features=3072, bias=True)\n",
              "            (fc2): Linear(in_features=3072, out_features=768, bias=True)\n",
              "            (final_layer_norm): LayerNorm((768,), eps=1e-05, elementwise_affine=True)\n",
              "          )\n",
              "          (3): TransformerSentenceEncoderLayer(\n",
              "            (dropout_module): FairseqDropout()\n",
              "            (activation_dropout_module): FairseqDropout()\n",
              "            (self_attn): MultiheadAttention(\n",
              "              (dropout_module): FairseqDropout()\n",
              "              (k_proj): Linear(in_features=768, out_features=768, bias=True)\n",
              "              (v_proj): Linear(in_features=768, out_features=768, bias=True)\n",
              "              (q_proj): Linear(in_features=768, out_features=768, bias=True)\n",
              "              (out_proj): Linear(in_features=768, out_features=768, bias=True)\n",
              "            )\n",
              "            (self_attn_layer_norm): LayerNorm((768,), eps=1e-05, elementwise_affine=True)\n",
              "            (fc1): Linear(in_features=768, out_features=3072, bias=True)\n",
              "            (fc2): Linear(in_features=3072, out_features=768, bias=True)\n",
              "            (final_layer_norm): LayerNorm((768,), eps=1e-05, elementwise_affine=True)\n",
              "          )\n",
              "          (4): TransformerSentenceEncoderLayer(\n",
              "            (dropout_module): FairseqDropout()\n",
              "            (activation_dropout_module): FairseqDropout()\n",
              "            (self_attn): MultiheadAttention(\n",
              "              (dropout_module): FairseqDropout()\n",
              "              (k_proj): Linear(in_features=768, out_features=768, bias=True)\n",
              "              (v_proj): Linear(in_features=768, out_features=768, bias=True)\n",
              "              (q_proj): Linear(in_features=768, out_features=768, bias=True)\n",
              "              (out_proj): Linear(in_features=768, out_features=768, bias=True)\n",
              "            )\n",
              "            (self_attn_layer_norm): LayerNorm((768,), eps=1e-05, elementwise_affine=True)\n",
              "            (fc1): Linear(in_features=768, out_features=3072, bias=True)\n",
              "            (fc2): Linear(in_features=3072, out_features=768, bias=True)\n",
              "            (final_layer_norm): LayerNorm((768,), eps=1e-05, elementwise_affine=True)\n",
              "          )\n",
              "          (5): TransformerSentenceEncoderLayer(\n",
              "            (dropout_module): FairseqDropout()\n",
              "            (activation_dropout_module): FairseqDropout()\n",
              "            (self_attn): MultiheadAttention(\n",
              "              (dropout_module): FairseqDropout()\n",
              "              (k_proj): Linear(in_features=768, out_features=768, bias=True)\n",
              "              (v_proj): Linear(in_features=768, out_features=768, bias=True)\n",
              "              (q_proj): Linear(in_features=768, out_features=768, bias=True)\n",
              "              (out_proj): Linear(in_features=768, out_features=768, bias=True)\n",
              "            )\n",
              "            (self_attn_layer_norm): LayerNorm((768,), eps=1e-05, elementwise_affine=True)\n",
              "            (fc1): Linear(in_features=768, out_features=3072, bias=True)\n",
              "            (fc2): Linear(in_features=3072, out_features=768, bias=True)\n",
              "            (final_layer_norm): LayerNorm((768,), eps=1e-05, elementwise_affine=True)\n",
              "          )\n",
              "          (6): TransformerSentenceEncoderLayer(\n",
              "            (dropout_module): FairseqDropout()\n",
              "            (activation_dropout_module): FairseqDropout()\n",
              "            (self_attn): MultiheadAttention(\n",
              "              (dropout_module): FairseqDropout()\n",
              "              (k_proj): Linear(in_features=768, out_features=768, bias=True)\n",
              "              (v_proj): Linear(in_features=768, out_features=768, bias=True)\n",
              "              (q_proj): Linear(in_features=768, out_features=768, bias=True)\n",
              "              (out_proj): Linear(in_features=768, out_features=768, bias=True)\n",
              "            )\n",
              "            (self_attn_layer_norm): LayerNorm((768,), eps=1e-05, elementwise_affine=True)\n",
              "            (fc1): Linear(in_features=768, out_features=3072, bias=True)\n",
              "            (fc2): Linear(in_features=3072, out_features=768, bias=True)\n",
              "            (final_layer_norm): LayerNorm((768,), eps=1e-05, elementwise_affine=True)\n",
              "          )\n",
              "          (7): TransformerSentenceEncoderLayer(\n",
              "            (dropout_module): FairseqDropout()\n",
              "            (activation_dropout_module): FairseqDropout()\n",
              "            (self_attn): MultiheadAttention(\n",
              "              (dropout_module): FairseqDropout()\n",
              "              (k_proj): Linear(in_features=768, out_features=768, bias=True)\n",
              "              (v_proj): Linear(in_features=768, out_features=768, bias=True)\n",
              "              (q_proj): Linear(in_features=768, out_features=768, bias=True)\n",
              "              (out_proj): Linear(in_features=768, out_features=768, bias=True)\n",
              "            )\n",
              "            (self_attn_layer_norm): LayerNorm((768,), eps=1e-05, elementwise_affine=True)\n",
              "            (fc1): Linear(in_features=768, out_features=3072, bias=True)\n",
              "            (fc2): Linear(in_features=3072, out_features=768, bias=True)\n",
              "            (final_layer_norm): LayerNorm((768,), eps=1e-05, elementwise_affine=True)\n",
              "          )\n",
              "          (8): TransformerSentenceEncoderLayer(\n",
              "            (dropout_module): FairseqDropout()\n",
              "            (activation_dropout_module): FairseqDropout()\n",
              "            (self_attn): MultiheadAttention(\n",
              "              (dropout_module): FairseqDropout()\n",
              "              (k_proj): Linear(in_features=768, out_features=768, bias=True)\n",
              "              (v_proj): Linear(in_features=768, out_features=768, bias=True)\n",
              "              (q_proj): Linear(in_features=768, out_features=768, bias=True)\n",
              "              (out_proj): Linear(in_features=768, out_features=768, bias=True)\n",
              "            )\n",
              "            (self_attn_layer_norm): LayerNorm((768,), eps=1e-05, elementwise_affine=True)\n",
              "            (fc1): Linear(in_features=768, out_features=3072, bias=True)\n",
              "            (fc2): Linear(in_features=3072, out_features=768, bias=True)\n",
              "            (final_layer_norm): LayerNorm((768,), eps=1e-05, elementwise_affine=True)\n",
              "          )\n",
              "          (9): TransformerSentenceEncoderLayer(\n",
              "            (dropout_module): FairseqDropout()\n",
              "            (activation_dropout_module): FairseqDropout()\n",
              "            (self_attn): MultiheadAttention(\n",
              "              (dropout_module): FairseqDropout()\n",
              "              (k_proj): Linear(in_features=768, out_features=768, bias=True)\n",
              "              (v_proj): Linear(in_features=768, out_features=768, bias=True)\n",
              "              (q_proj): Linear(in_features=768, out_features=768, bias=True)\n",
              "              (out_proj): Linear(in_features=768, out_features=768, bias=True)\n",
              "            )\n",
              "            (self_attn_layer_norm): LayerNorm((768,), eps=1e-05, elementwise_affine=True)\n",
              "            (fc1): Linear(in_features=768, out_features=3072, bias=True)\n",
              "            (fc2): Linear(in_features=3072, out_features=768, bias=True)\n",
              "            (final_layer_norm): LayerNorm((768,), eps=1e-05, elementwise_affine=True)\n",
              "          )\n",
              "          (10): TransformerSentenceEncoderLayer(\n",
              "            (dropout_module): FairseqDropout()\n",
              "            (activation_dropout_module): FairseqDropout()\n",
              "            (self_attn): MultiheadAttention(\n",
              "              (dropout_module): FairseqDropout()\n",
              "              (k_proj): Linear(in_features=768, out_features=768, bias=True)\n",
              "              (v_proj): Linear(in_features=768, out_features=768, bias=True)\n",
              "              (q_proj): Linear(in_features=768, out_features=768, bias=True)\n",
              "              (out_proj): Linear(in_features=768, out_features=768, bias=True)\n",
              "            )\n",
              "            (self_attn_layer_norm): LayerNorm((768,), eps=1e-05, elementwise_affine=True)\n",
              "            (fc1): Linear(in_features=768, out_features=3072, bias=True)\n",
              "            (fc2): Linear(in_features=3072, out_features=768, bias=True)\n",
              "            (final_layer_norm): LayerNorm((768,), eps=1e-05, elementwise_affine=True)\n",
              "          )\n",
              "          (11): TransformerSentenceEncoderLayer(\n",
              "            (dropout_module): FairseqDropout()\n",
              "            (activation_dropout_module): FairseqDropout()\n",
              "            (self_attn): MultiheadAttention(\n",
              "              (dropout_module): FairseqDropout()\n",
              "              (k_proj): Linear(in_features=768, out_features=768, bias=True)\n",
              "              (v_proj): Linear(in_features=768, out_features=768, bias=True)\n",
              "              (q_proj): Linear(in_features=768, out_features=768, bias=True)\n",
              "              (out_proj): Linear(in_features=768, out_features=768, bias=True)\n",
              "            )\n",
              "            (self_attn_layer_norm): LayerNorm((768,), eps=1e-05, elementwise_affine=True)\n",
              "            (fc1): Linear(in_features=768, out_features=3072, bias=True)\n",
              "            (fc2): Linear(in_features=3072, out_features=768, bias=True)\n",
              "            (final_layer_norm): LayerNorm((768,), eps=1e-05, elementwise_affine=True)\n",
              "          )\n",
              "        )\n",
              "        (emb_layer_norm): LayerNorm((768,), eps=1e-05, elementwise_affine=True)\n",
              "      )\n",
              "      (lm_head): RobertaLMHead(\n",
              "        (dense): Linear(in_features=768, out_features=768, bias=True)\n",
              "        (layer_norm): LayerNorm((768,), eps=1e-05, elementwise_affine=True)\n",
              "      )\n",
              "    )\n",
              "    (classification_heads): ModuleDict()\n",
              "  )\n",
              ")"
            ]
          },
          "metadata": {},
          "execution_count": 11
        }
      ]
    },
    {
      "cell_type": "code",
      "source": [
        "class BPE():\n",
        "    bpe_codes = '/content/drive/MyDrive/Bert/PhoBERT_base_fairseq/bpe.codes'\n",
        "\n",
        "args = BPE()\n",
        "phobert.bpe = fastBPE(args)"
      ],
      "metadata": {
        "id": "XjlElm9ZGpTg"
      },
      "execution_count": null,
      "outputs": []
    },
    {
      "cell_type": "code",
      "source": [
        "MAX_LEN = 256\n",
        "def feature_extraction(data):\n",
        "\n",
        "    outputs = []\n",
        "\n",
        "    for i, d in tqdm(enumerate(data), total=len(data)):\n",
        "        input_ids = phobert.encode(d).long().tolist()\n",
        "\n",
        "        if len(input_ids) > MAX_LEN:\n",
        "            input_ids = input_ids[:MAX_LEN]\n",
        "            input_ids[-1] = 2  #truncate\n",
        "        else:\n",
        "            input_ids = input_ids + [1, ] * (MAX_LEN - len(input_ids))  #padding\n",
        "\n",
        "        input_ids = torch.tensor([input_ids])\n",
        "        last_layer_features = phobert.extract_features(input_ids)\n",
        "\n",
        "        outputs.append(np.ravel(last_layer_features[:, 0, :].detach().numpy()))\n",
        "\n",
        "    return outputs"
      ],
      "metadata": {
        "id": "cQo7afVkGty8"
      },
      "execution_count": null,
      "outputs": []
    },
    {
      "cell_type": "code",
      "source": [
        "text_features = feature_extraction(text)"
      ],
      "metadata": {
        "id": "GIm-mSSAILtb",
        "colab": {
          "base_uri": "https://localhost:8080/",
          "height": 49,
          "referenced_widgets": [
            "9ce79cd4414d46f881c715ad2ccc3ebe",
            "794188f5727e4b0f8e59fe78134d79d9",
            "63d8f58cb8104cfabdd957881661d3fb",
            "a1528192da1d4667b08ba498089776cb",
            "dc1c63ba72d84677ad380dc659b4552d",
            "8a090d0f84494c3daece395d9b4af96c",
            "f9b7c9d54da54586896ef4a500c28e9f",
            "24e26d64724f4ab38279fdcfe70527ae",
            "3dbe9f14d523459798995508c605930b",
            "5cb843f186704a749349cbd1346fcbc2",
            "c632c67fd7a14eefba002973278f839d"
          ]
        },
        "outputId": "898014cb-3279-4760-ccb3-c60e66a115bc"
      },
      "execution_count": null,
      "outputs": [
        {
          "output_type": "display_data",
          "data": {
            "application/vnd.jupyter.widget-view+json": {
              "model_id": "9ce79cd4414d46f881c715ad2ccc3ebe",
              "version_minor": 0,
              "version_major": 2
            },
            "text/plain": [
              "  0%|          | 0/10000 [00:00<?, ?it/s]"
            ]
          },
          "metadata": {}
        }
      ]
    },
    {
      "cell_type": "markdown",
      "source": [
        "# **ONLY run the block below in the FIRST time !!!**"
      ],
      "metadata": {
        "id": "YJ7P1k9DJGsD"
      }
    },
    {
      "cell_type": "code",
      "source": [
        "save_pkl('/content/drive/MyDrive/Bert/data/text_features.pkl', text_features)"
      ],
      "metadata": {
        "id": "-4kHKDy_IN2-"
      },
      "execution_count": null,
      "outputs": []
    },
    {
      "cell_type": "markdown",
      "source": [
        "# **ONLY run the block below for the SECOND time onwards !!!**"
      ],
      "metadata": {
        "id": "q6L8SsfjJN3d"
      }
    },
    {
      "cell_type": "code",
      "source": [
        "text_features = load_pkl('/content/drive/MyDrive/Bert/data/text_features.pkl')\n",
        "label = load_pkl('/content/drive/MyDrive/Bert/data/label.pkl')"
      ],
      "metadata": {
        "id": "M_P5zlBVpjTp"
      },
      "execution_count": null,
      "outputs": []
    },
    {
      "cell_type": "code",
      "source": [
        "label[:5]"
      ],
      "metadata": {
        "colab": {
          "base_uri": "https://localhost:8080/"
        },
        "id": "Vwe8XC_rrqfU",
        "outputId": "7dc99ac3-f437-4354-c21b-51a44c9f4d8e"
      },
      "execution_count": null,
      "outputs": [
        {
          "output_type": "execute_result",
          "data": {
            "text/plain": [
              "['phap-luat', 'phap-luat', 'phap-luat', 'phap-luat', 'phap-luat']"
            ]
          },
          "metadata": {},
          "execution_count": 9
        }
      ]
    },
    {
      "cell_type": "code",
      "source": [
        "text_features[0]"
      ],
      "metadata": {
        "colab": {
          "base_uri": "https://localhost:8080/"
        },
        "id": "kq1cfByIFyYu",
        "outputId": "76c9368c-53d6-4b85-bb12-a39591df610d"
      },
      "execution_count": null,
      "outputs": [
        {
          "output_type": "execute_result",
          "data": {
            "text/plain": [
              "array([-6.64633512e-01,  6.08061194e-01, -2.94787079e-01, -8.78853798e-01,\n",
              "       -8.74021575e-02,  4.57739264e-01,  3.18061829e-01, -5.26020288e-01,\n",
              "       -1.75772801e-01,  2.34328195e-01,  7.26083517e-02, -1.52747855e-01,\n",
              "       -8.59599710e-02,  3.99281293e-01, -3.12956162e-02,  5.60898244e-01,\n",
              "       -1.34216398e-01, -3.21620375e-01, -3.04441631e-01,  1.14464611e-01,\n",
              "        5.04376590e-01, -1.17346001e+00,  7.41763934e-02,  1.47321716e-01,\n",
              "       -1.27521574e-01,  5.00810407e-02,  1.90301150e-01,  5.50266132e-02,\n",
              "        6.54117018e-02,  6.25840902e-01, -3.02806888e-02, -1.95524246e-01,\n",
              "        5.07519305e-01, -2.18051285e-01,  3.53910178e-01, -2.22734779e-01,\n",
              "       -4.00508672e-01, -4.10585925e-02,  2.52472490e-01,  1.16303392e-01,\n",
              "        2.80851513e-01, -3.19556862e-01,  3.07668507e-01, -3.13361913e-01,\n",
              "        2.56148696e-01,  7.58872256e-02,  4.37690109e-01,  8.26780796e-02,\n",
              "        5.39974809e-01,  5.29991210e-01,  3.55969854e-02, -3.98119017e-02,\n",
              "        3.31357837e-01, -3.41868162e-01,  6.66933715e-01,  2.05508426e-01,\n",
              "        4.78119813e-02,  1.39263436e-01, -1.41477123e-01, -3.77458930e-01,\n",
              "        2.69407153e-01, -1.39532518e-03,  2.60279238e-01,  5.26650071e-01,\n",
              "       -3.01002362e-03, -4.04019505e-01, -4.59416986e-01,  3.75432909e-01,\n",
              "       -6.31056577e-02, -1.79290563e-01,  1.56409547e-01,  1.70765683e-01,\n",
              "       -2.23028839e-01,  6.14011407e-01, -3.19551826e-01, -1.49924129e-01,\n",
              "        1.99214965e-01,  2.14054734e-01,  2.16625765e-01,  1.19496891e-02,\n",
              "       -1.24849372e-01,  2.39558160e-01,  2.85616159e-01,  1.47955343e-01,\n",
              "       -3.03492546e-01,  6.87348023e-02, -2.77481675e-01, -5.46298586e-02,\n",
              "        2.71824151e-01,  2.80172110e-01,  2.96938449e-01,  2.82752305e-01,\n",
              "       -3.94875258e-01,  5.85465908e-01,  7.07098782e-01, -7.50531197e-01,\n",
              "        1.40814826e-01, -2.44044185e-01, -4.58155684e-02,  1.88984647e-01,\n",
              "       -1.49802655e-01,  5.61811984e-01,  4.58409458e-01,  3.82600099e-01,\n",
              "        4.15623561e-02,  3.41096753e-03,  6.49647593e-01, -1.90805942e-01,\n",
              "        4.92991209e-01,  4.69790906e-01, -1.50255099e-01,  1.89143643e-01,\n",
              "       -1.00289755e-01,  4.65590477e-01, -1.86747119e-01,  3.97751108e-02,\n",
              "        4.27947134e-01,  9.34450552e-02,  5.29782712e-01, -6.27594650e-01,\n",
              "        2.82604527e-02, -5.73853552e-01, -5.79460144e-01,  1.52453169e-01,\n",
              "       -2.18581080e-01, -4.34088916e-01,  9.10029933e-02, -4.02719468e-01,\n",
              "        6.62401319e-02, -4.49223071e-01, -4.24741864e-01, -5.69894135e-01,\n",
              "       -4.55358356e-01,  4.31706309e-01, -9.62570831e-02, -3.79691012e-02,\n",
              "        3.26677948e-01,  2.54009187e-01, -4.03585523e-01,  3.94127905e-01,\n",
              "        1.20493181e-01,  3.73378098e-01, -3.12638879e-01, -3.06187928e-01,\n",
              "       -7.74209857e-01, -2.98073113e-01, -1.38486307e-02,  3.10105741e-01,\n",
              "       -2.03084350e-01,  1.19234645e+00, -2.01149940e-01,  4.13720667e-01,\n",
              "       -6.11497223e-01,  3.83338094e-01, -2.77320296e-01, -2.15521514e-01,\n",
              "        3.48685741e-01, -2.29563877e-01,  1.43436396e+00,  2.92406194e-02,\n",
              "        3.57904196e-01, -5.37306547e-01, -5.23234606e-01,  1.13017716e-01,\n",
              "       -1.88799798e-01, -5.44459149e-02,  1.45119786e-01,  3.62375170e-01,\n",
              "        1.42161444e-01,  5.46487421e-03, -5.38891494e-01,  2.80083358e-01,\n",
              "        2.32838020e-01,  3.29250023e-02,  4.79841121e-02,  1.36289537e-01,\n",
              "        7.94221044e-01,  8.19004953e-01,  3.42059359e-02, -5.96389957e-02,\n",
              "       -3.05345118e-01,  3.68777722e-01,  6.56584740e-01,  7.91512951e-02,\n",
              "        7.92045712e-01,  4.95471984e-01,  4.80102718e-01,  3.65849108e-01,\n",
              "        1.80329368e-01, -2.51458973e-01,  5.20468533e-01,  4.16533828e-01,\n",
              "       -5.34306169e-01,  1.12961255e-01, -4.28209603e-01,  2.48484731e-01,\n",
              "        6.38525980e-03,  2.11549588e-02,  2.35191509e-01,  4.80609126e-02,\n",
              "        8.05940405e-02,  4.91598278e-01,  9.25558060e-02, -6.72518432e-01,\n",
              "       -3.56363058e-01, -6.29986882e-01,  6.02816284e-01, -9.41698253e-02,\n",
              "       -9.63546708e-02,  1.61978051e-01,  1.64776091e-02, -5.45940995e-01,\n",
              "       -6.46196425e-01, -5.58766246e-01, -4.51938063e-01, -3.31136942e-01,\n",
              "        4.66578573e-01,  2.49091387e-02, -5.07699966e-01, -2.96201527e-01,\n",
              "        4.16595429e-01, -3.78557801e-01, -5.33603132e-01, -3.96325737e-01,\n",
              "        9.52478528e-01, -5.89446016e-02, -2.09304497e-01, -9.13934559e-02,\n",
              "        5.77981532e-01, -5.07746935e-01,  5.38027167e-01, -1.40976906e-01,\n",
              "        1.09810613e-01, -2.32981816e-01,  3.90022010e-01,  1.92266509e-01,\n",
              "       -2.12295070e-01, -2.67912626e-01, -6.40508473e-01,  2.97869414e-01,\n",
              "       -3.07269901e-01,  4.69982177e-01, -7.74692118e-01, -6.27913401e-02,\n",
              "        1.88827679e-01, -9.34515670e-02,  1.54719934e-01,  1.53264552e-01,\n",
              "       -1.00748420e-01, -2.12798893e-01, -1.82897210e-01,  8.92740563e-02,\n",
              "        2.20247939e-01, -1.18018761e-01,  1.08292490e-01, -3.76977809e-02,\n",
              "        1.73170745e-01,  5.77916741e-01, -5.11588752e-01,  2.57144630e-01,\n",
              "        3.96680444e-01,  2.84558117e-01,  2.23432302e-01,  2.04558372e-01,\n",
              "        1.58923138e-02, -1.71289682e-01,  6.81430325e-02,  8.92353244e-03,\n",
              "       -2.03066617e-02, -1.57721698e-01, -1.41537264e-01,  3.95917982e-01,\n",
              "        2.46140048e-01, -8.17416459e-02,  3.19950730e-01, -2.46217772e-01,\n",
              "       -1.95430830e-01, -6.71005994e-02,  5.92582345e-01,  2.12855130e-01,\n",
              "       -1.92357972e-02, -4.50424969e-01,  1.25787497e-01,  8.53058919e-02,\n",
              "        4.71596867e-01,  4.44992810e-01,  6.88161731e-01,  2.90988177e-01,\n",
              "       -1.50641769e-01, -1.05078079e-01,  7.18956143e-02,  4.65679556e-01,\n",
              "        8.89695048e-01, -3.01525623e-01, -6.17078245e-01,  1.76598653e-01,\n",
              "        5.97896218e-01,  5.50703526e-01, -2.09819570e-01,  4.83172596e-01,\n",
              "       -3.93979102e-01, -3.25949103e-01, -6.53107837e-02, -1.07656479e-01,\n",
              "        5.56605577e-01, -5.35592258e-01,  2.34141797e-02,  2.68079609e-01,\n",
              "        1.80956915e-01,  8.13441932e-01,  7.67502606e-01, -3.31591815e-01,\n",
              "        1.19926110e-01,  3.22683007e-01, -8.48868191e-01,  1.45193949e-01,\n",
              "       -9.42191064e-01, -6.08464599e-01,  2.12337166e-01, -6.03543758e-01,\n",
              "        2.31114849e-02,  3.05642694e-01, -5.84014058e-01, -3.19729686e-01,\n",
              "       -3.89658324e-02, -5.05659461e-01, -2.58319438e-01, -1.54698156e-02,\n",
              "        9.14743915e-02,  1.35853544e-01, -3.04151773e-01,  8.58430088e-01,\n",
              "       -4.97159250e-02, -2.85747916e-01,  7.34233931e-02, -3.56482893e-01,\n",
              "        2.61933029e-01,  1.29295826e-01, -3.81916314e-01, -7.64205933e-01,\n",
              "       -3.13007265e-01,  1.13878213e-01,  4.91775215e-01,  5.07607043e-01,\n",
              "        5.08730710e-01, -7.36894533e-02,  1.47063946e-02, -5.71942270e-01,\n",
              "       -5.35991848e-01, -6.05063796e-01, -4.83005971e-01,  2.89265299e-03,\n",
              "        6.12657726e-01,  1.79370657e-01,  1.42078757e-01, -3.28528136e-01,\n",
              "       -1.02684371e-01, -1.38187502e-02,  1.57013431e-01,  4.85311709e-02,\n",
              "        9.96435881e-02,  5.79802454e-01, -3.58592957e-01,  3.46513629e-01,\n",
              "       -6.26821280e-01, -1.45303592e-01,  1.31163308e-02,  4.17880237e-01,\n",
              "       -5.98674595e-01, -2.02675089e-02, -4.91939068e-01,  3.58824790e-01,\n",
              "        4.96027827e-01, -9.41298679e-02,  2.05320969e-01,  2.69347787e-01,\n",
              "       -2.94428300e-02, -1.20152138e-01,  9.67768282e-02,  3.49098712e-01,\n",
              "       -5.17791688e-01,  5.52984290e-02, -9.46135670e-02, -6.55655444e-01,\n",
              "        3.32638472e-02,  2.93251574e-02,  4.98995222e-02,  1.34481192e-01,\n",
              "       -1.96286321e-01,  6.16189599e-01, -1.44584641e-01, -1.74993336e-01,\n",
              "       -4.47271287e-01, -3.52915585e-01, -4.63312835e-01, -3.36614966e-01,\n",
              "        4.07538116e-01,  1.09235100e-01,  3.31905067e-01, -1.44536290e-02,\n",
              "       -3.61418605e-01, -4.77267802e-03, -5.49217761e-01, -4.12488520e-01,\n",
              "        2.52746910e-01, -3.72081101e-01,  6.80696666e-01,  4.35234100e-01,\n",
              "        1.65885445e-02, -5.55597723e-01,  1.57436773e-01,  3.47609758e-01,\n",
              "        4.38408330e-02,  5.39520979e-01, -2.47095808e-01, -4.35342729e-01,\n",
              "       -6.47076786e-01,  3.90460417e-02,  4.44051117e-01, -2.30695270e-02,\n",
              "        4.40057255e-02, -2.35598370e-01, -2.63137519e-01,  2.92276412e-01,\n",
              "        4.83621508e-01,  2.12985724e-01,  7.03504458e-02, -4.63085741e-01,\n",
              "        9.64897200e-02, -5.54309368e-01,  3.49357218e-01, -3.06669295e-01,\n",
              "        9.32118073e-02, -3.56859684e-01, -6.19993061e-02,  4.12430435e-01,\n",
              "       -2.15034589e-01,  7.54509747e-01,  4.47785795e-01,  1.90887019e-01,\n",
              "        2.24769682e-01,  2.83624828e-01,  1.37375310e-01, -3.94472003e-01,\n",
              "        4.54202086e-01,  3.55054513e-02,  7.69882441e-01, -1.31499231e-01,\n",
              "       -3.72028083e-01,  2.19047159e-01, -4.54013824e-01,  3.61859679e-01,\n",
              "       -6.18569374e-01,  7.37316087e-02,  8.26837048e-02, -2.46975526e-01,\n",
              "       -3.63033116e-01,  3.69469345e-01, -5.47857225e-01, -2.85067648e-01,\n",
              "        1.87304452e-01,  1.97256967e-01, -1.37185276e-01,  9.22233388e-02,\n",
              "        3.05332899e-01,  6.73700348e-02, -6.48974359e-01, -8.06583464e-02,\n",
              "        1.26328394e-01, -4.33861822e-01,  1.30726352e-01,  1.50403157e-01,\n",
              "        3.42686236e-01, -1.25321463e-01, -1.28850669e-01,  1.91435650e-01,\n",
              "        1.42803162e-01,  3.23480397e-01, -4.76310790e-01,  5.21395683e-01,\n",
              "        8.10978413e-01, -4.45060372e-01, -4.43305880e-01,  3.80140194e-03,\n",
              "       -2.47839883e-01,  1.56487450e-01, -7.01799393e-01, -1.24794215e-01,\n",
              "       -1.18706755e-01,  3.65276515e-01, -2.55464427e-02,  1.63102746e-01,\n",
              "        1.11022688e-01, -2.69262850e-01, -3.58362049e-01,  9.76124927e-02,\n",
              "        4.20569628e-01,  1.05914213e-01, -4.92556781e-01, -2.38543913e-01,\n",
              "        3.29340734e-02,  2.63105810e-01,  2.80157566e-01, -1.56923831e-01,\n",
              "        1.20051003e+00, -5.42593181e-01,  2.45008752e-01,  2.77082503e-01,\n",
              "       -5.15402853e-01, -7.97745660e-02,  1.56093314e-01, -8.48915651e-02,\n",
              "        2.82222807e-01,  4.68375236e-01, -6.11531511e-02, -2.34151855e-01,\n",
              "       -1.53608635e-01,  6.24214768e-01, -2.61823833e-01,  3.01570326e-01,\n",
              "        2.21274018e-01, -5.27463734e-01, -2.64068872e-01, -1.11191891e-01,\n",
              "       -1.62907898e-01,  1.38513327e-01,  7.21337944e-02,  1.71590999e-01,\n",
              "       -2.63019085e-01, -5.67101061e-01,  1.36678249e-01,  3.91055614e-01,\n",
              "        1.48582220e+00, -3.39803308e-01,  9.72323477e-01, -2.18701363e-01,\n",
              "        1.23197146e-01,  1.11316729e+00,  3.35573524e-01,  2.84038991e-01,\n",
              "        7.85930753e-01,  1.61400333e-01, -1.83347702e-01,  9.43478718e-02,\n",
              "       -2.71544099e-01,  6.21998310e-02,  5.95827579e-01,  9.34769094e-01,\n",
              "        6.78911731e-02,  6.55233040e-02,  3.38000208e-01,  1.07021064e-01,\n",
              "        1.11884564e-01, -2.58349359e-01, -2.68146813e-01, -6.41047478e-01,\n",
              "       -1.90627024e-01,  3.59875709e-01,  4.59860712e-02, -4.67120230e-01,\n",
              "        6.50557399e-01, -2.54639208e-01, -3.89803529e-01, -1.28216937e-01,\n",
              "       -4.63811785e-01, -8.70548412e-02,  2.68382341e-01,  3.26286316e-01,\n",
              "       -2.20549569e-01,  1.02355711e-01,  3.44435692e-01,  5.35733178e-02,\n",
              "        2.08905771e-01,  5.16573973e-02, -3.86602014e-01,  2.10975170e-01,\n",
              "        9.79859233e-02,  1.59255534e-01,  5.16196430e-01, -3.56031924e-01,\n",
              "        7.73849562e-02, -1.52597651e-01, -1.02477334e-01, -4.61564004e-01,\n",
              "        2.32704610e-01, -6.73594177e-01,  1.15876317e-01,  3.69467169e-01,\n",
              "       -9.06174123e-01,  2.71961331e-01, -9.56176817e-01,  2.81634778e-01,\n",
              "        2.29897231e-01, -3.01462054e-01,  2.62841910e-01, -8.81567597e-01,\n",
              "       -1.34602070e-01,  4.52533096e-01,  1.52278408e-01,  6.29322708e-01,\n",
              "       -1.22334078e-01,  4.34910536e-01,  5.59409678e-01,  3.68642032e-01,\n",
              "        6.07073903e-01,  1.99918017e-01, -5.01486212e-02,  2.00233251e-01,\n",
              "       -4.74806763e-02,  3.63966703e-01,  4.05168384e-01,  2.37492383e-01,\n",
              "       -5.48257411e-01, -2.75247335e-01,  1.82061344e-01, -2.80221980e-02,\n",
              "        3.66050303e-01,  1.38078392e-01, -1.33496419e-01,  1.29645646e-01,\n",
              "        2.25860447e-01,  2.76201874e-01,  4.82848912e-01,  2.75698692e-01,\n",
              "        3.08121830e-01,  1.96693152e-01, -3.20565283e-01, -1.35161638e-01,\n",
              "        1.82408676e-01, -2.26828068e-01,  2.63649642e-01,  5.24418242e-03,\n",
              "       -4.20539290e-01,  3.71101387e-02,  3.13616872e-01, -3.49322379e-01,\n",
              "       -8.36427927e-01, -7.70961642e-02, -4.66598719e-02,  6.31277084e-01,\n",
              "        3.22930217e-01,  6.46782756e-01,  4.56722528e-01,  5.46799064e-01,\n",
              "        2.02115979e-02, -2.16604486e-01,  3.15605611e-01,  1.43751889e-01,\n",
              "        2.28536651e-01, -1.25837728e-01,  5.36341190e-01, -4.18755352e-01,\n",
              "        3.22555125e-01, -5.24391949e-01, -2.08424330e-01, -4.36208099e-01,\n",
              "        5.40738881e-01, -4.95467156e-01, -1.73190311e-01,  3.86409670e-01,\n",
              "       -1.42016247e-01, -4.42711294e-01, -1.17351696e-01,  1.82866100e-02,\n",
              "       -1.99653685e-01, -2.46428996e-01, -2.10528001e-01, -7.68384933e-02,\n",
              "        1.88699424e-01, -2.63492703e-01,  5.64717889e-01,  5.17547354e-02,\n",
              "       -1.87743768e-01,  8.84441614e-01,  2.59293586e-01, -3.36658031e-01,\n",
              "       -1.61529943e-01, -7.39205718e-01, -8.99666250e-02,  3.45391512e-01,\n",
              "       -4.04579759e-01, -6.22342050e-01, -2.41929084e-01,  5.48091173e-01,\n",
              "       -1.82615854e-02, -2.49247685e-01,  4.65288252e-01, -4.38190997e-02,\n",
              "       -1.92425903e-02,  2.49068007e-01,  5.19167185e-01, -2.21434727e-01,\n",
              "        6.76325440e-01,  8.89310390e-02, -9.20307860e-02,  1.07689664e-01,\n",
              "       -3.43641698e-01, -3.13058436e-01, -5.13496697e-01, -6.51021162e-03,\n",
              "        4.58822519e-01,  8.38819742e-01,  9.50017691e-01,  1.06993869e-01,\n",
              "       -4.48521256e-01, -4.78726961e-02, -3.60956073e-01,  2.88865149e-01,\n",
              "        2.21162990e-01, -1.85955971e-01,  1.71374470e-01,  5.98734736e-01,\n",
              "        5.84907308e-02,  4.13272232e-01, -6.06632270e-02,  1.53209060e-01,\n",
              "        3.60402733e-01, -2.12943822e-01, -1.52150705e-01, -3.89213979e-01,\n",
              "       -1.70896828e-01, -1.63587570e-01, -5.95396161e-01, -1.58575118e-01,\n",
              "        3.69770437e-01, -9.06634256e-02,  4.80089992e-01,  5.77902608e-02,\n",
              "       -3.29468250e-01,  2.45813131e-01,  8.95277917e-01, -3.39178652e-01,\n",
              "        4.45511848e-01, -3.08636814e-01,  2.72570163e-01,  3.72837573e-01,\n",
              "       -1.58169091e-01,  3.67683202e-01, -1.44949228e-01,  1.59797400e-01,\n",
              "       -2.50900351e-02, -9.35448892e-03, -8.87150168e-01, -2.40929574e-02,\n",
              "       -6.75499737e-02,  1.18698686e-01,  7.49914587e-01, -1.00198913e+00,\n",
              "        4.01790738e-01,  6.27529770e-02,  6.50230467e-01,  1.07876219e-01,\n",
              "       -1.60611510e-01, -2.09092230e-01, -4.00542736e-01,  3.83515656e-01,\n",
              "        6.57501996e-01,  7.32275367e-01, -6.74671471e-01, -2.05899954e-01,\n",
              "       -2.61943042e-01,  1.88136846e-01, -4.18851793e-01, -1.98237404e-01,\n",
              "        2.92499006e-01,  4.35426384e-01,  4.05709714e-01, -4.19655055e-01],\n",
              "      dtype=float32)"
            ]
          },
          "metadata": {},
          "execution_count": 10
        }
      ]
    },
    {
      "cell_type": "code",
      "source": [
        "lb = LabelEncoder()\n",
        "lb.fit(label)\n",
        "label = lb.fit_transform(label)"
      ],
      "metadata": {
        "id": "V_U7IzNtIRE7"
      },
      "execution_count": null,
      "outputs": []
    },
    {
      "cell_type": "code",
      "source": [
        "X_train, X_test, y_train, y_test = train_test_split(text_features, label, test_size = .2, shuffle = True, stratify=label)"
      ],
      "metadata": {
        "id": "GePN1y2fIrA_"
      },
      "execution_count": null,
      "outputs": []
    },
    {
      "cell_type": "code",
      "source": [
        "label"
      ],
      "metadata": {
        "colab": {
          "base_uri": "https://localhost:8080/"
        },
        "id": "dKXWgLznqj8k",
        "outputId": "c833b5df-1657-4219-9295-6de155821b73"
      },
      "execution_count": null,
      "outputs": [
        {
          "output_type": "execute_result",
          "data": {
            "text/plain": [
              "array([6, 6, 6, ..., 2, 2, 2])"
            ]
          },
          "metadata": {},
          "execution_count": 13
        }
      ]
    },
    {
      "cell_type": "code",
      "source": [
        "knn = KNeighborsClassifier(n_neighbors=3)\n",
        "knn.fit(X_train, y_train)"
      ],
      "metadata": {
        "id": "1DYwQAkC-xFc",
        "colab": {
          "base_uri": "https://localhost:8080/"
        },
        "outputId": "327888af-cd48-4b24-f29f-418a691e0145"
      },
      "execution_count": null,
      "outputs": [
        {
          "output_type": "execute_result",
          "data": {
            "text/plain": [
              "KNeighborsClassifier(n_neighbors=3)"
            ]
          },
          "metadata": {},
          "execution_count": 14
        }
      ]
    },
    {
      "cell_type": "code",
      "source": [
        "knn_label_predict = knn.predict(X_test)"
      ],
      "metadata": {
        "id": "C5sMD3sLqIVy"
      },
      "execution_count": null,
      "outputs": []
    },
    {
      "cell_type": "code",
      "source": [
        "knn_label_predict[0:5]"
      ],
      "metadata": {
        "colab": {
          "base_uri": "https://localhost:8080/"
        },
        "id": "tMPCw_GzqVTP",
        "outputId": "3d739325-ee32-427f-d36e-b9fc925f592c"
      },
      "execution_count": null,
      "outputs": [
        {
          "output_type": "execute_result",
          "data": {
            "text/plain": [
              "array([0, 6, 8, 4, 2])"
            ]
          },
          "metadata": {},
          "execution_count": 16
        }
      ]
    },
    {
      "cell_type": "code",
      "source": [
        "from sklearn.metrics import mean_squared_error\n",
        "\n",
        "\n",
        "acc_knn = knn.score(X_test, y_test)*100\n",
        "mse_knn = mean_squared_error(y_test, knn_label_predict)\n",
        "rmse_knn = mean_squared_error(y_test, knn_label_predict,squared = False)\n",
        "\n",
        "print('Accuracy with KNN: ',acc_knn,'%')\n",
        "print('Mean squared error with KNN: ',mse_knn)\n",
        "print('Root mean squared error with KNN: ',rmse_knn)"
      ],
      "metadata": {
        "colab": {
          "base_uri": "https://localhost:8080/"
        },
        "id": "oA-zFhCVqXT6",
        "outputId": "1aab6175-a26f-4c33-d26d-46fb21d977fc"
      },
      "execution_count": null,
      "outputs": [
        {
          "output_type": "stream",
          "name": "stdout",
          "text": [
            "Accuracy with KNN:  88.44999999999999 %\n",
            "Mean squared error with KNN:  1.8345\n",
            "Root mean squared error with KNN:  1.354437152473307\n"
          ]
        }
      ]
    },
    {
      "cell_type": "code",
      "source": [
        "svm = SVC(kernel='linear', probability=True, gamma=0.125)\n",
        "svm.fit(X_train, y_train)"
      ],
      "metadata": {
        "id": "HD8NVg9Mqg66",
        "colab": {
          "base_uri": "https://localhost:8080/"
        },
        "outputId": "d9e03697-1dcf-4fc7-91e8-8bb6bb4f994d"
      },
      "execution_count": null,
      "outputs": [
        {
          "output_type": "execute_result",
          "data": {
            "text/plain": [
              "SVC(gamma=0.125, kernel='linear', probability=True)"
            ]
          },
          "metadata": {},
          "execution_count": 18
        }
      ]
    },
    {
      "cell_type": "code",
      "source": [
        "svm_label_predict = svm.predict(X_test)"
      ],
      "metadata": {
        "id": "6eSHBfF5CyLt"
      },
      "execution_count": null,
      "outputs": []
    },
    {
      "cell_type": "code",
      "source": [
        "acc_svm = svm.score(X_test, y_test)*100\n",
        "mse_svm = mean_squared_error(y_test, svm_label_predict)\n",
        "rmse_svm = mean_squared_error(y_test, svm_label_predict,squared = False)\n",
        "\n",
        "print('Accuracy with SVM: ',acc_svm,'%')\n",
        "print('Mean squared error with SVM: ',mse_svm)\n",
        "print('Root mean squared error with SVM: ',rmse_svm)"
      ],
      "metadata": {
        "colab": {
          "base_uri": "https://localhost:8080/"
        },
        "id": "WtHAws92CmVq",
        "outputId": "57baaa52-1a60-4648-9738-dc673e91361b"
      },
      "execution_count": null,
      "outputs": [
        {
          "output_type": "stream",
          "name": "stdout",
          "text": [
            "Accuracy with SVM:  89.60000000000001 %\n",
            "Mean squared error with SVM:  1.6025\n",
            "Root mean squared error with SVM:  1.2658988901172163\n"
          ]
        }
      ]
    },
    {
      "cell_type": "code",
      "source": [
        "X_train = tf.stack(X_train)\n",
        "y_train = tf.stack(y_train)\n",
        "\n",
        "X_test = tf.stack(X_test)\n",
        "y_test = tf.stack(y_test)"
      ],
      "metadata": {
        "id": "wZXSsVUNC4iZ"
      },
      "execution_count": null,
      "outputs": []
    },
    {
      "cell_type": "code",
      "source": [
        "cnn = models.Sequential()\n",
        "cnn.add(layers.Conv1D(filters=64, kernel_size=3, activation='relu', input_shape=(768,1)))\n",
        "cnn.add(layers.Conv1D(filters=64, kernel_size=3, activation='relu'))\n",
        "cnn.add(layers.Dropout(0.5))\n",
        "cnn.add(layers.MaxPooling1D(pool_size=2))\n",
        "cnn.add(layers.Flatten())\n",
        "cnn.add(layers.Dense(100, activation='relu'))\n",
        "cnn.add(layers.Dense(10, activation='sigmoid'))\n",
        "\n",
        "cnn.summary()"
      ],
      "metadata": {
        "colab": {
          "base_uri": "https://localhost:8080/"
        },
        "id": "o8_WaKIEDAiw",
        "outputId": "9a7a4a51-bfa3-4694-cb51-eb8221dc379a"
      },
      "execution_count": null,
      "outputs": [
        {
          "output_type": "stream",
          "name": "stdout",
          "text": [
            "Model: \"sequential_2\"\n",
            "_________________________________________________________________\n",
            " Layer (type)                Output Shape              Param #   \n",
            "=================================================================\n",
            " conv1d_4 (Conv1D)           (None, 766, 64)           256       \n",
            "                                                                 \n",
            " conv1d_5 (Conv1D)           (None, 764, 64)           12352     \n",
            "                                                                 \n",
            " dropout_2 (Dropout)         (None, 764, 64)           0         \n",
            "                                                                 \n",
            " max_pooling1d_2 (MaxPooling  (None, 382, 64)          0         \n",
            " 1D)                                                             \n",
            "                                                                 \n",
            " flatten_2 (Flatten)         (None, 24448)             0         \n",
            "                                                                 \n",
            " dense_4 (Dense)             (None, 100)               2444900   \n",
            "                                                                 \n",
            " dense_5 (Dense)             (None, 10)                1010      \n",
            "                                                                 \n",
            "=================================================================\n",
            "Total params: 2,458,518\n",
            "Trainable params: 2,458,518\n",
            "Non-trainable params: 0\n",
            "_________________________________________________________________\n"
          ]
        }
      ]
    },
    {
      "cell_type": "code",
      "source": [
        "cnn.compile(optimizer='adam',\n",
        "              loss=tf.keras.losses.SparseCategoricalCrossentropy(from_logits=True),\n",
        "              metrics=['accuracy'])"
      ],
      "metadata": {
        "id": "SYtyqKvlDJ8_"
      },
      "execution_count": null,
      "outputs": []
    },
    {
      "cell_type": "code",
      "source": [
        "X_train = tf.stack(X_train)\n",
        "y_train = tf.stack(y_train)\n",
        "\n",
        "X_test = tf.stack(X_test)\n",
        "y_test = tf.stack(y_test)"
      ],
      "metadata": {
        "id": "2WCg36o2Fpd9"
      },
      "execution_count": null,
      "outputs": []
    },
    {
      "cell_type": "code",
      "source": [
        "history = cnn.fit(X_train, y_train, epochs=15,validation_data=(X_test, y_test),)"
      ],
      "metadata": {
        "colab": {
          "base_uri": "https://localhost:8080/"
        },
        "id": "mqEr7zdTD7_V",
        "outputId": "6ef00f69-1a6c-434b-ae4a-db16b77c96cb"
      },
      "execution_count": null,
      "outputs": [
        {
          "output_type": "stream",
          "name": "stdout",
          "text": [
            "Epoch 1/15\n"
          ]
        },
        {
          "output_type": "stream",
          "name": "stderr",
          "text": [
            "/usr/local/lib/python3.7/dist-packages/tensorflow/python/util/dispatch.py:1096: UserWarning: \"`sparse_categorical_crossentropy` received `from_logits=True`, but the `output` argument was produced by a sigmoid or softmax activation and thus does not represent logits. Was this intended?\"\n",
            "  return dispatch_target(*args, **kwargs)\n"
          ]
        },
        {
          "output_type": "stream",
          "name": "stdout",
          "text": [
            "250/250 [==============================] - 30s 117ms/step - loss: 0.6374 - accuracy: 0.7909 - val_loss: 0.4266 - val_accuracy: 0.8615\n",
            "Epoch 2/15\n",
            "250/250 [==============================] - 29s 116ms/step - loss: 0.2827 - accuracy: 0.9051 - val_loss: 0.3720 - val_accuracy: 0.8785\n",
            "Epoch 3/15\n",
            "250/250 [==============================] - 29s 116ms/step - loss: 0.2175 - accuracy: 0.9274 - val_loss: 0.2998 - val_accuracy: 0.9040\n",
            "Epoch 4/15\n",
            "250/250 [==============================] - 29s 116ms/step - loss: 0.1698 - accuracy: 0.9385 - val_loss: 0.3158 - val_accuracy: 0.9090\n",
            "Epoch 5/15\n",
            "250/250 [==============================] - 29s 116ms/step - loss: 0.1398 - accuracy: 0.9507 - val_loss: 0.3621 - val_accuracy: 0.8940\n",
            "Epoch 6/15\n",
            "250/250 [==============================] - 29s 116ms/step - loss: 0.1079 - accuracy: 0.9610 - val_loss: 0.3272 - val_accuracy: 0.9045\n",
            "Epoch 7/15\n",
            "250/250 [==============================] - 29s 117ms/step - loss: 0.0866 - accuracy: 0.9705 - val_loss: 0.3793 - val_accuracy: 0.8990\n",
            "Epoch 8/15\n",
            "250/250 [==============================] - 29s 116ms/step - loss: 0.0771 - accuracy: 0.9732 - val_loss: 0.3638 - val_accuracy: 0.9095\n",
            "Epoch 9/15\n",
            "250/250 [==============================] - 29s 116ms/step - loss: 0.0832 - accuracy: 0.9707 - val_loss: 0.4283 - val_accuracy: 0.8915\n",
            "Epoch 10/15\n",
            "250/250 [==============================] - 29s 117ms/step - loss: 0.0588 - accuracy: 0.9787 - val_loss: 0.4461 - val_accuracy: 0.8980\n",
            "Epoch 11/15\n",
            "250/250 [==============================] - 29s 117ms/step - loss: 0.0527 - accuracy: 0.9812 - val_loss: 0.4454 - val_accuracy: 0.9050\n",
            "Epoch 12/15\n",
            "250/250 [==============================] - 29s 116ms/step - loss: 0.0535 - accuracy: 0.9797 - val_loss: 0.4355 - val_accuracy: 0.9025\n",
            "Epoch 13/15\n",
            "250/250 [==============================] - 29s 117ms/step - loss: 0.0509 - accuracy: 0.9831 - val_loss: 0.4377 - val_accuracy: 0.9050\n",
            "Epoch 14/15\n",
            "250/250 [==============================] - 29s 116ms/step - loss: 0.0479 - accuracy: 0.9841 - val_loss: 0.4727 - val_accuracy: 0.9030\n",
            "Epoch 15/15\n",
            "250/250 [==============================] - 29s 117ms/step - loss: 0.0469 - accuracy: 0.9821 - val_loss: 0.4727 - val_accuracy: 0.9055\n"
          ]
        }
      ]
    },
    {
      "cell_type": "code",
      "source": [
        "history.history.keys()"
      ],
      "metadata": {
        "colab": {
          "base_uri": "https://localhost:8080/"
        },
        "id": "CxLF1YSoJ4dU",
        "outputId": "94ea6a22-2861-4a0c-a42a-0611d19c798d"
      },
      "execution_count": null,
      "outputs": [
        {
          "output_type": "execute_result",
          "data": {
            "text/plain": [
              "dict_keys(['loss', 'accuracy', 'val_loss', 'val_accuracy'])"
            ]
          },
          "metadata": {},
          "execution_count": 53
        }
      ]
    },
    {
      "cell_type": "code",
      "source": [
        "plt.plot(history.history['loss'])\n",
        "plt.plot(history.history['val_loss'])\n",
        "plt.title('1D CNN loss')\n",
        "plt.ylabel('loss')\n",
        "plt.xlabel('epoch')\n",
        "plt.legend(['train', 'test'], loc='upper left')\n",
        "plt.show()"
      ],
      "metadata": {
        "colab": {
          "base_uri": "https://localhost:8080/",
          "height": 295
        },
        "id": "wIJHXgu9Oi1J",
        "outputId": "450f7230-b832-4e11-bae0-fe808d1c8e4f"
      },
      "execution_count": null,
      "outputs": [
        {
          "output_type": "display_data",
          "data": {
            "image/png": "[encoded data removed]",
            "text/plain": [
              "<Figure size 432x288 with 1 Axes>"
            ]
          },
          "metadata": {
            "needs_background": "light"
          }
        }
      ]
    },
    {
      "cell_type": "code",
      "source": [
        "plt.plot(history.history['accuracy'])\n",
        "plt.plot(history.history['val_accuracy'])\n",
        "plt.title('1D CNN accuracy')\n",
        "plt.ylabel('accuracy')\n",
        "plt.xlabel('epoch')\n",
        "plt.legend(['train', 'test'], loc='upper left')\n",
        "plt.show()"
      ],
      "metadata": {
        "colab": {
          "base_uri": "https://localhost:8080/",
          "height": 295
        },
        "id": "a1KdOFKOOpog",
        "outputId": "2cb7a695-ca0e-49c1-80a1-8f1bd53067c2"
      },
      "execution_count": null,
      "outputs": [
        {
          "output_type": "display_data",
          "data": {
            "image/png": "[encoded data removed]",
            "text/plain": [
              "<Figure size 432x288 with 1 Axes>"
            ]
          },
          "metadata": {
            "needs_background": "light"
          }
        }
      ]
    },
    {
      "cell_type": "code",
      "source": [
        "cnn_predict = cnn.predict(X_test)"
      ],
      "metadata": {
        "id": "MY_neWNKEEo6"
      },
      "execution_count": null,
      "outputs": []
    },
    {
      "cell_type": "code",
      "source": [
        "cnn_label_predict = []\n",
        "for i in cnn_predict:\n",
        "  cnn_label_predict.append(np.argmax(i))"
      ],
      "metadata": {
        "id": "humnZrFbJc4_"
      },
      "execution_count": null,
      "outputs": []
    },
    {
      "cell_type": "code",
      "source": [
        "mse = tf.keras.metrics.MeanSquaredError()\n",
        "rmse = tf.keras.metrics.RootMeanSquaredError()\n",
        "acc = tf.keras.metrics.Accuracy()"
      ],
      "metadata": {
        "id": "pqItnWruJ-lG"
      },
      "execution_count": null,
      "outputs": []
    },
    {
      "cell_type": "code",
      "source": [
        "acc_1dcnn = acc(y_test, cnn_label_predict).numpy()*100\n",
        "mse_1dcnn = mse(y_test, cnn_label_predict).numpy()\n",
        "rmse_1dcnn = rmse(y_test, cnn_label_predict).numpy()\n",
        "\n",
        "print('Accuracy with 1D CNN: ',acc_1dcnn,'%')\n",
        "print('Mean squared error with 1D CNN: ',mse_1dcnn)\n",
        "print('Root mean squared error with 1D CNN: ',rmse_1dcnn)"
      ],
      "metadata": {
        "colab": {
          "base_uri": "https://localhost:8080/"
        },
        "id": "HKM814sPKlOh",
        "outputId": "f635f95f-9ce7-4442-d697-f6406e219051"
      },
      "execution_count": null,
      "outputs": [
        {
          "output_type": "stream",
          "name": "stdout",
          "text": [
            "Accuracy with 1D CNN:  90.49999713897705 %\n",
            "Mean squared error with 1D CNN:  1.6795\n",
            "Root mean squared error with 1D CNN:  1.2959552\n"
          ]
        }
      ]
    },
    {
      "cell_type": "code",
      "source": [
        "plot_label = ['KNN','SVM','1D-CNN']\n",
        "\n",
        "acc_val = [acc_knn,acc_svm,acc_1dcnn]\n",
        "acc_min = int(min(acc_val))-1\n",
        "acc_max = int(max(acc_val))+1\n",
        "\n",
        "acc_plot = sns.barplot(x=plot_label,y= acc_val)\n",
        "acc_plot.set_title('Accuracy')\n",
        "acc_plot.set(ylim=(acc_min,acc_max))\n",
        "plt.show()\n",
        "\n",
        "mse_val = [mse_svm,mse_knn,mse_1dcnn]\n",
        "mse_min = int(min(mse_val))-1\n",
        "mse_max = int(max(mse_val))+1\n",
        "\n",
        "mse_plot = sns.barplot(x=plot_label,y= mse_val)\n",
        "mse_plot.set_title('Mean squared error')\n",
        "mse_plot.set(ylim=(mse_min,mse_max))\n",
        "plt.show()\n",
        "\n",
        "rmse_val = [rmse_knn,rmse_svm,rmse_1dcnn]\n",
        "rmse_min = int(min(rmse_val))-1\n",
        "rmse_max = int(max(rmse_val))+1\n",
        "\n",
        "rmse_plot = sns.barplot(x=plot_label,y= rmse_val)\n",
        "rmse_plot.set_title('Root mean squared error')\n",
        "rmse_plot.set(ylim=(rmse_min,rmse_max))\n",
        "plt.show()"
      ],
      "metadata": {
        "id": "56pFMR849Wtb",
        "colab": {
          "base_uri": "https://localhost:8080/",
          "height": 809
        },
        "outputId": "0c0fd902-d656-4f77-fd7f-e76e79632a67"
      },
      "execution_count": null,
      "outputs": [
        {
          "output_type": "display_data",
          "data": {
            "image/png": "[encoded data removed]",
            "text/plain": [
              "<Figure size 432x288 with 1 Axes>"
            ]
          },
          "metadata": {
            "needs_background": "light"
          }
        },
        {
          "output_type": "display_data",
          "data": {
            "image/png": "[encoded data removed]",
            "text/plain": [
              "<Figure size 432x288 with 1 Axes>"
            ]
          },
          "metadata": {
            "needs_background": "light"
          }
        },
        {
          "output_type": "display_data",
          "data": {
            "image/png": "[encoded data removed]",
            "text/plain": [
              "<Figure size 432x288 with 1 Axes>"
            ]
          },
          "metadata": {
            "needs_background": "light"
          }
        }
      ]
    },
    {
      "cell_type": "code",
      "source": [
        ""
      ],
      "metadata": {
        "id": "aTH1HiIe11u7"
      },
      "execution_count": null,
      "outputs": []
    }
  ]
}