{
 "cells": [
  {
   "cell_type": "code",
   "execution_count": 1,
   "outputs": [],
   "source": [
    "import pandas as pd\n",
    "import numpy as np\n",
    "import spacy\n",
    "import tensorflow as tf"
   ],
   "metadata": {
    "collapsed": false,
    "pycharm": {
     "name": "#%%\n"
    }
   }
  },
  {
   "cell_type": "code",
   "execution_count": 2,
   "outputs": [
    {
     "data": {
      "text/plain": "            Tacgia                     Link            Namsinh  \\\n0  Albert Einstein  /author/Albert-Einstein     March 14, 1879   \n1     J.K. Rowling      /author/J-K-Rowling      July 31, 1965   \n2  Albert Einstein  /author/Albert-Einstein     March 14, 1879   \n3      Jane Austen      /author/Jane-Austen  December 16, 1775   \n4   Marilyn Monroe   /author/Marilyn-Monroe      June 01, 1926   \n\n                                                Tags  \\\n0   ['change', 'deep-thoughts', 'thinking', 'world']   \n1                           ['abilities', 'choices']   \n2  ['inspirational', 'life', 'live', 'miracle', '...   \n3         ['aliteracy', 'books', 'classic', 'humor']   \n4                   ['be-yourself', 'inspirational']   \n\n                                               Quote  \n0  “The world as we have created it is a process ...  \n1  “It is our choices, Harry, that show what we t...  \n2  “There are only two ways to live your life. On...  \n3  “The person, be it gentleman or lady, who has ...  \n4  “Imperfection is beauty, madness is genius and...  ",
      "text/html": "<div>\n<style scoped>\n    .dataframe tbody tr th:only-of-type {\n        vertical-align: middle;\n    }\n\n    .dataframe tbody tr th {\n        vertical-align: top;\n    }\n\n    .dataframe thead th {\n        text-align: right;\n    }\n</style>\n<table border=\"1\" class=\"dataframe\">\n  <thead>\n    <tr style=\"text-align: right;\">\n      <th></th>\n      <th>Tacgia</th>\n      <th>Link</th>\n      <th>Namsinh</th>\n      <th>Tags</th>\n      <th>Quote</th>\n    </tr>\n  </thead>\n  <tbody>\n    <tr>\n      <th>0</th>\n      <td>Albert Einstein</td>\n      <td>/author/Albert-Einstein</td>\n      <td>March 14, 1879</td>\n      <td>['change', 'deep-thoughts', 'thinking', 'world']</td>\n      <td>“The world as we have created it is a process ...</td>\n    </tr>\n    <tr>\n      <th>1</th>\n      <td>J.K. Rowling</td>\n      <td>/author/J-K-Rowling</td>\n      <td>July 31, 1965</td>\n      <td>['abilities', 'choices']</td>\n      <td>“It is our choices, Harry, that show what we t...</td>\n    </tr>\n    <tr>\n      <th>2</th>\n      <td>Albert Einstein</td>\n      <td>/author/Albert-Einstein</td>\n      <td>March 14, 1879</td>\n      <td>['inspirational', 'life', 'live', 'miracle', '...</td>\n      <td>“There are only two ways to live your life. On...</td>\n    </tr>\n    <tr>\n      <th>3</th>\n      <td>Jane Austen</td>\n      <td>/author/Jane-Austen</td>\n      <td>December 16, 1775</td>\n      <td>['aliteracy', 'books', 'classic', 'humor']</td>\n      <td>“The person, be it gentleman or lady, who has ...</td>\n    </tr>\n    <tr>\n      <th>4</th>\n      <td>Marilyn Monroe</td>\n      <td>/author/Marilyn-Monroe</td>\n      <td>June 01, 1926</td>\n      <td>['be-yourself', 'inspirational']</td>\n      <td>“Imperfection is beauty, madness is genius and...</td>\n    </tr>\n  </tbody>\n</table>\n</div>"
     },
     "execution_count": 2,
     "metadata": {},
     "output_type": "execute_result"
    }
   ],
   "source": [
    "data = pd.read_csv('my_quotes.csv')\n",
    "data.head()"
   ],
   "metadata": {
    "collapsed": false,
    "pycharm": {
     "name": "#%%\n"
    }
   }
  },
  {
   "cell_type": "code",
   "execution_count": 6,
   "outputs": [
    {
     "data": {
      "text/plain": "100"
     },
     "execution_count": 6,
     "metadata": {},
     "output_type": "execute_result"
    }
   ],
   "source": [
    "sentences = []\n",
    "for i in data['Quote']:\n",
    "    sentences.append(i)\n",
    "\n",
    "len(sentences)"
   ],
   "metadata": {
    "collapsed": false,
    "pycharm": {
     "name": "#%%\n"
    }
   }
  },
  {
   "cell_type": "code",
   "execution_count": 7,
   "outputs": [
    {
     "data": {
      "text/plain": "['000',\n '10',\n 'abilities',\n 'absolutely',\n 'absurdities',\n 'accept',\n 'act',\n 'actually',\n 'admiration',\n 'admit',\n 'adventure',\n 'ahead',\n 'airless',\n 'alive',\n 'analyze',\n 'angel',\n 'angry',\n 'animal',\n 'answers',\n 'anytime',\n 'appearance',\n 'aren',\n 'art',\n 'asleep',\n 'attempt',\n 'author',\n 'avoid',\n 'awfully',\n 'baby',\n 'bad',\n 'bag',\n 'balance',\n 'bat',\n 'battle',\n 'beautiful',\n 'beauty',\n 'begin',\n 'beholder',\n 'belief',\n 'believe',\n 'bella',\n 'best',\n 'better',\n 'bicycle',\n 'big',\n 'black',\n 'bleed',\n 'blunders',\n 'book',\n 'books',\n 'boring',\n 'born',\n 'bought',\n 'boy',\n 'brain',\n 'brave',\n 'bravery',\n 'break',\n 'broken',\n 'car',\n 'carefully',\n 'case',\n 'casket',\n 'cause',\n 'caution',\n 'cautiously',\n 'cedric',\n 'celebrate',\n 'cells',\n 'change',\n 'changed',\n 'changing',\n 'characters',\n 'chest',\n 'children',\n 'chin',\n 'chocolate',\n 'choice',\n 'choices',\n 'christian',\n 'christianity',\n 'church',\n 'classic',\n 'climb',\n 'close',\n 'closed',\n 'closes',\n 'coffin',\n 'come',\n 'comforted',\n 'coming',\n 'confirms',\n 'conscience',\n 'consider',\n 'courage',\n 'course',\n 'crazy',\n 'created',\n 'creating',\n 'crept',\n 'cup',\n 'dark',\n 'darkness',\n 'day',\n 'daydreams',\n 'dead',\n 'deal',\n 'death',\n 'decide',\n 'declare',\n 'default',\n 'dependence',\n 'devil',\n 'die',\n 'dies',\n 'difference',\n 'difficult',\n 'diggory',\n 'dissatisfied',\n 'does',\n 'doesn',\n 'don',\n 'door',\n 'doubt',\n 'doubting',\n 'dreamer',\n 'drink',\n 'drinking',\n 'drug',\n 'dumbledore',\n 'earth',\n 'easy',\n 'edge',\n 'education',\n 'encumbered',\n 'end',\n 'ended',\n 'enemies',\n 'enjoyment',\n 'entanglements',\n 'equally',\n 'eventually',\n 'excellent',\n 'expect',\n 'explain',\n 'eye',\n 'eyes',\n 'face',\n 'fail',\n 'failed',\n 'failing',\n 'fairy',\n 'faith',\n 'fall',\n 'fantasy',\n 'far',\n 'fear',\n 'feel',\n 'felt',\n 'fewer',\n 'finding',\n 'finish',\n 'flower',\n 'follows',\n 'fool',\n 'forehead',\n 'forever',\n 'forget',\n 'free',\n 'friend',\n 'friends',\n 'friendship',\n 'fully',\n 'garage',\n 'garden',\n 'genius',\n 'gentleman',\n 'girl',\n 'girls',\n 'god',\n 'goes',\n 'going',\n 'gone',\n 'gonna',\n 'good',\n 'got',\n 'great',\n 'grow',\n 'growing',\n 'grown',\n 'half',\n 'halves',\n 'hand',\n 'happen',\n 'happened',\n 'happening',\n 'happens',\n 'happiness',\n 'happy',\n 'harry',\n 'hate',\n 'hated',\n 'having',\n 'head',\n 'heard',\n 'heart',\n 'heresy',\n 'high',\n 'hits',\n 'hobbies',\n 'hold',\n 'hope',\n 'horrible',\n 'hot',\n 'house',\n 'human',\n 'hurt',\n 'ideal',\n 'imagination',\n 'imagined',\n 'impenetrable',\n 'imperfection',\n 'importantly',\n 'impossible',\n 'inconsistency',\n 'indifference',\n 'ingredient',\n 'inside',\n 'insist',\n 'intact',\n 'intelligent',\n 'intended',\n 'interfere',\n 'intimate',\n 'intolerably',\n 'irredeemable',\n 'isn',\n 'join',\n 'jojen',\n 'judge',\n 'jumps',\n 'just',\n 'keeping',\n 'kind',\n 'kiss',\n 'kisses',\n 'kissing',\n 'knocks',\n 'know',\n 'knowing',\n 'knows',\n 'lack',\n 'lady',\n 'large',\n 'late',\n 'laugh',\n 'lead',\n 'learn',\n 'leaves',\n 'left',\n 'let',\n 'library',\n 'lie',\n 'lies',\n 'life',\n 'like',\n 'limits',\n 'listens',\n 'little',\n 'live',\n 'lived',\n 'lives',\n 'living',\n 'll',\n 'lock',\n 'logic',\n 'long',\n 'look',\n 'lord',\n 'lose',\n 'lost',\n 'love',\n 'loved',\n 'lover',\n 'lovers',\n 'loves',\n 'loving',\n 'low',\n 'loyal',\n 'luxuries',\n 'mad',\n 'madly',\n 'madness',\n 'make',\n 'makes',\n 'making',\n 'man',\n 'marriages',\n 'matrimony',\n 'matter',\n 'matters',\n 'mean',\n 'merit',\n 'mess',\n 'mind',\n 'minute',\n 'miracle',\n 'miserable',\n 'misinformed',\n 'miss',\n 'mistake',\n 'mistakes',\n 'moment',\n 'motionless',\n 'moving',\n 'music',\n 'musician',\n 'nature',\n 'necessarily',\n 'necessary',\n 'need',\n 'needed',\n 'needs',\n 'new',\n 'night',\n 'nonsense',\n 'notion',\n 'novel',\n 'oh',\n 'old',\n 'ones',\n 'open',\n 'opened',\n 'opens',\n 'opposite',\n 'order',\n 'organized',\n 'pain',\n 'painful',\n 'paradise',\n 'path',\n 'people',\n 'perfect',\n 'person',\n 'phone',\n 'physicist',\n 'pity',\n 'placed',\n 'places',\n 'plans',\n 'pleasure',\n 'point',\n 'possibly',\n 'poured',\n 'praise',\n 'prejudice',\n 'prepared',\n 'pretty',\n 'pride',\n 'probably',\n 'problem',\n 'problems',\n 'process',\n 'putting',\n 'question',\n 'rapid',\n 'read',\n 'reader',\n 'reading',\n 'reads',\n 'ready',\n 'real',\n 'really',\n 'reason',\n 'remember',\n 'ridiculous',\n 'riding',\n 'right',\n 'risen',\n 'round',\n 'safe',\n 'said',\n 'say',\n 'scares',\n 'schooling',\n 'second',\n 'seconds',\n 'selfishness',\n 'sense',\n 'serenely',\n 'shall',\n 'shoes',\n 'sighed',\n 'simply',\n 'sin',\n 'sisters',\n 'sit',\n 'sitting',\n 'skin',\n 'sleepy',\n 'small',\n 'smile',\n 'smiling',\n 'someday',\n 'soon',\n 'sooner',\n 'soulmate',\n 'space',\n 'spirit',\n 'stand',\n 'staring',\n 'stars',\n 'start',\n 'stay',\n 'stop',\n 'strayed',\n 'strong',\n 'stupid',\n 'stupidity',\n 'success',\n 'suffering',\n 'suit',\n 'sun',\n 'sunshine',\n 'sure',\n 'sweetie',\n 'sword',\n 'takes',\n 'tales',\n 'talk',\n 'tea',\n 'tell',\n 'terms',\n 'terrible',\n 'terrific',\n 'thing',\n 'things',\n 'think',\n 'thinking',\n 'thinks',\n 'thought',\n 'thousand',\n 'thrill',\n 'time',\n 'tires',\n 'today',\n 'tomorrow',\n 'travel',\n 'treated',\n 'tried',\n 'trouble',\n 'troubles',\n 'true',\n 'truer',\n 'truly',\n 'trust',\n 'truth',\n 'try',\n 'trying',\n 'turn',\n 'twice',\n 'typewriter',\n 'ugliness',\n 'unbreakable',\n 'understand',\n 'unhappy',\n 'universal',\n 'unless',\n 'ups',\n 'value',\n 've',\n 'view',\n 'voldemort',\n 'vulnerable',\n 'wakes',\n 'walk',\n 'wander',\n 'want',\n 'wants',\n 'war',\n 'water',\n 'way',\n 'ways',\n 'whetstone',\n 'wise',\n 'wish',\n 'woman',\n 'won',\n 'wondering',\n 'work',\n 'world',\n 'worth',\n 'worthy',\n 'wrap',\n 'write',\n 'writing',\n 'written',\n 'wrote',\n 'wrung',\n 'year',\n 'youer']"
     },
     "execution_count": 7,
     "metadata": {},
     "output_type": "execute_result"
    }
   ],
   "source": [
    "from sklearn.feature_extraction.text import CountVectorizer\n",
    "\n",
    "vectorizer = CountVectorizer(stop_words='english')\n",
    "\n",
    "vectorizer.fit(sentences)\n",
    "vectorizer.get_feature_names()"
   ],
   "metadata": {
    "collapsed": false,
    "pycharm": {
     "name": "#%%\n"
    }
   }
  },
  {
   "cell_type": "code",
   "execution_count": 15,
   "outputs": [
    {
     "data": {
      "text/plain": "Empty DataFrame\nColumns: []\nIndex: []",
      "text/html": "<div>\n<style scoped>\n    .dataframe tbody tr th:only-of-type {\n        vertical-align: middle;\n    }\n\n    .dataframe tbody tr th {\n        vertical-align: top;\n    }\n\n    .dataframe thead th {\n        text-align: right;\n    }\n</style>\n<table border=\"1\" class=\"dataframe\">\n  <thead>\n    <tr style=\"text-align: right;\">\n      <th></th>\n    </tr>\n  </thead>\n  <tbody>\n  </tbody>\n</table>\n</div>"
     },
     "execution_count": 15,
     "metadata": {},
     "output_type": "execute_result"
    }
   ],
   "source": [
    "df = pd.DataFrame()\n",
    "df"
   ],
   "metadata": {
    "collapsed": false,
    "pycharm": {
     "name": "#%%\n"
    }
   }
  },
  {
   "cell_type": "code",
   "execution_count": 16,
   "outputs": [],
   "source": [
    "for i in range(data.shape[0]):\n",
    "    temp = {}\n",
    "    temp['Author'] = data.loc[i]['Tacgia']\n",
    "    v = CountVectorizer(stop_words='english')\n",
    "\n",
    "    v.fit([data.loc[i]['Quote']])\n",
    "    for t in v.get_feature_names():\n",
    "        if t in temp:\n",
    "            temp[t] += 1\n",
    "        else:\n",
    "            temp[t] = 1\n",
    "\n",
    "    df = df.append(temp, ignore_index=True)"
   ],
   "metadata": {
    "collapsed": false,
    "pycharm": {
     "name": "#%%\n"
    }
   }
  },
  {
   "cell_type": "code",
   "execution_count": 18,
   "outputs": [
    {
     "data": {
      "text/plain": "            Author  changed  changing  created  process  thinking  world  \\\n0  Albert Einstein      1.0       1.0      1.0      1.0       1.0    1.0   \n1     J.K. Rowling      0.0       0.0      0.0      0.0       0.0    0.0   \n2  Albert Einstein      0.0       0.0      0.0      0.0       0.0    0.0   \n3      Jane Austen      0.0       0.0      0.0      0.0       0.0    0.0   \n4   Marilyn Monroe      0.0       0.0      0.0      0.0       0.0    0.0   \n\n   abilities  choices  far  ...  ups  wants  write  written  tell  worthy  \\\n0        0.0      0.0  0.0  ...  0.0    0.0    0.0      0.0   0.0     0.0   \n1        1.0      1.0  1.0  ...  0.0    0.0    0.0      0.0   0.0     0.0   \n2        0.0      0.0  0.0  ...  0.0    0.0    0.0      0.0   0.0     0.0   \n3        0.0      0.0  0.0  ...  0.0    0.0    0.0      0.0   0.0     0.0   \n4        0.0      0.0  0.0  ...  0.0    0.0    0.0      0.0   0.0     0.0   \n\n   edge  needs  sword  whetstone  \n0   0.0    0.0    0.0        0.0  \n1   0.0    0.0    0.0        0.0  \n2   0.0    0.0    0.0        0.0  \n3   0.0    0.0    0.0        0.0  \n4   0.0    0.0    0.0        0.0  \n\n[5 rows x 502 columns]",
      "text/html": "<div>\n<style scoped>\n    .dataframe tbody tr th:only-of-type {\n        vertical-align: middle;\n    }\n\n    .dataframe tbody tr th {\n        vertical-align: top;\n    }\n\n    .dataframe thead th {\n        text-align: right;\n    }\n</style>\n<table border=\"1\" class=\"dataframe\">\n  <thead>\n    <tr style=\"text-align: right;\">\n      <th></th>\n      <th>Author</th>\n      <th>changed</th>\n      <th>changing</th>\n      <th>created</th>\n      <th>process</th>\n      <th>thinking</th>\n      <th>world</th>\n      <th>abilities</th>\n      <th>choices</th>\n      <th>far</th>\n      <th>...</th>\n      <th>ups</th>\n      <th>wants</th>\n      <th>write</th>\n      <th>written</th>\n      <th>tell</th>\n      <th>worthy</th>\n      <th>edge</th>\n      <th>needs</th>\n      <th>sword</th>\n      <th>whetstone</th>\n    </tr>\n  </thead>\n  <tbody>\n    <tr>\n      <th>0</th>\n      <td>Albert Einstein</td>\n      <td>1.0</td>\n      <td>1.0</td>\n      <td>1.0</td>\n      <td>1.0</td>\n      <td>1.0</td>\n      <td>1.0</td>\n      <td>0.0</td>\n      <td>0.0</td>\n      <td>0.0</td>\n      <td>...</td>\n      <td>0.0</td>\n      <td>0.0</td>\n      <td>0.0</td>\n      <td>0.0</td>\n      <td>0.0</td>\n      <td>0.0</td>\n      <td>0.0</td>\n      <td>0.0</td>\n      <td>0.0</td>\n      <td>0.0</td>\n    </tr>\n    <tr>\n      <th>1</th>\n      <td>J.K. Rowling</td>\n      <td>0.0</td>\n      <td>0.0</td>\n      <td>0.0</td>\n      <td>0.0</td>\n      <td>0.0</td>\n      <td>0.0</td>\n      <td>1.0</td>\n      <td>1.0</td>\n      <td>1.0</td>\n      <td>...</td>\n      <td>0.0</td>\n      <td>0.0</td>\n      <td>0.0</td>\n      <td>0.0</td>\n      <td>0.0</td>\n      <td>0.0</td>\n      <td>0.0</td>\n      <td>0.0</td>\n      <td>0.0</td>\n      <td>0.0</td>\n    </tr>\n    <tr>\n      <th>2</th>\n      <td>Albert Einstein</td>\n      <td>0.0</td>\n      <td>0.0</td>\n      <td>0.0</td>\n      <td>0.0</td>\n      <td>0.0</td>\n      <td>0.0</td>\n      <td>0.0</td>\n      <td>0.0</td>\n      <td>0.0</td>\n      <td>...</td>\n      <td>0.0</td>\n      <td>0.0</td>\n      <td>0.0</td>\n      <td>0.0</td>\n      <td>0.0</td>\n      <td>0.0</td>\n      <td>0.0</td>\n      <td>0.0</td>\n      <td>0.0</td>\n      <td>0.0</td>\n    </tr>\n    <tr>\n      <th>3</th>\n      <td>Jane Austen</td>\n      <td>0.0</td>\n      <td>0.0</td>\n      <td>0.0</td>\n      <td>0.0</td>\n      <td>0.0</td>\n      <td>0.0</td>\n      <td>0.0</td>\n      <td>0.0</td>\n      <td>0.0</td>\n      <td>...</td>\n      <td>0.0</td>\n      <td>0.0</td>\n      <td>0.0</td>\n      <td>0.0</td>\n      <td>0.0</td>\n      <td>0.0</td>\n      <td>0.0</td>\n      <td>0.0</td>\n      <td>0.0</td>\n      <td>0.0</td>\n    </tr>\n    <tr>\n      <th>4</th>\n      <td>Marilyn Monroe</td>\n      <td>0.0</td>\n      <td>0.0</td>\n      <td>0.0</td>\n      <td>0.0</td>\n      <td>0.0</td>\n      <td>0.0</td>\n      <td>0.0</td>\n      <td>0.0</td>\n      <td>0.0</td>\n      <td>...</td>\n      <td>0.0</td>\n      <td>0.0</td>\n      <td>0.0</td>\n      <td>0.0</td>\n      <td>0.0</td>\n      <td>0.0</td>\n      <td>0.0</td>\n      <td>0.0</td>\n      <td>0.0</td>\n      <td>0.0</td>\n    </tr>\n  </tbody>\n</table>\n<p>5 rows × 502 columns</p>\n</div>"
     },
     "execution_count": 18,
     "metadata": {},
     "output_type": "execute_result"
    }
   ],
   "source": [
    "df.fillna(0,inplace=True)\n",
    "df.head()"
   ],
   "metadata": {
    "collapsed": false,
    "pycharm": {
     "name": "#%%\n"
    }
   }
  },
  {
   "cell_type": "code",
   "execution_count": 19,
   "outputs": [],
   "source": [
    "from sklearn.preprocessing import LabelEncoder\n",
    "encoder = LabelEncoder()\n",
    "column_names = df.columns.values\n",
    "for i in range(len(column_names)):\n",
    "  if df.dtypes[i]=='object':\n",
    "    df[column_names[i]] = encoder.fit_transform(df[column_names[i]])"
   ],
   "metadata": {
    "collapsed": false,
    "pycharm": {
     "name": "#%%\n"
    }
   }
  },
  {
   "cell_type": "code",
   "execution_count": 20,
   "outputs": [
    {
     "data": {
      "text/plain": "   Author  changed  changing  created  process  thinking  world  abilities  \\\n0       0      1.0       1.0      1.0      1.0       1.0    1.0        0.0   \n1      26      0.0       0.0      0.0      0.0       0.0    0.0        1.0   \n2       0      0.0       0.0      0.0      0.0       0.0    0.0        0.0   \n3      30      0.0       0.0      0.0      0.0       0.0    0.0        0.0   \n4      37      0.0       0.0      0.0      0.0       0.0    0.0        0.0   \n\n   choices  far  ...  ups  wants  write  written  tell  worthy  edge  needs  \\\n0      0.0  0.0  ...  0.0    0.0    0.0      0.0   0.0     0.0   0.0    0.0   \n1      1.0  1.0  ...  0.0    0.0    0.0      0.0   0.0     0.0   0.0    0.0   \n2      0.0  0.0  ...  0.0    0.0    0.0      0.0   0.0     0.0   0.0    0.0   \n3      0.0  0.0  ...  0.0    0.0    0.0      0.0   0.0     0.0   0.0    0.0   \n4      0.0  0.0  ...  0.0    0.0    0.0      0.0   0.0     0.0   0.0    0.0   \n\n   sword  whetstone  \n0    0.0        0.0  \n1    0.0        0.0  \n2    0.0        0.0  \n3    0.0        0.0  \n4    0.0        0.0  \n\n[5 rows x 502 columns]",
      "text/html": "<div>\n<style scoped>\n    .dataframe tbody tr th:only-of-type {\n        vertical-align: middle;\n    }\n\n    .dataframe tbody tr th {\n        vertical-align: top;\n    }\n\n    .dataframe thead th {\n        text-align: right;\n    }\n</style>\n<table border=\"1\" class=\"dataframe\">\n  <thead>\n    <tr style=\"text-align: right;\">\n      <th></th>\n      <th>Author</th>\n      <th>changed</th>\n      <th>changing</th>\n      <th>created</th>\n      <th>process</th>\n      <th>thinking</th>\n      <th>world</th>\n      <th>abilities</th>\n      <th>choices</th>\n      <th>far</th>\n      <th>...</th>\n      <th>ups</th>\n      <th>wants</th>\n      <th>write</th>\n      <th>written</th>\n      <th>tell</th>\n      <th>worthy</th>\n      <th>edge</th>\n      <th>needs</th>\n      <th>sword</th>\n      <th>whetstone</th>\n    </tr>\n  </thead>\n  <tbody>\n    <tr>\n      <th>0</th>\n      <td>0</td>\n      <td>1.0</td>\n      <td>1.0</td>\n      <td>1.0</td>\n      <td>1.0</td>\n      <td>1.0</td>\n      <td>1.0</td>\n      <td>0.0</td>\n      <td>0.0</td>\n      <td>0.0</td>\n      <td>...</td>\n      <td>0.0</td>\n      <td>0.0</td>\n      <td>0.0</td>\n      <td>0.0</td>\n      <td>0.0</td>\n      <td>0.0</td>\n      <td>0.0</td>\n      <td>0.0</td>\n      <td>0.0</td>\n      <td>0.0</td>\n    </tr>\n    <tr>\n      <th>1</th>\n      <td>26</td>\n      <td>0.0</td>\n      <td>0.0</td>\n      <td>0.0</td>\n      <td>0.0</td>\n      <td>0.0</td>\n      <td>0.0</td>\n      <td>1.0</td>\n      <td>1.0</td>\n      <td>1.0</td>\n      <td>...</td>\n      <td>0.0</td>\n      <td>0.0</td>\n      <td>0.0</td>\n      <td>0.0</td>\n      <td>0.0</td>\n      <td>0.0</td>\n      <td>0.0</td>\n      <td>0.0</td>\n      <td>0.0</td>\n      <td>0.0</td>\n    </tr>\n    <tr>\n      <th>2</th>\n      <td>0</td>\n      <td>0.0</td>\n      <td>0.0</td>\n      <td>0.0</td>\n      <td>0.0</td>\n      <td>0.0</td>\n      <td>0.0</td>\n      <td>0.0</td>\n      <td>0.0</td>\n      <td>0.0</td>\n      <td>...</td>\n      <td>0.0</td>\n      <td>0.0</td>\n      <td>0.0</td>\n      <td>0.0</td>\n      <td>0.0</td>\n      <td>0.0</td>\n      <td>0.0</td>\n      <td>0.0</td>\n      <td>0.0</td>\n      <td>0.0</td>\n    </tr>\n    <tr>\n      <th>3</th>\n      <td>30</td>\n      <td>0.0</td>\n      <td>0.0</td>\n      <td>0.0</td>\n      <td>0.0</td>\n      <td>0.0</td>\n      <td>0.0</td>\n      <td>0.0</td>\n      <td>0.0</td>\n      <td>0.0</td>\n      <td>...</td>\n      <td>0.0</td>\n      <td>0.0</td>\n      <td>0.0</td>\n      <td>0.0</td>\n      <td>0.0</td>\n      <td>0.0</td>\n      <td>0.0</td>\n      <td>0.0</td>\n      <td>0.0</td>\n      <td>0.0</td>\n    </tr>\n    <tr>\n      <th>4</th>\n      <td>37</td>\n      <td>0.0</td>\n      <td>0.0</td>\n      <td>0.0</td>\n      <td>0.0</td>\n      <td>0.0</td>\n      <td>0.0</td>\n      <td>0.0</td>\n      <td>0.0</td>\n      <td>0.0</td>\n      <td>...</td>\n      <td>0.0</td>\n      <td>0.0</td>\n      <td>0.0</td>\n      <td>0.0</td>\n      <td>0.0</td>\n      <td>0.0</td>\n      <td>0.0</td>\n      <td>0.0</td>\n      <td>0.0</td>\n      <td>0.0</td>\n    </tr>\n  </tbody>\n</table>\n<p>5 rows × 502 columns</p>\n</div>"
     },
     "execution_count": 20,
     "metadata": {},
     "output_type": "execute_result"
    }
   ],
   "source": [
    "df.head()"
   ],
   "metadata": {
    "collapsed": false,
    "pycharm": {
     "name": "#%%\n"
    }
   }
  },
  {
   "cell_type": "code",
   "execution_count": 21,
   "outputs": [
    {
     "name": "stdout",
     "output_type": "stream",
     "text": [
      "--- x_train ---\n",
      "[[ 0.  1.  1. ...  0.  0.  0.]\n",
      " [ 0.  0.  0. ...  0.  0.  0.]\n",
      " [ 0.  0.  0. ...  0.  0.  0.]\n",
      " ...\n",
      " [38.  0.  0. ...  0.  0.  0.]\n",
      " [11.  0.  0. ...  0.  0.  0.]\n",
      " [21.  0.  0. ...  1.  1.  1.]]\n",
      "(94, 501)\n",
      "\n",
      "--- x_test ---\n",
      "[[0. 0. 0. ... 0. 0. 0.]\n",
      " [0. 0. 0. ... 0. 0. 0.]\n",
      " [0. 0. 0. ... 0. 0. 0.]\n",
      " [0. 0. 0. ... 0. 0. 0.]\n",
      " [0. 0. 0. ... 0. 0. 0.]]\n",
      "(5, 501)\n"
     ]
    }
   ],
   "source": [
    "train = pd.concat([df.loc[df['Author']==0][0:4],df.loc[df['Author']!=0]])\n",
    "test = df.loc[df['Author']==0][5:]\n",
    "x_train = train.values[:,:-1]\n",
    "x_test = test.values[:,:-1]\n",
    "\n",
    "print('--- x_train ---')\n",
    "print(x_train)\n",
    "print(x_train.shape)\n",
    "print('\\n--- x_test ---')\n",
    "print(x_test)\n",
    "print(x_test.shape)"
   ],
   "metadata": {
    "collapsed": false,
    "pycharm": {
     "name": "#%%\n"
    }
   }
  },
  {
   "cell_type": "code",
   "execution_count": 22,
   "outputs": [
    {
     "name": "stdout",
     "output_type": "stream",
     "text": [
      "--- y_train ---\n",
      "[0. 0. 0. 0. 0. 0. 0. 0. 0. 0. 0. 0. 0. 0. 0. 0. 0. 0. 0. 0. 0. 0. 0. 0.\n",
      " 0. 0. 0. 0. 0. 0. 0. 0. 0. 0. 0. 0. 0. 0. 0. 0. 0. 0. 0. 0. 0. 0. 0. 0.\n",
      " 0. 0. 0. 0. 0. 0. 0. 0. 0. 0. 0. 0. 0. 0. 0. 0. 0. 0. 0. 0. 0. 0. 0. 0.\n",
      " 0. 0. 0. 0. 0. 0. 0. 0. 0. 0. 0. 0. 0. 0. 0. 0. 0. 0. 0. 0. 0. 1.]\n",
      "(94,)\n",
      "\n",
      "--- y_test ---\n",
      "[0. 0. 0. 0. 0.]\n",
      "(5,)\n"
     ]
    }
   ],
   "source": [
    "y_train = train.values[:,-1]\n",
    "y_test = test.values[:,-1]\n",
    "\n",
    "print('--- y_train ---')\n",
    "print(y_train)\n",
    "print(y_train.shape)\n",
    "print('\\n--- y_test ---')\n",
    "print(y_test)\n",
    "print(y_test.shape)"
   ],
   "metadata": {
    "collapsed": false,
    "pycharm": {
     "name": "#%%\n"
    }
   }
  },
  {
   "cell_type": "code",
   "execution_count": 23,
   "outputs": [
    {
     "name": "stderr",
     "output_type": "stream",
     "text": [
      "2021-10-25 09:44:18.789918: I tensorflow/core/platform/cpu_feature_guard.cc:142] This TensorFlow binary is optimized with oneAPI Deep Neural Network Library (oneDNN) to use the following CPU instructions in performance-critical operations:  AVX2 FMA\n",
      "To enable them in other operations, rebuild TensorFlow with the appropriate compiler flags.\n"
     ]
    }
   ],
   "source": [
    "model = tf.keras.Sequential([\n",
    "    tf.keras.layers.Dense(50)\n",
    "])"
   ],
   "metadata": {
    "collapsed": false,
    "pycharm": {
     "name": "#%%\n"
    }
   }
  },
  {
   "cell_type": "code",
   "execution_count": 24,
   "outputs": [],
   "source": [
    "model.compile(optimizer='adam',\n",
    "              loss=tf.keras.losses.SparseCategoricalCrossentropy(from_logits=True),\n",
    "              metrics=['accuracy'])"
   ],
   "metadata": {
    "collapsed": false,
    "pycharm": {
     "name": "#%%\n"
    }
   }
  },
  {
   "cell_type": "code",
   "execution_count": 25,
   "outputs": [
    {
     "name": "stderr",
     "output_type": "stream",
     "text": [
      "2021-10-25 09:44:29.288497: I tensorflow/compiler/mlir/mlir_graph_optimization_pass.cc:185] None of the MLIR Optimization Passes are enabled (registered 2)\n"
     ]
    },
    {
     "name": "stdout",
     "output_type": "stream",
     "text": [
      "Epoch 1/30\n",
      "3/3 [==============================] - 0s 2ms/step - loss: 3.1582 - accuracy: 0.0213\b\b\b\b\b\b\b\b\b\b\b\b\b\b\b\b\b\b\b\b\b\b\b\b\b\b\b\b\b\b\b\b\b\b\b\b\b\b\b\b\b\b\b\b\b\b\b\b\b\b\b\b\b\b\b\b\b\b\b\b\b\b\b\b\b\b\b\b\b\b\b\b\b\b\b\b\n",
      "Epoch 2/30\n",
      "3/3 [==============================] - 0s 2ms/step - loss: 2.9841 - accuracy: 0.0319\b\b\b\b\b\b\b\b\b\b\b\b\b\b\b\b\b\b\b\b\b\b\b\b\b\b\b\b\b\b\b\b\b\b\b\b\b\b\b\b\b\b\b\b\b\b\b\b\b\b\b\b\b\b\b\b\b\b\b\b\b\b\b\b\b\b\b\b\b\b\b\b\b\b\b\b\b\b\b\b\b\b\b\b\n",
      "Epoch 3/30\n",
      "3/3 [==============================] - 0s 2ms/step - loss: 2.8138 - accuracy: 0.0426\b\b\b\b\b\b\b\b\b\b\b\b\b\b\b\b\b\b\b\b\b\b\b\b\b\b\b\b\b\b\b\b\b\b\b\b\b\b\b\b\b\b\b\b\b\b\b\b\b\b\b\b\b\b\b\b\b\b\b\b\b\b\b\b\b\b\b\b\b\b\b\b\b\b\b\b\b\b\b\b\b\b\b\b\n",
      "Epoch 4/30\n",
      "3/3 [==============================] - 0s 2ms/step - loss: 2.6559 - accuracy: 0.2021\b\b\b\b\b\b\b\b\b\b\b\b\b\b\b\b\b\b\b\b\b\b\b\b\b\b\b\b\b\b\b\b\b\b\b\b\b\b\b\b\b\b\b\b\b\b\b\b\b\b\b\b\b\b\b\b\b\b\b\b\b\b\b\b\b\b\b\b\b\b\b\b\b\b\b\b\n",
      "Epoch 5/30\n",
      "3/3 [==============================] - 0s 2ms/step - loss: 2.4928 - accuracy: 0.5426\b\b\b\b\b\b\b\b\b\b\b\b\b\b\b\b\b\b\b\b\b\b\b\b\b\b\b\b\b\b\b\b\b\b\b\b\b\b\b\b\b\b\b\b\b\b\b\b\b\b\b\b\b\b\b\b\b\b\b\b\b\b\b\b\b\b\b\b\b\b\b\b\b\b\b\b\n",
      "Epoch 6/30\n",
      "3/3 [==============================] - 0s 2ms/step - loss: 2.3390 - accuracy: 0.7553\b\b\b\b\b\b\b\b\b\b\b\b\b\b\b\b\b\b\b\b\b\b\b\b\b\b\b\b\b\b\b\b\b\b\b\b\b\b\b\b\b\b\b\b\b\b\b\b\b\b\b\b\b\b\b\b\b\b\b\b\b\b\b\b\b\b\b\b\b\b\b\b\b\b\b\b\n",
      "Epoch 7/30\n",
      "3/3 [==============================] - 0s 1ms/step - loss: 2.1929 - accuracy: 0.8404\b\b\b\b\b\b\b\b\b\b\b\b\b\b\b\b\b\b\b\b\b\b\b\b\b\b\b\b\b\b\b\b\b\b\b\b\b\b\b\b\b\b\b\b\b\b\b\b\b\b\b\b\b\b\b\b\b\b\b\b\b\b\b\b\b\b\b\b\b\b\b\b\b\b\b\b\n",
      "Epoch 8/30\n",
      "3/3 [==============================] - 0s 2ms/step - loss: 2.0538 - accuracy: 0.8936\b\b\b\b\b\b\b\b\b\b\b\b\b\b\b\b\b\b\b\b\b\b\b\b\b\b\b\b\b\b\b\b\b\b\b\b\b\b\b\b\b\b\b\b\b\b\b\b\b\b\b\b\b\b\b\b\b\b\b\b\b\b\b\b\b\b\b\b\b\b\b\b\b\b\b\b\n",
      "Epoch 9/30\n",
      "3/3 [==============================] - 0s 2ms/step - loss: 1.9192 - accuracy: 0.9149\b\b\b\b\b\b\b\b\b\b\b\b\b\b\b\b\b\b\b\b\b\b\b\b\b\b\b\b\b\b\b\b\b\b\b\b\b\b\b\b\b\b\b\b\b\b\b\b\b\b\b\b\b\b\b\b\b\b\b\b\b\b\b\b\b\b\b\b\b\b\b\b\b\b\b\b\n",
      "Epoch 10/30\n",
      "3/3 [==============================] - 0s 2ms/step - loss: 1.7978 - accuracy: 0.9362\b\b\b\b\b\b\b\b\b\b\b\b\b\b\b\b\b\b\b\b\b\b\b\b\b\b\b\b\b\b\b\b\b\b\b\b\b\b\b\b\b\b\b\b\b\b\b\b\b\b\b\b\b\b\b\b\b\b\b\b\b\b\b\b\b\b\b\b\b\b\b\b\b\b\b\b\n",
      "Epoch 11/30\n",
      "3/3 [==============================] - 0s 2ms/step - loss: 1.6890 - accuracy: 0.9468\b\b\b\b\b\b\b\b\b\b\b\b\b\b\b\b\b\b\b\b\b\b\b\b\b\b\b\b\b\b\b\b\b\b\b\b\b\b\b\b\b\b\b\b\b\b\b\b\b\b\b\b\b\b\b\b\b\b\b\b\b\b\b\b\b\b\b\b\b\b\b\b\b\b\b\b\n",
      "Epoch 12/30\n",
      "3/3 [==============================] - 0s 1ms/step - loss: 1.5863 - accuracy: 0.9574\b\b\b\b\b\b\b\b\b\b\b\b\b\b\b\b\b\b\b\b\b\b\b\b\b\b\b\b\b\b\b\b\b\b\b\b\b\b\b\b\b\b\b\b\b\b\b\b\b\b\b\b\b\b\b\b\b\b\b\b\b\b\b\b\b\b\b\b\b\b\b\b\b\b\b\b\n",
      "Epoch 13/30\n",
      "3/3 [==============================] - 0s 2ms/step - loss: 1.4947 - accuracy: 0.9681\b\b\b\b\b\b\b\b\b\b\b\b\b\b\b\b\b\b\b\b\b\b\b\b\b\b\b\b\b\b\b\b\b\b\b\b\b\b\b\b\b\b\b\b\b\b\b\b\b\b\b\b\b\b\b\b\b\b\b\b\b\b\b\b\b\b\b\b\b\b\b\b\b\b\b\b\n",
      "Epoch 14/30\n",
      "3/3 [==============================] - 0s 1ms/step - loss: 1.4113 - accuracy: 0.9681\b\b\b\b\b\b\b\b\b\b\b\b\b\b\b\b\b\b\b\b\b\b\b\b\b\b\b\b\b\b\b\b\b\b\b\b\b\b\b\b\b\b\b\b\b\b\b\b\b\b\b\b\b\b\b\b\b\b\b\b\b\b\b\b\b\b\b\b\b\b\b\b\b\b\b\b\n",
      "Epoch 15/30\n",
      "3/3 [==============================] - 0s 1ms/step - loss: 1.3363 - accuracy: 0.9787\b\b\b\b\b\b\b\b\b\b\b\b\b\b\b\b\b\b\b\b\b\b\b\b\b\b\b\b\b\b\b\b\b\b\b\b\b\b\b\b\b\b\b\b\b\b\b\b\b\b\b\b\b\b\b\b\b\b\b\b\b\b\b\b\b\b\b\b\b\b\b\b\b\b\b\b\n",
      "Epoch 16/30\n",
      "3/3 [==============================] - 0s 1ms/step - loss: 1.2702 - accuracy: 0.9787\b\b\b\b\b\b\b\b\b\b\b\b\b\b\b\b\b\b\b\b\b\b\b\b\b\b\b\b\b\b\b\b\b\b\b\b\b\b\b\b\b\b\b\b\b\b\b\b\b\b\b\b\b\b\b\b\b\b\b\b\b\b\b\b\b\b\b\b\b\b\b\b\b\b\b\b\n",
      "Epoch 17/30\n",
      "3/3 [==============================] - 0s 2ms/step - loss: 1.2110 - accuracy: 0.9787\b\b\b\b\b\b\b\b\b\b\b\b\b\b\b\b\b\b\b\b\b\b\b\b\b\b\b\b\b\b\b\b\b\b\b\b\b\b\b\b\b\b\b\b\b\b\b\b\b\b\b\b\b\b\b\b\b\b\b\b\b\b\b\b\b\b\b\b\b\b\b\b\b\b\b\b\n",
      "Epoch 18/30\n",
      "3/3 [==============================] - 0s 2ms/step - loss: 1.1580 - accuracy: 0.9787\b\b\b\b\b\b\b\b\b\b\b\b\b\b\b\b\b\b\b\b\b\b\b\b\b\b\b\b\b\b\b\b\b\b\b\b\b\b\b\b\b\b\b\b\b\b\b\b\b\b\b\b\b\b\b\b\b\b\b\b\b\b\b\b\b\b\b\b\b\b\b\b\b\b\b\b\n",
      "Epoch 19/30\n",
      "3/3 [==============================] - 0s 2ms/step - loss: 1.1089 - accuracy: 0.9787\b\b\b\b\b\b\b\b\b\b\b\b\b\b\b\b\b\b\b\b\b\b\b\b\b\b\b\b\b\b\b\b\b\b\b\b\b\b\b\b\b\b\b\b\b\b\b\b\b\b\b\b\b\b\b\b\b\b\b\b\b\b\b\b\b\b\b\b\b\b\b\b\b\b\b\b\n",
      "Epoch 20/30\n",
      "3/3 [==============================] - 0s 2ms/step - loss: 1.0666 - accuracy: 0.9787\b\b\b\b\b\b\b\b\b\b\b\b\b\b\b\b\b\b\b\b\b\b\b\b\b\b\b\b\b\b\b\b\b\b\b\b\b\b\b\b\b\b\b\b\b\b\b\b\b\b\b\b\b\b\b\b\b\b\b\b\b\b\b\b\b\b\b\b\b\b\b\b\b\b\b\b\n",
      "Epoch 21/30\n",
      "3/3 [==============================] - 0s 2ms/step - loss: 1.0275 - accuracy: 0.9787\b\b\b\b\b\b\b\b\b\b\b\b\b\b\b\b\b\b\b\b\b\b\b\b\b\b\b\b\b\b\b\b\b\b\b\b\b\b\b\b\b\b\b\b\b\b\b\b\b\b\b\b\b\b\b\b\b\b\b\b\b\b\b\b\b\b\b\b\b\b\b\b\b\b\b\b\n",
      "Epoch 22/30\n",
      "3/3 [==============================] - 0s 2ms/step - loss: 0.9912 - accuracy: 0.9894\b\b\b\b\b\b\b\b\b\b\b\b\b\b\b\b\b\b\b\b\b\b\b\b\b\b\b\b\b\b\b\b\b\b\b\b\b\b\b\b\b\b\b\b\b\b\b\b\b\b\b\b\b\b\b\b\b\b\b\b\b\b\b\b\b\b\b\b\b\b\b\b\b\b\b\b\n",
      "Epoch 23/30\n",
      "3/3 [==============================] - 0s 2ms/step - loss: 0.9592 - accuracy: 0.9894\b\b\b\b\b\b\b\b\b\b\b\b\b\b\b\b\b\b\b\b\b\b\b\b\b\b\b\b\b\b\b\b\b\b\b\b\b\b\b\b\b\b\b\b\b\b\b\b\b\b\b\b\b\b\b\b\b\b\b\b\b\b\b\b\b\b\b\b\b\b\b\b\b\b\b\b\n",
      "Epoch 24/30\n",
      "3/3 [==============================] - 0s 2ms/step - loss: 0.9296 - accuracy: 0.9894\b\b\b\b\b\b\b\b\b\b\b\b\b\b\b\b\b\b\b\b\b\b\b\b\b\b\b\b\b\b\b\b\b\b\b\b\b\b\b\b\b\b\b\b\b\b\b\b\b\b\b\b\b\b\b\b\b\b\b\b\b\b\b\b\b\b\b\b\b\b\b\b\b\b\b\b\n",
      "Epoch 25/30\n",
      "3/3 [==============================] - 0s 2ms/step - loss: 0.9020 - accuracy: 0.9894\b\b\b\b\b\b\b\b\b\b\b\b\b\b\b\b\b\b\b\b\b\b\b\b\b\b\b\b\b\b\b\b\b\b\b\b\b\b\b\b\b\b\b\b\b\b\b\b\b\b\b\b\b\b\b\b\b\b\b\b\b\b\b\b\b\b\b\b\b\b\b\b\b\b\b\b\n",
      "Epoch 26/30\n",
      "3/3 [==============================] - 0s 2ms/step - loss: 0.8772 - accuracy: 0.9894\b\b\b\b\b\b\b\b\b\b\b\b\b\b\b\b\b\b\b\b\b\b\b\b\b\b\b\b\b\b\b\b\b\b\b\b\b\b\b\b\b\b\b\b\b\b\b\b\b\b\b\b\b\b\b\b\b\b\b\b\b\b\b\b\b\b\b\b\b\b\b\b\b\b\b\b\n",
      "Epoch 27/30\n",
      "3/3 [==============================] - 0s 2ms/step - loss: 0.8544 - accuracy: 0.9894\b\b\b\b\b\b\b\b\b\b\b\b\b\b\b\b\b\b\b\b\b\b\b\b\b\b\b\b\b\b\b\b\b\b\b\b\b\b\b\b\b\b\b\b\b\b\b\b\b\b\b\b\b\b\b\b\b\b\b\b\b\b\b\b\b\b\b\b\b\b\b\b\b\b\b\b\n",
      "Epoch 28/30\n",
      "3/3 [==============================] - 0s 2ms/step - loss: 0.8312 - accuracy: 0.9894\b\b\b\b\b\b\b\b\b\b\b\b\b\b\b\b\b\b\b\b\b\b\b\b\b\b\b\b\b\b\b\b\b\b\b\b\b\b\b\b\b\b\b\b\b\b\b\b\b\b\b\b\b\b\b\b\b\b\b\b\b\b\b\b\b\b\b\b\b\b\b\b\b\b\b\b\n",
      "Epoch 29/30\n",
      "3/3 [==============================] - 0s 2ms/step - loss: 0.8108 - accuracy: 0.9894\b\b\b\b\b\b\b\b\b\b\b\b\b\b\b\b\b\b\b\b\b\b\b\b\b\b\b\b\b\b\b\b\b\b\b\b\b\b\b\b\b\b\b\b\b\b\b\b\b\b\b\b\b\b\b\b\b\b\b\b\b\b\b\b\b\b\b\b\b\b\b\b\b\b\b\b\n",
      "Epoch 30/30\n",
      "3/3 [==============================] - 0s 1ms/step - loss: 0.7915 - accuracy: 0.9894\b\b\b\b\b\b\b\b\b\b\b\b\b\b\b\b\b\b\b\b\b\b\b\b\b\b\b\b\b\b\b\b\b\b\b\b\b\b\b\b\b\b\b\b\b\b\b\b\b\b\b\b\b\b\b\b\b\b\b\b\b\b\b\b\b\b\b\b\b\b\b\b\b\b\b\b\n"
     ]
    },
    {
     "data": {
      "text/plain": "<keras.callbacks.History at 0x1892282e0>"
     },
     "execution_count": 25,
     "metadata": {},
     "output_type": "execute_result"
    }
   ],
   "source": [
    "model.fit(x_train, y_train, epochs=30)"
   ],
   "metadata": {
    "collapsed": false,
    "pycharm": {
     "name": "#%%\n"
    }
   }
  },
  {
   "cell_type": "code",
   "execution_count": 26,
   "outputs": [
    {
     "name": "stdout",
     "output_type": "stream",
     "text": [
      "1/1 - 0s - loss: 3.4800 - accuracy: 0.8000\n",
      "\n",
      "Test accuracy: 0.800000011920929\n"
     ]
    }
   ],
   "source": [
    "test_loss, test_acc = model.evaluate(x_test,y_test, verbose=2)\n",
    "\n",
    "print('\\nTest accuracy:', test_acc)"
   ],
   "metadata": {
    "collapsed": false,
    "pycharm": {
     "name": "#%%\n"
    }
   }
  },
  {
   "cell_type": "code",
   "execution_count": 28,
   "outputs": [
    {
     "data": {
      "text/plain": "['changed', 'changing', 'created', 'process', 'thinking', 'world']"
     },
     "execution_count": 28,
     "metadata": {},
     "output_type": "execute_result"
    }
   ],
   "source": [
    "vectorizer = CountVectorizer(stop_words='english')\n",
    "\n",
    "vectorizer.fit([data.loc[0]['Quote']])\n",
    "vectorizer.get_feature_names()"
   ],
   "metadata": {
    "collapsed": false,
    "pycharm": {
     "name": "#%%\n"
    }
   }
  },
  {
   "cell_type": "code",
   "execution_count": null,
   "outputs": [],
   "source": [],
   "metadata": {
    "collapsed": false,
    "pycharm": {
     "name": "#%%\n"
    }
   }
  }
 ],
 "metadata": {
  "kernelspec": {
   "name": "pycharm-1beb812a",
   "language": "python",
   "display_name": "PyCharm (Artificial Intelligence)"
  },
  "language_info": {
   "codemirror_mode": {
    "name": "ipython",
    "version": 2
   },
   "file_extension": ".py",
   "mimetype": "text/x-python",
   "name": "python",
   "nbconvert_exporter": "python",
   "pygments_lexer": "ipython2",
   "version": "2.7.6"
  }
 },
 "nbformat": 4,
 "nbformat_minor": 0
}