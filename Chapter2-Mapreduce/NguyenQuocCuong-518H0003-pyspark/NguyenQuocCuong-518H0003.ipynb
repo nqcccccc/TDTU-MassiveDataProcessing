{
 "cells": [
  {
   "cell_type": "code",
   "execution_count": 6,
   "metadata": {
    "collapsed": true
   },
   "outputs": [
    {
     "name": "stdout",
     "output_type": "stream",
     "text": [
      "The autotime extension is already loaded. To reload it, use:\n",
      "  %reload_ext autotime\n",
      "time: 1.91 ms (started: 2021-10-11 20:06:09 +07:00)\n"
     ]
    }
   ],
   "source": [
    "%load_ext autotime\n",
    "import pyspark as spark\n",
    "\n",
    "import os\n",
    "os.environ['JAVA_HOME'] = '/Library/Java/JavaVirtualMachines/adoptopenjdk-8.jdk/Contents/Home'"
   ]
  },
  {
   "cell_type": "code",
   "execution_count": 16,
   "outputs": [
    {
     "name": "stderr",
     "output_type": "stream",
     "text": [
      "[Stage 8:>                                                          (0 + 1) / 1]\r"
     ]
    },
    {
     "name": "stdout",
     "output_type": "stream",
     "text": [
      "root\n",
      " |-- AirCraft: string (nullable = true)\n",
      " |-- ContryFlyingMission: string (nullable = true)\n",
      " |-- MissionDate: string (nullable = true)\n",
      " |-- OperationSupported: string (nullable = true)\n",
      " |-- PeriodOfDay: string (nullable = true)\n",
      " |-- TakeoffLocation: string (nullable = true)\n",
      " |-- TargetCountry: string (nullable = true)\n",
      " |-- TimeOnTarget: double (nullable = true)\n",
      " |-- WeaponType: string (nullable = true)\n",
      " |-- WeaponsLoadedWeight: long (nullable = true)\n",
      "\n",
      "+--------+--------------------+-----------+------------------+-----------+---------------+-------------+------------+--------------------+-------------------+\n",
      "|AirCraft| ContryFlyingMission|MissionDate|OperationSupported|PeriodOfDay|TakeoffLocation|TargetCountry|TimeOnTarget|          WeaponType|WeaponsLoadedWeight|\n",
      "+--------+--------------------+-----------+------------------+-----------+---------------+-------------+------------+--------------------+-------------------+\n",
      "|   EC-47|UNITED STATES OF ...| 1971-06-05|              null|          D|   TAN SON NHUT|     CAMBODIA|      1005.0|                null|                  0|\n",
      "|   EC-47|UNITED STATES OF ...| 1972-12-26|              null|          D|  NAKHON PHANOM|SOUTH VIETNAM|       530.0|                null|                  0|\n",
      "|    RF-4|UNITED STATES OF ...| 1973-07-28|              null|          D|       UDORN AB|         LAOS|       730.0|                null|                  0|\n",
      "|     A-1|UNITED STATES OF ...| 1970-02-02|              null|          N|  NAKHON PHANOM|         LAOS|      1415.0|BLU27 FIRE BOMB (...|              17400|\n",
      "|    A-37|     VIETNAM (SOUTH)| 1970-10-08|              null|          D|         DANANG|SOUTH VIETNAM|      1240.0|                null|                  0|\n",
      "|     F-4|UNITED STATES OF ...| 1970-11-25|              null|          D|        UBON AB|         LAOS|       650.0|MK 82 GP BOMB (50...|              31860|\n",
      "|     A-4|UNITED STATES OF ...| 1972-03-08|              null|          D|    TONKIN GULF|         LAOS|      1005.0|                null|                  0|\n",
      "|     F-4|UNITED STATES OF ...| 1971-12-27|              null|       null|       UDORN AB|         LAOS|         0.0|                null|                  0|\n",
      "|     A-7|UNITED STATES OF ...| 1972-05-24|              null|       null|    TONKIN GULF|NORTH VIETNAM|         0.0|                null|                  0|\n",
      "|   EC-47|UNITED STATES OF ...| 1972-09-12|              null|          D|   TAN SON NHUT|SOUTH VIETNAM|       710.0|                null|                  0|\n",
      "|   CH-53|UNITED STATES OF ...| 1974-06-13|              null|          N|  NAKHON PHANOM|     THAILAND|      1800.0|                null|                  0|\n",
      "|   CH-53|UNITED STATES OF ...| 1974-12-19|              null|          D|  NAKHON PHANOM|     THAILAND|       800.0|                null|                  0|\n",
      "|     O-1|     VIETNAM (SOUTH)| 1973-10-24|              null|          D|      NHA TRANG|SOUTH VIETNAM|       800.0|                null|                  0|\n",
      "|    UH-1|     VIETNAM (SOUTH)| 1974-03-19|              null|          D|        PHU CAT|SOUTH VIETNAM|       800.0|        CARGO (TONS)|                  0|\n",
      "|     C-7|UNITED STATES OF ...| 1970-05-08|              null|          D|   TAN SON NHUT|SOUTH VIETNAM|       800.0|                null|                  0|\n",
      "|     A-6|UNITED STATES OF ...| 1971-05-12|              null|          N|    TONKIN GULF|         LAOS|      1304.0|CBU24 AN PR/MT (B...|              33200|\n",
      "|   EB-66|UNITED STATES OF ...| 1971-12-03|              null|          N|          KORAT|         LAOS|      1445.0|                null|                  0|\n",
      "|    T-28|                LAOS| 1971-12-19|              null|          D|     SAVANAKHET|         LAOS|       230.0|                null|                  0|\n",
      "|     A-6|UNITED STATES OF ...| 1972-08-18|              null|       null|    TONKIN GULF|NORTH VIETNAM|         0.0|                null|                  0|\n",
      "|     A-7|UNITED STATES OF ...| 1972-10-15|              null|          D|    TONKIN GULF|NORTH VIETNAM|       110.0|                null|                  0|\n",
      "+--------+--------------------+-----------+------------------+-----------+---------------+-------------+------------+--------------------+-------------------+\n",
      "only showing top 20 rows\n",
      "\n",
      "time: 10.5 s (started: 2021-10-11 20:42:33 +07:00)\n"
     ]
    },
    {
     "name": "stderr",
     "output_type": "stream",
     "text": [
      "                                                                                \r"
     ]
    }
   ],
   "source": [
    "sc = spark.SparkContext.getOrCreate()\n",
    "\n",
    "sqlContext = spark.sql.SQLContext(sc)\n",
    "\n",
    "bo_df = sqlContext.read.json('Data/Bombing_Operations.json.gz')\n",
    "bo_df.printSchema()\n",
    "bo_df.show()"
   ],
   "metadata": {
    "collapsed": false,
    "pycharm": {
     "name": "#%%\n"
    }
   }
  },
  {
   "cell_type": "code",
   "execution_count": 15,
   "outputs": [
    {
     "name": "stdout",
     "output_type": "stream",
     "text": [
      "root\n",
      " |-- AirCraft: string (nullable = true)\n",
      " |-- AirCraftName: string (nullable = true)\n",
      " |-- AirCraftType: string (nullable = true)\n",
      "\n",
      "+--------+--------------------+--------------------+\n",
      "|AirCraft|        AirCraftName|        AirCraftType|\n",
      "+--------+--------------------+--------------------+\n",
      "|     A-1|Douglas A-1 Skyra...|         Fighter Jet|\n",
      "|    A-26|Douglas A-26 Invader|        Light Bomber|\n",
      "|    A-37|Cessna A-37 Drago...|Light ground-atta...|\n",
      "|     A-4|McDonnell Douglas...|         Fighter Jet|\n",
      "|     A-5|North American A-...|          Bomber Jet|\n",
      "|     A-6|Grumman A-6 Intruder|     Attack Aircraft|\n",
      "|     A-7|  LTV A-7 Corsair II|     Attack Aircraft|\n",
      "|  AC-119|Fairchild AC-119 ...|Military Transpor...|\n",
      "|  AC-123|Fairchild C-123 P...|Military Transpor...|\n",
      "|  AC-130|Lockheed AC-130 S...|Fixed wing ground...|\n",
      "|   AC-47|Douglas AC-47 Spooky|Ground attack air...|\n",
      "|    AH-1| Bell AH-1 HueyCobra|          Helicopter|\n",
      "|     B-1| Rockwell B-1 Lancer|Heavy strategic b...|\n",
      "|    B-52| B-52 Stratofortress|    Strategic bomber|\n",
      "|    B-57|Martin B-57 Canberra|     Tactical Bomber|\n",
      "|    B-66|Douglas B-66 Dest...|        Light Bomber|\n",
      "|     C-1| Grumman C-1A Trader|           Transport|\n",
      "|   C-117|     C-117D Skytrain|           Transport|\n",
      "|   C-119|Fairchild C-119 F...|Military Transpor...|\n",
      "|   C-123|Fairchild C-123 P...|Military Transpor...|\n",
      "+--------+--------------------+--------------------+\n",
      "only showing top 20 rows\n",
      "\n",
      "time: 219 ms (started: 2021-10-11 20:42:29 +07:00)\n"
     ]
    }
   ],
   "source": [
    "ag_df = sqlContext.read.json('Data/Aircraft_Glossary.json.gz')\n",
    "ag_df.printSchema()\n",
    "ag_df.show()"
   ],
   "metadata": {
    "collapsed": false,
    "pycharm": {
     "name": "#%%\n"
    }
   }
  },
  {
   "cell_type": "code",
   "execution_count": 21,
   "outputs": [
    {
     "name": "stderr",
     "output_type": "stream",
     "text": [
      "                                                                                \r"
     ]
    },
    {
     "data": {
      "text/plain": "[Row(ContryFlyingMission='UNITED STATES OF AMERICA', count=3708997),\n Row(ContryFlyingMission='VIETNAM (SOUTH)', count=622013),\n Row(ContryFlyingMission='LAOS', count=32777),\n Row(ContryFlyingMission='KOREA (SOUTH)', count=24469),\n Row(ContryFlyingMission='AUSTRALIA', count=12519)]"
     },
     "execution_count": 21,
     "metadata": {},
     "output_type": "execute_result"
    },
    {
     "name": "stdout",
     "output_type": "stream",
     "text": [
      "time: 8.54 s (started: 2021-10-11 20:52:40 +07:00)\n"
     ]
    }
   ],
   "source": [
    "from pyspark.sql.functions import desc\n",
    "bo_df.groupBy('ContryFlyingMission').count().sort(desc('count')).collect()"
   ],
   "metadata": {
    "collapsed": false,
    "pycharm": {
     "name": "#%%\n"
    }
   }
  },
  {
   "cell_type": "code",
   "execution_count": 23,
   "outputs": [
    {
     "name": "stderr",
     "output_type": "stream",
     "text": [
      "                                                                                \r"
     ]
    },
    {
     "data": {
      "text/plain": "[Row(ContryFlyingMission='UNITED STATES OF AMERICA', MissionDate='1968-06-07', count=3832),\n Row(ContryFlyingMission='UNITED STATES OF AMERICA', MissionDate='1968-09-16', count=3755),\n Row(ContryFlyingMission='UNITED STATES OF AMERICA', MissionDate='1968-09-18', count=3752),\n Row(ContryFlyingMission='UNITED STATES OF AMERICA', MissionDate='1968-09-17', count=3706),\n Row(ContryFlyingMission='UNITED STATES OF AMERICA', MissionDate='1968-05-11', count=3692),\n Row(ContryFlyingMission='UNITED STATES OF AMERICA', MissionDate='1968-09-14', count=3646),\n Row(ContryFlyingMission='UNITED STATES OF AMERICA', MissionDate='1968-06-16', count=3639),\n Row(ContryFlyingMission='UNITED STATES OF AMERICA', MissionDate='1968-06-23', count=3630),\n Row(ContryFlyingMission='UNITED STATES OF AMERICA', MissionDate='1968-06-11', count=3628),\n Row(ContryFlyingMission='UNITED STATES OF AMERICA', MissionDate='1968-09-19', count=3614)]"
     },
     "execution_count": 23,
     "metadata": {},
     "output_type": "execute_result"
    },
    {
     "name": "stdout",
     "output_type": "stream",
     "text": [
      "time: 10.4 s (started: 2021-10-11 20:54:00 +07:00)\n"
     ]
    }
   ],
   "source": [
    "bo_df.groupBy('ContryFlyingMission','MissionDate').count().sort(desc('count')).take(10)"
   ],
   "metadata": {
    "collapsed": false,
    "pycharm": {
     "name": "#%%\n"
    }
   }
  },
  {
   "cell_type": "code",
   "execution_count": 46,
   "outputs": [
    {
     "data": {
      "text/plain": "['A-26',\n 'A-5',\n 'B-1',\n 'B-52',\n 'B-57',\n 'B-66',\n 'EB-66',\n 'EKA-3',\n 'F-100',\n 'F-104',\n 'F-105',\n 'F-111',\n 'F-4',\n 'KA3',\n 'RA-3',\n 'RB-66',\n 'RF-4',\n 'A-3']"
     },
     "execution_count": 46,
     "metadata": {},
     "output_type": "execute_result"
    },
    {
     "name": "stdout",
     "output_type": "stream",
     "text": [
      "time: 143 ms (started: 2021-10-11 21:58:02 +07:00)\n"
     ]
    }
   ],
   "source": [
    "bombardier = ag_df.select('AirCraft').filter(ag_df.AirCraftType.contains('omber')).collect()\n",
    "bombardier_arr = []\n",
    "for i in bombardier:\n",
    "    bombardier_arr.append(i['AirCraft'])\n",
    "bombardier_arr"
   ],
   "metadata": {
    "collapsed": false,
    "pycharm": {
     "name": "#%%\n"
    }
   }
  },
  {
   "cell_type": "code",
   "execution_count": 49,
   "outputs": [
    {
     "name": "stderr",
     "output_type": "stream",
     "text": [
      "                                                                                \r"
     ]
    },
    {
     "data": {
      "text/plain": "[Row(ContryFlyingMission='UNITED STATES OF AMERICA', count=159)]"
     },
     "execution_count": 49,
     "metadata": {},
     "output_type": "execute_result"
    },
    {
     "name": "stdout",
     "output_type": "stream",
     "text": [
      "time: 6.87 s (started: 2021-10-11 21:59:25 +07:00)\n"
     ]
    }
   ],
   "source": [
    "bo_df\\\n",
    "    .filter(bo_df.MissionDate =='1966-06-29')\\\n",
    "    .filter(bo_df.TargetCountry == 'NORTH VIETNAM')\\\n",
    "    .filter(bo_df.OperationSupported == 'ROLLING THUN')\\\n",
    "    .filter(bo_df.AirCraft.isin(bombardier_arr))\\\n",
    "    .groupBy('ContryFlyingMission')\\\n",
    "    .count()\\\n",
    "    .collect()"
   ],
   "metadata": {
    "collapsed": false,
    "pycharm": {
     "name": "#%%\n"
    }
   }
  },
  {
   "cell_type": "code",
   "execution_count": 52,
   "outputs": [
    {
     "name": "stderr",
     "output_type": "stream",
     "text": [
      "                                                                                \r"
     ]
    },
    {
     "data": {
      "text/plain": "[Row(AirCraft='F-4', count=500103)]"
     },
     "execution_count": 52,
     "metadata": {},
     "output_type": "execute_result"
    },
    {
     "name": "stdout",
     "output_type": "stream",
     "text": [
      "time: 11.5 s (started: 2021-10-11 22:02:22 +07:00)\n"
     ]
    }
   ],
   "source": [
    "bo_df.filter(bo_df.TargetCountry.contains('VIETNAM'))\\\n",
    "    .groupby('AirCraft').count()\\\n",
    "    .sort(desc('count'))\\\n",
    "    .take(1)"
   ],
   "metadata": {
    "collapsed": false,
    "pycharm": {
     "name": "#%%\n"
    }
   }
  },
  {
   "cell_type": "code",
   "execution_count": null,
   "outputs": [],
   "source": [],
   "metadata": {
    "collapsed": false,
    "pycharm": {
     "name": "#%%\n"
    }
   }
  }
 ],
 "metadata": {
  "kernelspec": {
   "display_name": "Python 3",
   "language": "python",
   "name": "python3"
  },
  "language_info": {
   "codemirror_mode": {
    "name": "ipython",
    "version": 2
   },
   "file_extension": ".py",
   "mimetype": "text/x-python",
   "name": "python",
   "nbconvert_exporter": "python",
   "pygments_lexer": "ipython2",
   "version": "2.7.6"
  }
 },
 "nbformat": 4,
 "nbformat_minor": 0
}