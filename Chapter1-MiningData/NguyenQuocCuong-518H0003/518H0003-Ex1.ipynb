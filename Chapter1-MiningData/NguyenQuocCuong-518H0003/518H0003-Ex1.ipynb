{
 "cells": [
  {
   "cell_type": "code",
   "execution_count": 1,
   "metadata": {
    "collapsed": true
   },
   "outputs": [
    {
     "name": "stdout",
     "output_type": "stream",
     "text": [
      "time: 714 ms (started: 2021-09-29 17:26:34 +07:00)\n"
     ]
    }
   ],
   "source": [
    "%load_ext autotime\n",
    "import requests\n",
    "import bs4\n",
    "from bs4 import BeautifulSoup\n",
    "\n",
    "import numpy as np\n",
    "import pandas as pd\n",
    "import re\n",
    "\n",
    "import json"
   ]
  },
  {
   "cell_type": "code",
   "execution_count": 2,
   "outputs": [
    {
     "name": "stdout",
     "output_type": "stream",
     "text": [
      "time: 548 µs (started: 2021-09-29 17:26:36 +07:00)\n"
     ]
    }
   ],
   "source": [
    "username = '518H0003'\n",
    "passw = ''"
   ],
   "metadata": {
    "collapsed": false,
    "pycharm": {
     "name": "#%%\n"
    }
   }
  },
  {
   "cell_type": "code",
   "execution_count": 4,
   "outputs": [
    {
     "name": "stdout",
     "output_type": "stream",
     "text": [
      "{'.AspNetCore.Cookies': 'CfDJ8CSm8XR270xNp5XK-6N6VqnMUnW_Pv436l3_BmdQkFNWYYb8PjPaVunCB3m9tZQoTvjmVYkJw0i8muulEhFnwzEPIDMjwMmy44sihCRU9z-fW0jSlLmvzo6s9VdLeGqFN1E92Ye5Ini-uqztx06wDBRd_Iqv2YM4T-2D5wWprZ4mfodMirX5waHTrV1UlSO0soFSj1GmyE3i5q9K9ibxB2vHkjezeouf5AlXeUpnB5YKVzRxMht2BNFWFxw21033k6-cDzTmJjW1REeECFH_Nv8R74iszy4jW3ndq73J8GpvBMZp1AXA_k4ASBsz51vqFcWaQGlQ69dyODKflowgagK1vUIqaVVgEAic9yOAm1_-Xd6M85E22N2m955vV0GOafc-VvPDam57LFDFOchCS69-g1fx_Pj5F66v23D81iTStuE1-XSdgnBzvkpylmmdYf_rR3gZUVahvkJngD_wrq-Xka3TxfRIvx-NODK3XQGRPLgUhE2wvR_a6z_DjSNtbQLmnneFjPkiUr8vs0qrME9b67wWaD3lrFPOpXCHeh6BA64F2kXnv5GkblGqK7EiZ4MJmL8kbaFwjOrlq15mGh4SuzKlEcBRlutcQN5R_HbzfnK7SiGLFDVg2dtHiQ-r0WoaylwH3jOKxqplhMJIyxLCYWtR4Z41Oeeo445aD32i_EraL2Mm-XbOyLe8FCtdWtRqa015ZpLPFLAT4GZ_ZAcWOJNYsBrnYws_2gEDtHLFQSWrnprps37gAFV0kvoNDMfGLA-Y5DPQAjL0d4-sydADvRrEamlMluFUtI9sVnWdna7N9jUcLVqGOkpjYL6_PuD8L5NrfQq8k4mfU4Cgzf-G0bX_vzJabq6zjF-fTCcEzFj9bZsURI4AwhNl2FGi1M3Kn99VHxCFv4pAvtHDPDGwHtzyeOoxZbbAf9nVAt1m6uv45NXLWgcvgey5nWJTYsRXhM73nawXPLSD8tYv3F4I2JX-X8K4ezEgmzIBHpoelZ20GoAuuTkLKS2o_SY_zv7IyxIL-112ttzfbPiiwr2OlA_n-6RT1fhvygttRkXDB2ZRcDGUQDP3UTifQ3mOpVTV_FQv0m3ikhYiR6nT_dXg4ePF-VGAByoIsndJg2xU7AxLvS-hS3bQ-QRNyflAU0uAuJZj1-S-iX8TvnILbYeMEd3-ea3b2JM1O55keJaru8e7aZmf3HDJY9iY57wC48EK-NGc5toIilF9wzUczYeXMHCzq5_uukzmH3prxISAJa33yOamDj-Zq8e-jBmi2IsPZGdKx2tUlyYutxKCo-TcjuQGXUwbK0exGu-70_Aon-52Q6E9GxoY_lA5KOTyIbQNaANouhD9QXfNYESZIFpdKHnMyATbZkWJ8A-kyMdT0uSn7gEKCRYR1Jb3FF3gUiqhCt_NVR5fTODIPzfIz0YevSOXc68Y0R92eGWnjfibeI0n4IpjHB3INb4CoRs0tFiwzOV0-oCNdI4eX9dcb8sMYLI-EUsX_TiM-6G3kwEfoKc940x7zwHWEwuzjGtyyhWtBY9MObttW3aFWv-lKZPLPNNLs56hSmM_mg0N43g-fLG5QuNUvTx6N1XrHdD7f3WS_NFOeWgXF7CD09pbwaf5JeKoulM_4x94xotf44UO', '.AspNetCore.Culture': 'c%3Dvi%7Cuic%3Dvi', '.AspNetCore.Session': 'CfDJ8CSm8XR270xNp5XK%2B6N6Vqnv9o%2FPdifzhqT5AZVFnv2FoknWNlSI9ZXhp7RsVxvo9RzTKr6C9uZMMoVIs1gQjVadmb0h1BM7V6pQF661yBnuzBw8oGKIwcOiN6L8AR7LT3aH95SyLIxrDJMWl8KYzIRIIfqatxNStfwAgRKvkPq%2B'}\n",
      "http://sso.tdt.edu.vn/Authenticate.aspx?ReturnUrl=https://old-stdportal.tdtu.edu.vn&Token=e886980b\n",
      "['e886980b']\n",
      "time: 680 ms (started: 2021-09-29 17:27:14 +07:00)\n"
     ]
    }
   ],
   "source": [
    "session = requests.Session()\n",
    "response = session.post(\"https://stdportal.tdtu.edu.vn/Login/SignIn?ReturnURL=https://stdportal.tdtu.edu.vn/\",\n",
    "                        data={'user': username, 'pass': passw}, cookies=session.cookies.get_dict())\n",
    "\n",
    "print(session.cookies.get_dict())\n",
    "\n",
    "ssoUrl=json.loads(response.text)['url']\n",
    "\n",
    "print(ssoUrl)\n",
    "\n",
    "token = re.findall('(?<=Token=)([^&]*)(?=&)?',ssoUrl)\n",
    "print(token)"
   ],
   "metadata": {
    "collapsed": false,
    "pycharm": {
     "name": "#%%\n"
    }
   }
  },
  {
   "cell_type": "code",
   "execution_count": 260,
   "outputs": [
    {
     "name": "stdout",
     "output_type": "stream",
     "text": [
      "time: 432 ms (started: 2021-09-28 09:07:19 +07:00)\n"
     ]
    }
   ],
   "source": [
    "resUrl = 'http://sso.tdt.edu.vn/Authenticate.aspx?ReturnUrl=https://lichhoc-lichthi.tdtu.edu.vn/tkb2.aspx&Token='+token[0]\n",
    "response = requests.get(resUrl)"
   ],
   "metadata": {
    "collapsed": false,
    "pycharm": {
     "name": "#%%\n"
    }
   }
  },
  {
   "cell_type": "code",
   "execution_count": 261,
   "outputs": [
    {
     "data": {
      "text/plain": "<table border=\"1\" cellpadding=\"10\" cellspacing=\"0\" id=\"ThoiKhoaBieu1_tbTKBTheoTuan\" rules=\"all\" width=\"100%\">\n<tr class=\"Headerrow\">\n<td width=\"30\"><font face=\"Tahoma\">Tiết|Thứ <br/>Period | Day</font></td><td><font face=\"Tahoma\">Thứ 2 | Monday<br/>(27/09)</font></td><td><font face=\"Tahoma\">Thứ 3 | Tuesday<br/>(28/09)</font></td><td><font face=\"Tahoma\">Thứ 4 | Wednesday<br/>(29/09)</font></td><td><font face=\"Tahoma\">Thứ 5 | Thursday<br/>(30/09)</font></td><td><font face=\"Tahoma\">Thứ 6 | Friday<br/>(01/10)</font></td><td><font face=\"Tahoma\">Thứ 7 | Saturday<br/>(02/10)</font></td><td><font face=\"Tahoma\">Chủ nhật | Sunday<br/>(03/10)</font></td>\n</tr><tr class=\"rowContent\">\n<td class=\"cellbuoi\"><font face=\"Tahoma\">1</font></td><td class=\"cell\"><font face=\"Tahoma\"/></td><td class=\"cell\"><font face=\"Tahoma\"/></td><td bgcolor=\"#D94270\" class=\"cell\" rowspan=\"3\"><font color=\"White\" face=\"Tahoma\"><table>100% cellpadding=0 cellspacing=0 &gt;<tr><td><b>Nhập môn Xử lý ảnh số<br/><label class=\"lbl-lang\" style=\"color:white;padding-left:0px;\">|Introduction to Digital Image Processing</label></b><br/>(505060 - Nhóm<label class=\"lbl-lang\" style=\"color:white;padding-left:0px;\">|Groups: </label>3)<br/>Phòng<label class=\"lbl-lang\" style=\"color:white;padding-left:0px;\">|Room: </label>HOCTRUCTUYEN</td></tr></table></font></td><td class=\"cell\"><font face=\"Tahoma\"/></td><td bgcolor=\"#A85E5E\" class=\"cell\" rowspan=\"3\"><font color=\"White\" face=\"Tahoma\"><table>100% cellpadding=0 cellspacing=0 &gt;<tr><td><b>Xử lý dữ liệu lớn<br/><label class=\"lbl-lang\" style=\"color:white;padding-left:0px;\">|Massive Data Processing Techniques in Data Science</label></b><br/>(504048 - Nhóm<label class=\"lbl-lang\" style=\"color:white;padding-left:0px;\">|Groups: </label>5)<br/>Phòng<label class=\"lbl-lang\" style=\"color:white;padding-left:0px;\">|Room: </label>HOCTRUCTUYEN</td></tr></table></font></td><td class=\"cell\"><font face=\"Tahoma\"/></td><td class=\"cell\"><font face=\"Tahoma\"/></td>\n</tr><tr class=\"rowContent\">\n<td class=\"cellbuoi\"><font face=\"Tahoma\">2</font></td><td class=\"cell\"><font face=\"Tahoma\"/></td><td class=\"cell\"><font face=\"Tahoma\"/></td><td class=\"cell\"><font face=\"Tahoma\"/></td><td class=\"cell\"><font face=\"Tahoma\"/></td><td class=\"cell\"><font face=\"Tahoma\"/></td>\n</tr><tr class=\"rowContent\">\n<td class=\"cellbuoi\"><font face=\"Tahoma\">3</font></td><td class=\"cell\"><font face=\"Tahoma\"/></td><td class=\"cell\"><font face=\"Tahoma\"/></td><td class=\"cell\"><font face=\"Tahoma\"/></td><td class=\"cell\"><font face=\"Tahoma\"/></td><td class=\"cell\"><font face=\"Tahoma\"/></td>\n</tr><tr class=\"rowContent\">\n<td class=\"cellbuoi\"><font face=\"Tahoma\">4</font></td><td bgcolor=\"#ED8232\" class=\"cell\" rowspan=\"3\"><font color=\"White\" face=\"Tahoma\"><table>100% cellpadding=0 cellspacing=0 &gt;<tr><td><b>Nhập môn Trí tuệ nhân tạo<br/><label class=\"lbl-lang\" style=\"color:white;padding-left:0px;\">|Introduction to Artificial Intelligence</label></b><br/>(503043 - Nhóm<label class=\"lbl-lang\" style=\"color:white;padding-left:0px;\">|Groups: </label>3)<br/>Phòng<label class=\"lbl-lang\" style=\"color:white;padding-left:0px;\">|Room: </label>HOCTRUCTUYEN</td></tr></table></font></td><td class=\"cell\"><font face=\"Tahoma\"/></td><td class=\"cell\"><font face=\"Tahoma\"/></td><td class=\"cell\"><font face=\"Tahoma\"/></td><td class=\"cell\"><font face=\"Tahoma\"/></td><td class=\"cell\"><font face=\"Tahoma\"/></td><td class=\"cell\"><font face=\"Tahoma\"/></td>\n</tr><tr class=\"rowContent\">\n<td class=\"cellbuoi\"><font face=\"Tahoma\">5</font></td><td class=\"cell\"><font face=\"Tahoma\"/></td><td class=\"cell\"><font face=\"Tahoma\"/></td><td class=\"cell\"><font face=\"Tahoma\"/></td><td class=\"cell\"><font face=\"Tahoma\"/></td><td class=\"cell\"><font face=\"Tahoma\"/></td><td class=\"cell\"><font face=\"Tahoma\"/></td>\n</tr><tr class=\"rowContent\">\n<td class=\"cellbuoi\"><font face=\"Tahoma\">6</font></td><td class=\"cell\"><font face=\"Tahoma\"/></td><td class=\"cell\"><font face=\"Tahoma\"/></td><td class=\"cell\"><font face=\"Tahoma\"/></td><td class=\"cell\"><font face=\"Tahoma\"/></td><td class=\"cell\"><font face=\"Tahoma\"/></td><td class=\"cell\"><font face=\"Tahoma\"/></td>\n</tr><tr class=\"rowContent\">\n<td class=\"cellbuoi\"><font face=\"Tahoma\">7</font></td><td class=\"cell\"><font face=\"Tahoma\"/></td><td class=\"cell\"><font face=\"Tahoma\"/></td><td class=\"cell\"><font face=\"Tahoma\"/></td><td class=\"cell\"><font face=\"Tahoma\"/></td><td class=\"cell\"><font face=\"Tahoma\"/></td><td class=\"cell\"><font face=\"Tahoma\"/></td><td class=\"cell\"><font face=\"Tahoma\"/></td>\n</tr><tr class=\"rowContent\">\n<td class=\"cellbuoi\"><font face=\"Tahoma\">8</font></td><td class=\"cell\"><font face=\"Tahoma\"/></td><td class=\"cell\"><font face=\"Tahoma\"/></td><td class=\"cell\"><font face=\"Tahoma\"/></td><td class=\"cell\"><font face=\"Tahoma\"/></td><td class=\"cell\"><font face=\"Tahoma\"/></td><td class=\"cell\"><font face=\"Tahoma\"/></td><td class=\"cell\"><font face=\"Tahoma\"/></td>\n</tr><tr class=\"rowContent\">\n<td class=\"cellbuoi\"><font face=\"Tahoma\">9</font></td><td class=\"cell\"><font face=\"Tahoma\"/></td><td class=\"cell\"><font face=\"Tahoma\"/></td><td class=\"cell\"><font face=\"Tahoma\"/></td><td class=\"cell\"><font face=\"Tahoma\"/></td><td class=\"cell\"><font face=\"Tahoma\"/></td><td class=\"cell\"><font face=\"Tahoma\"/></td><td class=\"cell\"><font face=\"Tahoma\"/></td>\n</tr><tr class=\"rowContent\">\n<td class=\"cellbuoi\"><font face=\"Tahoma\">10</font></td><td class=\"cell\"><font face=\"Tahoma\"/></td><td bgcolor=\"#9E7672\" class=\"cell\" rowspan=\"3\"><font color=\"White\" face=\"Tahoma\"><table>100% cellpadding=0 cellspacing=0 &gt;<tr><td><b>Thực hành Nhập môn Xử lý ảnh số<br/><label class=\"lbl-lang\" style=\"color:white;padding-left:0px;\">|Thực hành Introduction to Digital Image Processing</label></b><br/>(505060 - Nhóm<label class=\"lbl-lang\" style=\"color:white;padding-left:0px;\">|Groups: </label>3 - Tổ<label class=\"lbl-lang\" style=\"color:white;padding-left:0px;\">|Sub-group: </label>1 )<br/>Phòng<label class=\"lbl-lang\" style=\"color:white;padding-left:0px;\">|Room: </label>HOCTRUCTUYEN</td></tr></table></font></td><td class=\"cell\"><font face=\"Tahoma\"/></td><td class=\"cell\"><font face=\"Tahoma\"/></td><td class=\"cell\"><font face=\"Tahoma\"/></td><td class=\"cell\"><font face=\"Tahoma\"/></td><td class=\"cell\"><font face=\"Tahoma\"/></td>\n</tr><tr class=\"rowContent\">\n<td class=\"cellbuoi\"><font face=\"Tahoma\">11</font></td><td class=\"cell\"><font face=\"Tahoma\"/></td><td class=\"cell\"><font face=\"Tahoma\"/></td><td class=\"cell\"><font face=\"Tahoma\"/></td><td class=\"cell\"><font face=\"Tahoma\"/></td><td class=\"cell\"><font face=\"Tahoma\"/></td><td class=\"cell\"><font face=\"Tahoma\"/></td>\n</tr><tr class=\"rowContent\">\n<td class=\"cellbuoi\"><font face=\"Tahoma\">12</font></td><td class=\"cell\"><font face=\"Tahoma\"/></td><td class=\"cell\"><font face=\"Tahoma\"/></td><td class=\"cell\"><font face=\"Tahoma\"/></td><td class=\"cell\"><font face=\"Tahoma\"/></td><td class=\"cell\"><font face=\"Tahoma\"/></td><td class=\"cell\"><font face=\"Tahoma\"/></td>\n</tr><tr class=\"rowContent\">\n<td class=\"cellbuoi\"><font face=\"Tahoma\">13</font></td><td class=\"cell\"><font face=\"Tahoma\"/></td><td class=\"cell\"><font face=\"Tahoma\"/></td><td class=\"cell\"><font face=\"Tahoma\"/></td><td class=\"cell\"><font face=\"Tahoma\"/></td><td class=\"cell\"><font face=\"Tahoma\"/></td><td class=\"cell\"><font face=\"Tahoma\"/></td><td class=\"cell\"><font face=\"Tahoma\"/></td>\n</tr><tr class=\"rowContent\">\n<td class=\"cellbuoi\"><font face=\"Tahoma\">14</font></td><td class=\"cell\"><font face=\"Tahoma\"/></td><td class=\"cell\"><font face=\"Tahoma\"/></td><td class=\"cell\"><font face=\"Tahoma\"/></td><td class=\"cell\"><font face=\"Tahoma\"/></td><td class=\"cell\"><font face=\"Tahoma\"/></td><td class=\"cell\"><font face=\"Tahoma\"/></td><td class=\"cell\"><font face=\"Tahoma\"/></td>\n</tr><tr class=\"rowContent\">\n<td class=\"cellbuoi\"><font face=\"Tahoma\">15</font></td><td class=\"cell\"><font face=\"Tahoma\"/></td><td class=\"cell\"><font face=\"Tahoma\"/></td><td class=\"cell\"><font face=\"Tahoma\"/></td><td class=\"cell\"><font face=\"Tahoma\"/></td><td class=\"cell\"><font face=\"Tahoma\"/></td><td class=\"cell\"><font face=\"Tahoma\"/></td><td class=\"cell\"><font face=\"Tahoma\"/></td>\n</tr><tr class=\"rowContent\">\n<td class=\"cellbuoi\"><font face=\"Tahoma\">16</font></td><td class=\"cell\"><font face=\"Tahoma\"/></td><td class=\"cell\"><font face=\"Tahoma\"/></td><td class=\"cell\"><font face=\"Tahoma\"/></td><td class=\"cell\"><font face=\"Tahoma\"/></td><td class=\"cell\"><font face=\"Tahoma\"/></td><td class=\"cell\"><font face=\"Tahoma\"/></td><td class=\"cell\"><font face=\"Tahoma\"/></td>\n</tr>\n</table>"
     },
     "execution_count": 261,
     "metadata": {},
     "output_type": "execute_result"
    },
    {
     "name": "stdout",
     "output_type": "stream",
     "text": [
      "time: 64.3 ms (started: 2021-09-28 09:07:21 +07:00)\n"
     ]
    }
   ],
   "source": [
    "soup = BeautifulSoup(response.content, 'xml')\n",
    "# soup.select('/html/body/form/div[3]/div[4]/table/tbody/tr/td[2]/select/option[5]')\n",
    "table = soup.find('table', id='ThoiKhoaBieu1_tbTKBTheoTuan')\n",
    "table"
   ],
   "metadata": {
    "collapsed": false,
    "pycharm": {
     "name": "#%%\n"
    }
   }
  },
  {
   "cell_type": "code",
   "execution_count": 263,
   "outputs": [
    {
     "name": "stdout",
     "output_type": "stream",
     "text": [
      "time: 3.32 ms (started: 2021-09-28 09:08:13 +07:00)\n"
     ]
    }
   ],
   "source": [
    "rawheads = table.findAll('tr', {'class': 'Headerrow'})\n",
    "heads = rawheads[0].findAll('td')\n",
    "\n",
    "rawarrHead = []\n",
    "for i in range(1, len(heads)):\n",
    "    rawarrHead.append(heads[i].text)\n",
    "\n",
    "arrHeads = []\n",
    "for i in rawarrHead:\n",
    "    arrHeads.append(re.findall(r'\\((.*)\\)', i))\n",
    "\n",
    "arrHeads = np.array(arrHeads).ravel()"
   ],
   "metadata": {
    "collapsed": false,
    "pycharm": {
     "name": "#%%\n"
    }
   }
  },
  {
   "cell_type": "code",
   "execution_count": 264,
   "outputs": [
    {
     "name": "stdout",
     "output_type": "stream",
     "text": [
      "time: 6.43 ms (started: 2021-09-28 09:08:15 +07:00)\n"
     ]
    }
   ],
   "source": [
    "trs = table.findAll('tr', {'class': 'rowContent'})\n",
    "arrItems = np.zeros((len(trs), len(arrHeads)), dtype='U256')\n",
    "for tr in range(len(trs)):\n",
    "    tds = trs[tr].findAll('td', {'class': 'cell'})\n",
    "\n",
    "    for td in range(len(tds)):\n",
    "        tmp = tds[td].text\n",
    "        tmpValue = re.findall(r'>(.*)', tmp)\n",
    "        if len(tmpValue) > 0:\n",
    "            arrItems[tr, td] = tmpValue[0]"
   ],
   "metadata": {
    "collapsed": false,
    "pycharm": {
     "name": "#%%\n"
    }
   }
  },
  {
   "cell_type": "code",
   "execution_count": 265,
   "outputs": [
    {
     "data": {
      "text/plain": "                                                27/09  \\\n0                                                       \n1                                                       \n2                                                       \n3   Nhập môn Trí tuệ nhân tạo|Introduction to Arti...   \n4                                                       \n5                                                       \n6                                                       \n7                                                       \n8                                                       \n9                                                       \n10                                                      \n11                                                      \n12                                                      \n13                                                      \n14                                                      \n15                                                      \n\n                                                28/09  \\\n0                                                       \n1                                                       \n2                                                       \n3                                                       \n4                                                       \n5                                                       \n6                                                       \n7                                                       \n8                                                       \n9   Thực hành Nhập môn Xử lý ảnh số|Thực hành Intr...   \n10                                                      \n11                                                      \n12                                                      \n13                                                      \n14                                                      \n15                                                      \n\n                                                29/09 30/09  \\\n0   Nhập môn Xử lý ảnh số|Introduction to Digital ...         \n1                                                             \n2                                                             \n3                                                             \n4                                                             \n5                                                             \n6                                                             \n7                                                             \n8                                                             \n9                                                             \n10                                                            \n11                                                            \n12                                                            \n13                                                            \n14                                                            \n15                                                            \n\n                                                01/10 02/10 03/10  \n0   Xử lý dữ liệu lớn|Massive Data Processing Tech...              \n1                                                                  \n2                                                                  \n3                                                                  \n4                                                                  \n5                                                                  \n6                                                                  \n7                                                                  \n8                                                                  \n9                                                                  \n10                                                                 \n11                                                                 \n12                                                                 \n13                                                                 \n14                                                                 \n15                                                                 ",
      "text/html": "<div>\n<style scoped>\n    .dataframe tbody tr th:only-of-type {\n        vertical-align: middle;\n    }\n\n    .dataframe tbody tr th {\n        vertical-align: top;\n    }\n\n    .dataframe thead th {\n        text-align: right;\n    }\n</style>\n<table border=\"1\" class=\"dataframe\">\n  <thead>\n    <tr style=\"text-align: right;\">\n      <th></th>\n      <th>27/09</th>\n      <th>28/09</th>\n      <th>29/09</th>\n      <th>30/09</th>\n      <th>01/10</th>\n      <th>02/10</th>\n      <th>03/10</th>\n    </tr>\n  </thead>\n  <tbody>\n    <tr>\n      <th>0</th>\n      <td></td>\n      <td></td>\n      <td>Nhập môn Xử lý ảnh số|Introduction to Digital ...</td>\n      <td></td>\n      <td>Xử lý dữ liệu lớn|Massive Data Processing Tech...</td>\n      <td></td>\n      <td></td>\n    </tr>\n    <tr>\n      <th>1</th>\n      <td></td>\n      <td></td>\n      <td></td>\n      <td></td>\n      <td></td>\n      <td></td>\n      <td></td>\n    </tr>\n    <tr>\n      <th>2</th>\n      <td></td>\n      <td></td>\n      <td></td>\n      <td></td>\n      <td></td>\n      <td></td>\n      <td></td>\n    </tr>\n    <tr>\n      <th>3</th>\n      <td>Nhập môn Trí tuệ nhân tạo|Introduction to Arti...</td>\n      <td></td>\n      <td></td>\n      <td></td>\n      <td></td>\n      <td></td>\n      <td></td>\n    </tr>\n    <tr>\n      <th>4</th>\n      <td></td>\n      <td></td>\n      <td></td>\n      <td></td>\n      <td></td>\n      <td></td>\n      <td></td>\n    </tr>\n    <tr>\n      <th>5</th>\n      <td></td>\n      <td></td>\n      <td></td>\n      <td></td>\n      <td></td>\n      <td></td>\n      <td></td>\n    </tr>\n    <tr>\n      <th>6</th>\n      <td></td>\n      <td></td>\n      <td></td>\n      <td></td>\n      <td></td>\n      <td></td>\n      <td></td>\n    </tr>\n    <tr>\n      <th>7</th>\n      <td></td>\n      <td></td>\n      <td></td>\n      <td></td>\n      <td></td>\n      <td></td>\n      <td></td>\n    </tr>\n    <tr>\n      <th>8</th>\n      <td></td>\n      <td></td>\n      <td></td>\n      <td></td>\n      <td></td>\n      <td></td>\n      <td></td>\n    </tr>\n    <tr>\n      <th>9</th>\n      <td></td>\n      <td>Thực hành Nhập môn Xử lý ảnh số|Thực hành Intr...</td>\n      <td></td>\n      <td></td>\n      <td></td>\n      <td></td>\n      <td></td>\n    </tr>\n    <tr>\n      <th>10</th>\n      <td></td>\n      <td></td>\n      <td></td>\n      <td></td>\n      <td></td>\n      <td></td>\n      <td></td>\n    </tr>\n    <tr>\n      <th>11</th>\n      <td></td>\n      <td></td>\n      <td></td>\n      <td></td>\n      <td></td>\n      <td></td>\n      <td></td>\n    </tr>\n    <tr>\n      <th>12</th>\n      <td></td>\n      <td></td>\n      <td></td>\n      <td></td>\n      <td></td>\n      <td></td>\n      <td></td>\n    </tr>\n    <tr>\n      <th>13</th>\n      <td></td>\n      <td></td>\n      <td></td>\n      <td></td>\n      <td></td>\n      <td></td>\n      <td></td>\n    </tr>\n    <tr>\n      <th>14</th>\n      <td></td>\n      <td></td>\n      <td></td>\n      <td></td>\n      <td></td>\n      <td></td>\n      <td></td>\n    </tr>\n    <tr>\n      <th>15</th>\n      <td></td>\n      <td></td>\n      <td></td>\n      <td></td>\n      <td></td>\n      <td></td>\n      <td></td>\n    </tr>\n  </tbody>\n</table>\n</div>"
     },
     "execution_count": 265,
     "metadata": {},
     "output_type": "execute_result"
    },
    {
     "name": "stdout",
     "output_type": "stream",
     "text": [
      "time: 23.1 ms (started: 2021-09-28 09:08:16 +07:00)\n"
     ]
    }
   ],
   "source": [
    "dfSchedule = pd.DataFrame(arrItems, columns=arrHeads)\n",
    "dfSchedule"
   ],
   "metadata": {
    "collapsed": false,
    "pycharm": {
     "name": "#%%\n"
    }
   }
  },
  {
   "cell_type": "code",
   "execution_count": 266,
   "outputs": [
    {
     "name": "stdout",
     "output_type": "stream",
     "text": [
      "time: 6.88 ms (started: 2021-09-28 09:08:20 +07:00)\n"
     ]
    }
   ],
   "source": [
    "with open('NguyenQuocCuong-518H0003/Output/BSSchedule.txt', 'w+') as f:\n",
    "    for i in dfSchedule.columns:\n",
    "        f.write(f'Ngay thang: {i} \\n')\n",
    "        if (dfSchedule[i].sum() == ''):\n",
    "            f.write(f'Lich cong tac: Khong co \\n')\n",
    "        else:\n",
    "            for j in dfSchedule[i]:\n",
    "                if (j != ''):\n",
    "                    f.write(f'Lich cong tac: {j} \\n')\n",
    "        f.write(f'\\n')"
   ],
   "metadata": {
    "collapsed": false,
    "pycharm": {
     "name": "#%%\n"
    }
   }
  }
 ],
 "metadata": {
  "kernelspec": {
   "display_name": "Python 3",
   "language": "python",
   "name": "python3"
  },
  "language_info": {
   "codemirror_mode": {
    "name": "ipython",
    "version": 2
   },
   "file_extension": ".py",
   "mimetype": "text/x-python",
   "name": "python",
   "nbconvert_exporter": "python",
   "pygments_lexer": "ipython2",
   "version": "2.7.6"
  }
 },
 "nbformat": 4,
 "nbformat_minor": 0
}