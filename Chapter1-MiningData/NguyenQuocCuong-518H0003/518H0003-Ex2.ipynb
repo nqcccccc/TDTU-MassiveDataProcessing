{
 "cells": [
  {
   "cell_type": "code",
   "execution_count": 100,
   "metadata": {
    "collapsed": true,
    "pycharm": {
     "name": "#%%\n"
    }
   },
   "outputs": [
    {
     "name": "stdout",
     "output_type": "stream",
     "text": [
      "The autotime extension is already loaded. To reload it, use:\n",
      "  %reload_ext autotime\n",
      "time: 1.78 ms (started: 2021-09-27 21:31:46 +07:00)\n"
     ]
    }
   ],
   "source": [
    "%load_ext autotime\n",
    "\n",
    "from selenium import webdriver\n",
    "from selenium.webdriver.common.keys import Keys\n",
    "from selenium.webdriver.support.select import Select\n",
    "import time\n",
    "\n",
    "import pandas as pd\n",
    "import numpy as np\n",
    "\n",
    "import re"
   ]
  },
  {
   "cell_type": "code",
   "execution_count": 101,
   "outputs": [
    {
     "name": "stdout",
     "output_type": "stream",
     "text": [
      "time: 360 µs (started: 2021-09-27 21:31:46 +07:00)\n"
     ]
    }
   ],
   "source": [
    "DRIVER_PATH = '/Users/quoccuongnguyen/Documents/TDTU/YEAR-4/HK1-2021-2022/Massive-Data/Code/Vendor/chromedriver'\n",
    "username = '518H0003'\n",
    "password = ''"
   ],
   "metadata": {
    "collapsed": false,
    "pycharm": {
     "name": "#%%\n"
    }
   }
  },
  {
   "cell_type": "code",
   "execution_count": 99,
   "outputs": [
    {
     "name": "stdout",
     "output_type": "stream",
     "text": [
      "Nhập môn Xử lý ảnh số |Introduction to Digital Image Processing (505060 - Nhóm|Groups: 3) Phòng|Room: HOCTRUCTUYEN\n",
      "Xử lý dữ liệu lớn |Massive Data Processing Techniques in Data Science (504048 - Nhóm|Groups: 5) Phòng|Room: HOCTRUCTUYEN\n",
      "Nhập môn Trí tuệ nhân tạo |Introduction to Artificial Intelligence (503043 - Nhóm|Groups: 3) Phòng|Room: HOCTRUCTUYEN\n",
      "Thực hành Nhập môn Xử lý ảnh số |Thực hành Introduction to Digital Image Processing (505060 - Nhóm|Groups: 3 - Tổ|Sub-group: 1 ) Phòng|Room: HOCTRUCTUYEN\n",
      "time: 15.9 s (started: 2021-09-27 21:31:30 +07:00)\n"
     ]
    }
   ],
   "source": [
    "\n",
    "driver = webdriver.Chrome(executable_path=DRIVER_PATH)\n",
    "driver.get('https://stdportal.tdtu.edu.vn')\n",
    "\n",
    "#login\n",
    "driver.find_element_by_id('txtUser').send_keys(username)\n",
    "driver.find_element_by_id('txtPass').send_keys(password)\n",
    "driver.find_element_by_id('btnLogIn').click()\n",
    "\n",
    "# access schedule\n",
    "time.sleep(5)\n",
    "driver.get('https://lichhoc-lichthi.tdtu.edu.vn/')\n",
    "\n",
    "#select semester\n",
    "dropdown = Select(driver.find_element_by_id('ThoiKhoaBieu1_cboHocKy'))\n",
    "\n",
    "dropdown.select_by_visible_text('HK1/2021-2022')\n",
    "time.sleep(2)\n",
    "\n",
    "#count rows, cols of schedule table\n",
    "rows = len(driver.find_elements_by_xpath('/html/body/form/div[3]/div[6]/div[2]/div[3]/table/tbody/tr'))\n",
    "cols = len(driver.find_elements_by_xpath('/html/body/form/div[3]/div[6]/div[2]/div[3]/table/tbody/tr[1]/td'))\n",
    "\n",
    "#get heads of table\n",
    "heads = driver.find_elements_by_xpath('/html/body/form/div[3]/div[6]/div[2]/div[3]/table/tbody/tr[1]/td')\n",
    "arrHeads = []\n",
    "for h in range(2, len(heads) + 1):\n",
    "    arrHeads.append(re.findall(r'\\((.*)\\)', driver.find_element_by_xpath(\n",
    "        '/html/body/form/div[3]/div[6]/div[2]/div[3]/table/tbody/tr[1]/td[' + str(h) + ']').text))\n",
    "\n",
    "arrHeads = np.array(arrHeads).ravel()\n",
    "\n",
    "# Crawl all subjects in schedule\n",
    "arrItems = np.zeros((rows - 1, cols - 1), dtype='U256')\n",
    "for r in range(2, rows):\n",
    "    for c in range(2, cols):\n",
    "        ptr = '/html/body/form/div[3]/div[6]/div[2]/div[3]/table/tbody/tr[' + str(r) + ']/td[' + str(c) + ']/table'\n",
    "        if len(driver.find_elements_by_xpath(ptr)) > 0:\n",
    "            crawl = driver.find_element_by_xpath(\n",
    "                '/html/body/form/div[3]/div[6]/div[2]/div[3]/table/tbody/tr[' + str(r) + ']/td[' + str(\n",
    "                    c) + ']/table/tbody/tr/td').text\n",
    "            crawl = crawl.replace('\\n', ' ')\n",
    "            arrItems[r - 2][c - 2] = crawl\n",
    "            print(crawl)\n",
    "\n",
    "driver.quit()"
   ],
   "metadata": {
    "collapsed": false,
    "pycharm": {
     "name": "#%%\n"
    }
   }
  },
  {
   "cell_type": "code",
   "execution_count": 97,
   "outputs": [
    {
     "data": {
      "text/plain": "                                                27/09  \\\n0                                                       \n1                                                       \n2                                                       \n3   Nhập môn Trí tuệ nhân tạo |Introduction to Art...   \n4                                                       \n5                                                       \n6                                                       \n7                                                       \n8                                                       \n9                                                       \n10                                                      \n11                                                      \n12                                                      \n13                                                      \n14                                                      \n15                                                      \n\n                                                28/09  \\\n0                                                       \n1                                                       \n2                                                       \n3                                                       \n4                                                       \n5                                                       \n6                                                       \n7                                                       \n8                                                       \n9   Thực hành Nhập môn Xử lý ảnh số |Thực hành Int...   \n10                                                      \n11                                                      \n12                                                      \n13                                                      \n14                                                      \n15                                                      \n\n                                                29/09 30/09  \\\n0   Nhập môn Xử lý ảnh số |Introduction to Digital...         \n1                                                             \n2                                                             \n3                                                             \n4                                                             \n5                                                             \n6                                                             \n7                                                             \n8                                                             \n9                                                             \n10                                                            \n11                                                            \n12                                                            \n13                                                            \n14                                                            \n15                                                            \n\n                                                01/10 02/10 03/10  \n0   Xử lý dữ liệu lớn |Massive Data Processing Tec...              \n1                                                                  \n2                                                                  \n3                                                                  \n4                                                                  \n5                                                                  \n6                                                                  \n7                                                                  \n8                                                                  \n9                                                                  \n10                                                                 \n11                                                                 \n12                                                                 \n13                                                                 \n14                                                                 \n15                                                                 ",
      "text/html": "<div>\n<style scoped>\n    .dataframe tbody tr th:only-of-type {\n        vertical-align: middle;\n    }\n\n    .dataframe tbody tr th {\n        vertical-align: top;\n    }\n\n    .dataframe thead th {\n        text-align: right;\n    }\n</style>\n<table border=\"1\" class=\"dataframe\">\n  <thead>\n    <tr style=\"text-align: right;\">\n      <th></th>\n      <th>27/09</th>\n      <th>28/09</th>\n      <th>29/09</th>\n      <th>30/09</th>\n      <th>01/10</th>\n      <th>02/10</th>\n      <th>03/10</th>\n    </tr>\n  </thead>\n  <tbody>\n    <tr>\n      <th>0</th>\n      <td></td>\n      <td></td>\n      <td>Nhập môn Xử lý ảnh số |Introduction to Digital...</td>\n      <td></td>\n      <td>Xử lý dữ liệu lớn |Massive Data Processing Tec...</td>\n      <td></td>\n      <td></td>\n    </tr>\n    <tr>\n      <th>1</th>\n      <td></td>\n      <td></td>\n      <td></td>\n      <td></td>\n      <td></td>\n      <td></td>\n      <td></td>\n    </tr>\n    <tr>\n      <th>2</th>\n      <td></td>\n      <td></td>\n      <td></td>\n      <td></td>\n      <td></td>\n      <td></td>\n      <td></td>\n    </tr>\n    <tr>\n      <th>3</th>\n      <td>Nhập môn Trí tuệ nhân tạo |Introduction to Art...</td>\n      <td></td>\n      <td></td>\n      <td></td>\n      <td></td>\n      <td></td>\n      <td></td>\n    </tr>\n    <tr>\n      <th>4</th>\n      <td></td>\n      <td></td>\n      <td></td>\n      <td></td>\n      <td></td>\n      <td></td>\n      <td></td>\n    </tr>\n    <tr>\n      <th>5</th>\n      <td></td>\n      <td></td>\n      <td></td>\n      <td></td>\n      <td></td>\n      <td></td>\n      <td></td>\n    </tr>\n    <tr>\n      <th>6</th>\n      <td></td>\n      <td></td>\n      <td></td>\n      <td></td>\n      <td></td>\n      <td></td>\n      <td></td>\n    </tr>\n    <tr>\n      <th>7</th>\n      <td></td>\n      <td></td>\n      <td></td>\n      <td></td>\n      <td></td>\n      <td></td>\n      <td></td>\n    </tr>\n    <tr>\n      <th>8</th>\n      <td></td>\n      <td></td>\n      <td></td>\n      <td></td>\n      <td></td>\n      <td></td>\n      <td></td>\n    </tr>\n    <tr>\n      <th>9</th>\n      <td></td>\n      <td>Thực hành Nhập môn Xử lý ảnh số |Thực hành Int...</td>\n      <td></td>\n      <td></td>\n      <td></td>\n      <td></td>\n      <td></td>\n    </tr>\n    <tr>\n      <th>10</th>\n      <td></td>\n      <td></td>\n      <td></td>\n      <td></td>\n      <td></td>\n      <td></td>\n      <td></td>\n    </tr>\n    <tr>\n      <th>11</th>\n      <td></td>\n      <td></td>\n      <td></td>\n      <td></td>\n      <td></td>\n      <td></td>\n      <td></td>\n    </tr>\n    <tr>\n      <th>12</th>\n      <td></td>\n      <td></td>\n      <td></td>\n      <td></td>\n      <td></td>\n      <td></td>\n      <td></td>\n    </tr>\n    <tr>\n      <th>13</th>\n      <td></td>\n      <td></td>\n      <td></td>\n      <td></td>\n      <td></td>\n      <td></td>\n      <td></td>\n    </tr>\n    <tr>\n      <th>14</th>\n      <td></td>\n      <td></td>\n      <td></td>\n      <td></td>\n      <td></td>\n      <td></td>\n      <td></td>\n    </tr>\n    <tr>\n      <th>15</th>\n      <td></td>\n      <td></td>\n      <td></td>\n      <td></td>\n      <td></td>\n      <td></td>\n      <td></td>\n    </tr>\n  </tbody>\n</table>\n</div>"
     },
     "execution_count": 97,
     "metadata": {},
     "output_type": "execute_result"
    },
    {
     "name": "stdout",
     "output_type": "stream",
     "text": [
      "time: 30 ms (started: 2021-09-27 21:21:33 +07:00)\n"
     ]
    }
   ],
   "source": [
    "dfSchedule = pd.DataFrame(arrItems, columns=arrHeads)\n",
    "dfSchedule"
   ],
   "metadata": {
    "collapsed": false,
    "pycharm": {
     "name": "#%%\n"
    }
   }
  },
  {
   "cell_type": "code",
   "execution_count": 98,
   "outputs": [
    {
     "name": "stdout",
     "output_type": "stream",
     "text": [
      "time: 9.89 ms (started: 2021-09-27 21:21:38 +07:00)\n"
     ]
    }
   ],
   "source": [
    "with open('Output/SeleniumSchedule.txt', 'w+') as f:\n",
    "    for i in dfSchedule.columns:\n",
    "        f.write(f'Ngay thang: {i} \\n')\n",
    "        if (dfSchedule[i].sum() == ''):\n",
    "            f.write(f'Lich cong tac: Khong co \\n')\n",
    "        else:\n",
    "            for j in dfSchedule[i]:\n",
    "                if (j != ''):\n",
    "                    f.write(f'Lich cong tac: {j} \\n')\n",
    "        f.write(f'\\n')"
   ],
   "metadata": {
    "collapsed": false,
    "pycharm": {
     "name": "#%%\n"
    }
   }
  },
  {
   "cell_type": "code",
   "execution_count": null,
   "outputs": [],
   "source": [],
   "metadata": {
    "collapsed": false,
    "pycharm": {
     "name": "#%%\n"
    }
   }
  }
 ],
 "metadata": {
  "kernelspec": {
   "display_name": "Python 3",
   "language": "python",
   "name": "python3"
  },
  "language_info": {
   "codemirror_mode": {
    "name": "ipython",
    "version": 2
   },
   "file_extension": ".py",
   "mimetype": "text/x-python",
   "name": "python",
   "nbconvert_exporter": "python",
   "pygments_lexer": "ipython2",
   "version": "2.7.6"
  }
 },
 "nbformat": 4,
 "nbformat_minor": 0
}