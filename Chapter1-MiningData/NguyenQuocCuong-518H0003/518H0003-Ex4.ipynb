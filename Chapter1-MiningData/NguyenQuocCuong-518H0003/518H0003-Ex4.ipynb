{
 "cells": [
  {
   "cell_type": "code",
   "execution_count": 2,
   "metadata": {
    "collapsed": true
   },
   "outputs": [
    {
     "name": "stdout",
     "output_type": "stream",
     "text": [
      "time: 809 ms (started: 2021-09-29 09:30:06 +07:00)\n"
     ]
    }
   ],
   "source": [
    "%load_ext autotime\n",
    "import re\n",
    "\n",
    "import numpy as np\n",
    "import pandas as pd\n",
    "\n",
    "import sqlalchemy as sal"
   ]
  },
  {
   "cell_type": "code",
   "execution_count": 3,
   "outputs": [
    {
     "name": "stdout",
     "output_type": "stream",
     "text": [
      "time: 23.7 ms (started: 2021-09-29 09:30:08 +07:00)\n"
     ]
    }
   ],
   "source": [
    "engine = sal.create_engine(\n",
    "    'sqlite:////Users/quoccuongnguyen/Documents/TDTU/YEAR-4/HK1-2021-2022/Massive-Data/Code/Database-SQLLite/518H0003-Ex4.db',\n",
    "    echo=True)\n",
    "conn = engine.connect()"
   ],
   "metadata": {
    "collapsed": false,
    "pycharm": {
     "name": "#%%\n"
    }
   }
  },
  {
   "cell_type": "code",
   "execution_count": 4,
   "outputs": [
    {
     "name": "stdout",
     "output_type": "stream",
     "text": [
      "2021-09-29 09:30:10,267 INFO sqlalchemy.engine.Engine BEGIN (implicit)\n",
      "2021-09-29 09:30:10,268 INFO sqlalchemy.engine.Engine PRAGMA main.table_info(\"TAIXE\")\n",
      "2021-09-29 09:30:10,269 INFO sqlalchemy.engine.Engine [raw sql] ()\n",
      "2021-09-29 09:30:10,272 INFO sqlalchemy.engine.Engine PRAGMA main.table_info(\"KH\")\n",
      "2021-09-29 09:30:10,273 INFO sqlalchemy.engine.Engine [raw sql] ()\n",
      "2021-09-29 09:30:10,274 INFO sqlalchemy.engine.Engine PRAGMA main.table_info(\"DATXE\")\n",
      "2021-09-29 09:30:10,275 INFO sqlalchemy.engine.Engine [raw sql] ()\n",
      "2021-09-29 09:30:10,277 INFO sqlalchemy.engine.Engine PRAGMA main.table_info(\"DOIXE\")\n",
      "2021-09-29 09:30:10,278 INFO sqlalchemy.engine.Engine [raw sql] ()\n",
      "2021-09-29 09:30:10,280 INFO sqlalchemy.engine.Engine PRAGMA main.table_info(\"CHUYENDI\")\n",
      "2021-09-29 09:30:10,282 INFO sqlalchemy.engine.Engine [raw sql] ()\n",
      "2021-09-29 09:30:10,284 INFO sqlalchemy.engine.Engine COMMIT\n",
      "time: 28.6 ms (started: 2021-09-29 09:30:10 +07:00)\n"
     ]
    }
   ],
   "source": [
    "# Q 1\n",
    "\n",
    "metadata = sal.MetaData()\n",
    "taixe = sal.Table('TAIXE', metadata,\n",
    "                  sal.Column('MATX', sal.String, primary_key=True),\n",
    "                  sal.Column('HOTEN', sal.String),\n",
    "                  sal.Column('SDT', sal.String),\n",
    "                  sal.Column('DIEMTB', sal.Float),\n",
    "                  sal.Column('LXE', sal.String))\n",
    "\n",
    "khachhang = sal.Table('KH', metadata,\n",
    "                      sal.Column('MAKH', sal.String, primary_key=True),\n",
    "                      sal.Column('HOTEN', sal.String),\n",
    "                      sal.Column('SDT', sal.String))\n",
    "\n",
    "datxe = sal.Table('DATXE', metadata,\n",
    "                  sal.Column('MADX', sal.String, primary_key=True),\n",
    "                  sal.Column('MAKH', None, sal.ForeignKey('KH.MAKH')),\n",
    "                  sal.Column('DDI', sal.String),\n",
    "                  sal.Column('DDEN', sal.String),\n",
    "                  sal.Column('LXE', sal.String),\n",
    "                  sal.Column('KC', sal.String),\n",
    "                  sal.Column('GIA', sal.Integer),\n",
    "                  sal.Column('TGDAT', sal.String))\n",
    "\n",
    "doixe = sal.Table('DOIXE', metadata,\n",
    "                  sal.Column('MADX', None, sal.ForeignKey('DATXE.MADX'), primary_key=True),\n",
    "                  sal.Column('MATX', None, sal.ForeignKey('TAIXE.MATX'), primary_key=True),\n",
    "                  sal.Column('TGBDAU', sal.String),\n",
    "                  sal.Column('TGKTHUC', sal.String),\n",
    "                  sal.Column('KETQUA', sal.String))\n",
    "\n",
    "chuyendi = sal.Table('CHUYENDI', metadata,\n",
    "                     sal.Column('MACD', sal.String, primary_key=True),\n",
    "                     sal.Column('MADX', None, sal.ForeignKey('DOIXE.MADX')),\n",
    "                     sal.Column('MATX', None, sal.ForeignKey('DOIXE.MATX')),\n",
    "                     sal.Column('TGDI', sal.String),\n",
    "                     sal.Column('TGDEN', sal.String),\n",
    "                     sal.Column('GIA', sal.Integer),\n",
    "                     sal.Column('HTTTOAN', sal.String),\n",
    "                     sal.Column('DIEM', sal.Float))\n",
    "\n",
    "metadata.create_all(engine)"
   ],
   "metadata": {
    "collapsed": false,
    "pycharm": {
     "name": "#%%\n"
    }
   }
  },
  {
   "cell_type": "code",
   "execution_count": 5,
   "outputs": [
    {
     "name": "stdout",
     "output_type": "stream",
     "text": [
      "2021-09-29 09:30:12,399 INFO sqlalchemy.engine.Engine SELECT \"CHUYENDI\".\"MACD\", \"CHUYENDI\".\"MADX\", \"CHUYENDI\".\"MATX\", \"CHUYENDI\".\"TGDI\", \"CHUYENDI\".\"TGDEN\", \"CHUYENDI\".\"GIA\", \"CHUYENDI\".\"HTTTOAN\", \"CHUYENDI\".\"DIEM\" \n",
      "FROM \"CHUYENDI\" \n",
      "WHERE \"CHUYENDI\".\"DIEM\" >= ?\n",
      "2021-09-29 09:30:12,400 INFO sqlalchemy.engine.Engine [generated in 0.00165s] (4.5,)\n",
      "MACD: CD001 DIEM: 4.5\n",
      "time: 12.3 ms (started: 2021-09-29 09:30:12 +07:00)\n"
     ]
    }
   ],
   "source": [
    "# Q2.1\n",
    "s = sal.select(chuyendi).where(chuyendi.c.DIEM >= 4.5)\n",
    "for row in conn.execute(s):\n",
    "    print('MACD:', row['MACD'], 'DIEM:', row['DIEM'])"
   ],
   "metadata": {
    "collapsed": false,
    "pycharm": {
     "name": "#%%\n"
    }
   }
  },
  {
   "cell_type": "code",
   "execution_count": 6,
   "outputs": [
    {
     "name": "stdout",
     "output_type": "stream",
     "text": [
      "2021-09-29 09:30:13,198 INFO sqlalchemy.engine.Engine SELECT \"KH\".\"MAKH\", \"KH\".\"HOTEN\", \"KH\".\"SDT\", \"DATXE\".\"MADX\", \"DATXE\".\"MAKH\" AS \"MAKH_1\", \"DATXE\".\"DDI\", \"DATXE\".\"DDEN\", \"DATXE\".\"LXE\", \"DATXE\".\"KC\", \"DATXE\".\"GIA\", \"DATXE\".\"TGDAT\" \n",
      "FROM \"KH\", \"DATXE\" \n",
      "WHERE \"KH\".\"MAKH\" = \"DATXE\".\"MAKH\" AND \"KH\".\"HOTEN\" = ?\n",
      "2021-09-29 09:30:13,200 INFO sqlalchemy.engine.Engine [generated in 0.00178s] ('Nguyen Van A',)\n",
      "MADX: DX001- DDI: HCM - DDEN: HCm - TGDAT: 10:00\n",
      "time: 9.5 ms (started: 2021-09-29 09:30:13 +07:00)\n"
     ]
    }
   ],
   "source": [
    "# Q2.2\n",
    "s = sal.select(khachhang, datxe).where(sal.and_(khachhang.c.MAKH == datxe.c.MAKH, khachhang.c.HOTEN == 'Nguyen Van A'))\n",
    "for row in conn.execute(s):\n",
    "    print('MADX: ' + row['MADX'] + '- DDI: ' + row['DDI'] + ' - DDEN: ' + row['DDEN'] + ' - TGDAT: ' + row['TGDAT'])"
   ],
   "metadata": {
    "collapsed": false,
    "pycharm": {
     "name": "#%%\n"
    }
   }
  },
  {
   "cell_type": "code",
   "execution_count": 7,
   "outputs": [
    {
     "name": "stdout",
     "output_type": "stream",
     "text": [
      "2021-09-29 09:30:13,873 INFO sqlalchemy.engine.Engine SELECT \"TAIXE\".\"MATX\", \"TAIXE\".\"HOTEN\", \"TAIXE\".\"SDT\", \"TAIXE\".\"DIEMTB\", \"TAIXE\".\"LXE\", \"DOIXE\".\"MADX\", \"DOIXE\".\"MATX\" AS \"MATX_1\", \"DOIXE\".\"TGBDAU\", \"DOIXE\".\"TGKTHUC\", \"DOIXE\".\"KETQUA\" \n",
      "FROM \"TAIXE\", \"DOIXE\" \n",
      "WHERE \"DOIXE\".\"KETQUA\" = ? AND (\"DOIXE\".\"MATX\" = \"TAIXE\".\"MATX\") = ?\n",
      "2021-09-29 09:30:13,875 INFO sqlalchemy.engine.Engine [generated in 0.00185s] ('HUY', 'TX005')\n",
      "time: 6.81 ms (started: 2021-09-29 09:30:13 +07:00)\n"
     ]
    }
   ],
   "source": [
    "# Q2.3\n",
    "s = sal.select(taixe, doixe).where(sal.and_(doixe.c.KETQUA == 'HUY', (doixe.c.MATX == taixe.c.MATX) == 'TX005'))\n",
    "for row in conn.execute(s):\n",
    "    print('MADX:' + row['MADX'] + ' - MATX:' + row['MATX'] + ' - HOTEN:' + row['HOTEN'] + '- SDT:' + row['SDT']\n",
    "          + ' - TGBDAU:' + row['TGBDAU'] + ' - TGKTHUC:' + row['TGKTHUC'] + ' - KQUA:' + row['KQUA'])"
   ],
   "metadata": {
    "collapsed": false,
    "pycharm": {
     "name": "#%%\n"
    }
   }
  },
  {
   "cell_type": "code",
   "execution_count": null,
   "outputs": [],
   "source": [
    "# Q2.4\n",
    "s = sal.select(khachhang,datxe,doixe,chuyendi,sal.func.count(chuyendi.c.MACD).label('SLCD').groupby(khachhang.c.MAKH)\\\n",
    "               .order_by('MAKH',sal.asc('SLCD'))).where()\n"
   ],
   "metadata": {
    "collapsed": false,
    "pycharm": {
     "name": "#%%\n"
    }
   }
  }
 ],
 "metadata": {
  "kernelspec": {
   "display_name": "Python 3",
   "language": "python",
   "name": "python3"
  },
  "language_info": {
   "codemirror_mode": {
    "name": "ipython",
    "version": 2
   },
   "file_extension": ".py",
   "mimetype": "text/x-python",
   "name": "python",
   "nbconvert_exporter": "python",
   "pygments_lexer": "ipython2",
   "version": "2.7.6"
  }
 },
 "nbformat": 4,
 "nbformat_minor": 0
}