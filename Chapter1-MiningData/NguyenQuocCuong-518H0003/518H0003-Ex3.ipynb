{
 "cells": [
  {
   "cell_type": "code",
   "execution_count": 1,
   "outputs": [
    {
     "name": "stdout",
     "output_type": "stream",
     "text": [
      "time: 1.32 s (started: 2021-09-28 12:55:40 +07:00)\n"
     ]
    }
   ],
   "source": [
    "%load_ext autotime\n",
    "\n",
    "import numpy as np\n",
    "import pandas as pd\n",
    "\n",
    "import scrapy\n",
    "from scrapy.crawler import CrawlerRunner\n",
    "\n",
    "from crochet import setup, wait_for\n",
    "\n",
    "import requests\n",
    "\n",
    "import json\n",
    "import re\n",
    "setup()"
   ],
   "metadata": {
    "collapsed": false,
    "pycharm": {
     "name": "#%%\n"
    }
   }
  },
  {
   "cell_type": "code",
   "execution_count": 5,
   "outputs": [
    {
     "name": "stdout",
     "output_type": "stream",
     "text": [
      "time: 4.08 ms (started: 2021-09-28 12:56:20 +07:00)\n"
     ]
    }
   ],
   "source": [
    "class ScheduleSpider(scrapy.Spider):\n",
    "    name = 'schedule'\n",
    "\n",
    "    def start_requests(self):\n",
    "        username = '518H0003'\n",
    "        passw = ''\n",
    "\n",
    "        session = requests.Session()\n",
    "        response = session.post(\"https://stdportal.tdtu.edu.vn/Login/SignIn?ReturnURL=https://stdportal.tdtu.edu.vn/\",\n",
    "                                data={'user': username, 'pass': passw}, cookies=session.cookies.get_dict())\n",
    "\n",
    "        ssoUrl=json.loads(response.text)['url']\n",
    "        token = re.findall('(?<=Token=)([^&]*)(?=&)?',ssoUrl)\n",
    "\n",
    "        urls = [\n",
    "            'http://sso.tdt.edu.vn/Authenticate.aspx?ReturnUrl=https://lichhoc-lichthi.tdtu.edu.vn/tkb2.aspx&Token='+token[0]\n",
    "        ]\n",
    "\n",
    "        for url in urls:\n",
    "            yield scrapy.Request(url=url, callback=self.parse)\n",
    "\n",
    "    def parse(self, response):\n",
    "        #get headrow\n",
    "        cols = len(response.xpath('//tr[contains(@class,\\'Headerrow\\')]/td'))\n",
    "        rows = len(response.xpath('//tr[contains(@class,\\'rowContent\\')]'))\n",
    "\n",
    "        arrHeads = []\n",
    "        for head in response.xpath('//tr[contains(@class,\\'Headerrow\\')]/td'):\n",
    "            h = head.xpath('text()').extract()\n",
    "            tmp = re.findall(r'\\((.*)\\)',h[1])\n",
    "            if len(tmp) > 0:\n",
    "                arrHeads.append(tmp[0])\n",
    "\n",
    "        arrHeads = np.array(arrHeads).ravel()\n",
    "\n",
    "        #crawl item\n",
    "        arrItems = np.zeros((rows, cols - 1), dtype='U256')\n",
    "\n",
    "        for r in range(1,rows):\n",
    "            for c in range(1,cols):\n",
    "                ptr = '//tr[contains(@class,\\'rowContent\\')]['+str(r)+']/td['+str(c)+']/table'\n",
    "                if(len(response.xpath(ptr))>0):\n",
    "                    crawl = response.xpath(ptr+'/tr/td/b/text()').extract()\n",
    "                    arrItems[r - 1][c - 2] = crawl[0]\n",
    "\n",
    "        dfSchedule = pd.DataFrame(arrItems, columns=arrHeads)\n",
    "\n",
    "        with open('Output/ScrapySchedule.txt', 'w+') as f:\n",
    "            for i in dfSchedule.columns:\n",
    "                f.write(f'Ngay thang: {i} \\n')\n",
    "                if (dfSchedule[i].sum() == ''):\n",
    "                    f.write(f'Lich cong tac: Khong co \\n')\n",
    "                else:\n",
    "                    for j in dfSchedule[i]:\n",
    "                        if (j != ''):\n",
    "                            f.write(f'Lich cong tac: {j} \\n')\n",
    "                f.write(f'\\n')"
   ],
   "metadata": {
    "collapsed": false,
    "pycharm": {
     "name": "#%%\n"
    }
   }
  },
  {
   "cell_type": "code",
   "execution_count": 3,
   "outputs": [
    {
     "name": "stdout",
     "output_type": "stream",
     "text": [
      "time: 1.04 ms (started: 2021-09-28 12:55:44 +07:00)\n"
     ]
    }
   ],
   "source": [
    "@wait_for(30)\n",
    "def run_spider():\n",
    "    crawler = CrawlerRunner({\n",
    "        'USER_AGENT': 'Mozilla/4.0 (compatible; MSIE 7.0; Windows NT 5.1)'\n",
    "    })\n",
    "    d = crawler.crawl(ScheduleSpider)\n",
    "    return d"
   ],
   "metadata": {
    "collapsed": false,
    "pycharm": {
     "name": "#%%\n"
    }
   }
  },
  {
   "cell_type": "code",
   "execution_count": 4,
   "outputs": [
    {
     "name": "stdout",
     "output_type": "stream",
     "text": [
      "time: 2.53 s (started: 2021-09-28 12:55:46 +07:00)\n"
     ]
    }
   ],
   "source": [
    "run_spider()\n",
    "\n"
   ],
   "metadata": {
    "collapsed": false,
    "pycharm": {
     "name": "#%%\n"
    }
   }
  },
  {
   "cell_type": "code",
   "execution_count": null,
   "outputs": [],
   "source": [],
   "metadata": {
    "collapsed": false,
    "pycharm": {
     "name": "#%%\n"
    }
   }
  }
 ],
 "metadata": {
  "kernelspec": {
   "display_name": "Python 3",
   "language": "python",
   "name": "python3"
  },
  "language_info": {
   "codemirror_mode": {
    "name": "ipython",
    "version": 2
   },
   "file_extension": ".py",
   "mimetype": "text/x-python",
   "name": "python",
   "nbconvert_exporter": "python",
   "pygments_lexer": "ipython2",
   "version": "2.7.6"
  }
 },
 "nbformat": 4,
 "nbformat_minor": 0
}