{
 "cells": [
  {
   "cell_type": "code",
   "execution_count": 1,
   "metadata": {
    "collapsed": true
   },
   "outputs": [],
   "source": [
    "import numpy as np\n",
    "import pandas as pd\n",
    "import json\n",
    "import os"
   ]
  },
  {
   "cell_type": "code",
   "execution_count": 2,
   "outputs": [],
   "source": [
    "# Ex1\n",
    "path = '/Users/quoccuongnguyen/Documents/TDTU/YEAR-4/HK1-2021-2022/Massive-Data/Code/Chapter1-MiningData/Demo'\n",
    "\n",
    "files = os.listdir(path)\n",
    "txtArr = []\n",
    "\n",
    "for i in files:\n",
    "    file = open(os.path.join(path, i), 'r')\n",
    "    file = file.read().split(' ')\n",
    "    for c in file:\n",
    "        txtArr.append(c)\n",
    "\n",
    "series = pd.Series(txtArr)\n",
    "\n",
    "with open('Output.txt', 'w+') as f:\n",
    "    for i in range(len(series.value_counts())):\n",
    "        f.write(f'{series.value_counts().index[i]}:\\t\\t{series.value_counts()[i]}\\n')"
   ],
   "metadata": {
    "collapsed": false,
    "pycharm": {
     "name": "#%%\n"
    }
   }
  },
  {
   "cell_type": "code",
   "execution_count": 3,
   "outputs": [
    {
     "name": "stdout",
     "output_type": "stream",
     "text": [
      "key1 :\t 1  is present in both side\n"
     ]
    }
   ],
   "source": [
    "# Ex2\n",
    "\n",
    "dict1 = {'key1': 1, 'key2': 3, 'key3': 2}\n",
    "dict2 = {'key1': 1, 'key2': 2}\n",
    "\n",
    "for key in dict1:\n",
    "    if (key in dict2 and dict1[key] == dict2[key]):\n",
    "        print(key, ':\\t', dict1[key], ' is present in both side')"
   ],
   "metadata": {
    "collapsed": false,
    "pycharm": {
     "name": "#%%\n"
    }
   }
  },
  {
   "cell_type": "code",
   "execution_count": 4,
   "outputs": [],
   "source": [
    "# Ex3:\n",
    "dict3 = {'students': [{'firstName': 'Nikki', 'lastName': 'Roysden'},\n",
    "                      {'firstName': 'Mervin', 'lastName': 'Friedland'},\n",
    "                      {'firstName': 'Aron ', 'lastName': 'Wilkins'}],\n",
    "         'teachers': [{'firstName': 'Amberly', 'lastName': 'Calico'},\n",
    "                      {'firstName': 'Regine', 'lastName': 'Agtarap'}]}\n",
    "\n",
    "json.dump(dict3, open('Output.json', 'w'))"
   ],
   "metadata": {
    "collapsed": false,
    "pycharm": {
     "name": "#%%\n"
    }
   }
  },
  {
   "cell_type": "code",
   "execution_count": 5,
   "outputs": [],
   "source": [
    "# Ex 4:\n",
    "def numpyCalculate(mode, a, b):\n",
    "    if (mode == 1):\n",
    "        return a * b\n",
    "    if (mode == 2):\n",
    "        return np.outer(a, b)\n",
    "    if (mode == 3):\n",
    "        return np.cross(a, b)\n",
    "    if (mode == 4):\n",
    "        return np.linalg.det(a)\n",
    "    if (mode == 5):\n",
    "        return np.linalg.norm(a)\n",
    "    if (mode == 6):\n",
    "        return a@b"
   ],
   "metadata": {
    "collapsed": false,
    "pycharm": {
     "name": "#%%\n"
    }
   }
  },
  {
   "cell_type": "code",
   "execution_count": 6,
   "outputs": [
    {
     "data": {
      "text/plain": "(array([86, 45, 63]),\n array([50, 46, 35]),\n array([[75,  6],\n        [79, 94],\n        [57, 83]]),\n array([[43, 38],\n        [62, 63],\n        [84, 94]]),\n array([[64, 50, 64],\n        [64,  0, 52],\n        [16, 87, 36]]))"
     },
     "execution_count": 6,
     "metadata": {},
     "output_type": "execute_result"
    }
   ],
   "source": [
    "v1 = np.random.randint(0,100,(3,))\n",
    "v2 = np.random.randint(0,100,(3,))\n",
    "\n",
    "m1 = np.random.randint(0,100,(3,2))\n",
    "m2 = np.random.randint(0,100,(3,2))\n",
    "m3 = np.random.randint(0,100,(3,3))\n",
    "\n",
    "\n",
    "v1,v2,m1,m2,m3"
   ],
   "metadata": {
    "collapsed": false,
    "pycharm": {
     "name": "#%%\n"
    }
   }
  },
  {
   "cell_type": "code",
   "execution_count": 7,
   "outputs": [
    {
     "name": "stdout",
     "output_type": "stream",
     "text": [
      "The multiplication of two given matrixes :  [[3225  228]\n",
      " [4898 5922]\n",
      " [4788 7802]]\n",
      "The outer product of two given vectors :  [[4300 3956 3010]\n",
      " [2250 2070 1575]\n",
      " [3150 2898 2205]]\n",
      "The cross product of two given vectors : [-1323   140  1706]\n",
      "The determinant of a given square array :  -6784.00000000002\n",
      "The determinant of an array :  115.71516754514077\n",
      "The inner product of vectors for 1-D arrays (without complex conjugation) and in higher dimension:  8575\n"
     ]
    }
   ],
   "source": [
    "print('The multiplication of two given matrixes : ',numpyCalculate(1,m1,m2))\n",
    "print('The outer product of two given vectors : ',numpyCalculate(2,v1,v2))\n",
    "print('The cross product of two given vectors :',numpyCalculate(3,v1,v2))\n",
    "print('The determinant of a given square array : ',numpyCalculate(4,m3,m3))\n",
    "print('The determinant of an array : ',numpyCalculate(5,v1,v1))\n",
    "print('The inner product of vectors for 1-D arrays (without complex conjugation) and in higher dimension: '\n",
    "      ,numpyCalculate(6,v1,v2))"
   ],
   "metadata": {
    "collapsed": false,
    "pycharm": {
     "name": "#%%\n"
    }
   }
  },
  {
   "cell_type": "code",
   "execution_count": 13,
   "outputs": [
    {
     "name": "stdout",
     "output_type": "stream",
     "text": [
      "1\n",
      "0\n",
      "1\n",
      "0\n"
     ]
    }
   ],
   "source": [
    "# Ex5\n",
    "class Stack:\n",
    "    def __init__(self):\n",
    "        self.items=[]\n",
    "    def push (self,item):\n",
    "        self.items.append(item)\n",
    "    def pop (self):\n",
    "        return self.items.pop()\n",
    "    def size(self):\n",
    "        return len(self.items)\n",
    "    def isEmpty(self):\n",
    "        return self.size == 0\n",
    "    def top(self):\n",
    "        return self.items[-1]"
   ],
   "metadata": {
    "collapsed": false,
    "pycharm": {
     "name": "#%%\n"
    }
   }
  },
  {
   "cell_type": "code",
   "execution_count": 33,
   "outputs": [
    {
     "name": "stdout",
     "output_type": "stream",
     "text": [
      "Input : 100\n",
      "Output : 1100100"
     ]
    }
   ],
   "source": [
    "st = Stack()\n",
    "a = int(input(\"Enter decimal number: \"))\n",
    "print('Input :',a)\n",
    "while a!=0:\n",
    "    b = a%2\n",
    "    a = a//2\n",
    "    st.push(b)\n",
    "\n",
    "print('Output :',end=' ')\n",
    "while st.size() != 0:\n",
    "    print(st.pop(),end='')"
   ],
   "metadata": {
    "collapsed": false,
    "pycharm": {
     "name": "#%%\n"
    }
   }
  },
  {
   "cell_type": "code",
   "execution_count": 42,
   "outputs": [
    {
     "name": "stdout",
     "output_type": "stream",
     "text": [
      "1000000010\n"
     ]
    }
   ],
   "source": [
    "#Ex 6\n",
    "\n",
    "def calBigInteger(a,b,o):\n",
    "    if o =='+':\n",
    "        return (a+b)\n",
    "    if o =='-':\n",
    "        return (a-b)\n",
    "    if o =='*':\n",
    "        return (a*b)\n",
    "    if o =='/':\n",
    "        return (a/b)\n",
    "\n",
    "\n",
    "a = int(input('Enter 1st big number:'))\n",
    "b = int(input('Enter 2nd big number:'))\n",
    "o = input('Enter operator:')\n",
    "\n"
   ],
   "metadata": {
    "collapsed": false,
    "pycharm": {
     "name": "#%%\n"
    }
   }
  },
  {
   "cell_type": "code",
   "execution_count": null,
   "outputs": [],
   "source": [],
   "metadata": {
    "collapsed": false,
    "pycharm": {
     "name": "#%%\n"
    }
   }
  }
 ],
 "metadata": {
  "kernelspec": {
   "display_name": "Python 3",
   "language": "python",
   "name": "python3"
  },
  "language_info": {
   "codemirror_mode": {
    "name": "ipython",
    "version": 2
   },
   "file_extension": ".py",
   "mimetype": "text/x-python",
   "name": "python",
   "nbconvert_exporter": "python",
   "pygments_lexer": "ipython2",
   "version": "2.7.6"
  }
 },
 "nbformat": 4,
 "nbformat_minor": 0
}