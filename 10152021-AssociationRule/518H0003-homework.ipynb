{
 "cells": [
  {
   "cell_type": "code",
   "execution_count": null,
   "outputs": [],
   "source": [],
   "metadata": {
    "collapsed": false,
    "pycharm": {
     "name": "#%%\n"
    }
   }
  },
  {
   "cell_type": "code",
   "execution_count": null,
   "outputs": [],
   "source": [
    "!pip install xlrd\n",
    "!pip install openpyxl\n",
    "!pip install mlxtend"
   ],
   "metadata": {
    "collapsed": false,
    "pycharm": {
     "name": "#%%\n"
    }
   }
  },
  {
   "cell_type": "code",
   "execution_count": null,
   "outputs": [],
   "source": [
    "\n",
    "import pandas as pd\n",
    "\n",
    "data = pd.read_excel(\"Online Retail.xlsx\")\n",
    "print(data)"
   ],
   "metadata": {
    "collapsed": false,
    "pycharm": {
     "name": "#%%\n"
    }
   }
  },
  {
   "cell_type": "code",
   "execution_count": null,
   "outputs": [],
   "source": [
    "dataOfFrance = data[data.Country=='France'].Description.values\n",
    "dataOfUK = data[data.Country=='United Kingdom'].Description.values\n",
    "dataOfPortugal = data[data.Country=='Portugal'].Description.values\n",
    "dataOfSweden = data[data.Country=='Sweden'].Description.values\n",
    "print(\"France data shape:\",dataOfFrance.shape )\n",
    "print(\"UK data shape:\",dataOfUK.shape )\n",
    "print(\"Portugal data shape:\",dataOfPortugal.shape )\n",
    "print(\"Sweden data shape:\",dataOfSweden.shape )\n"
   ],
   "metadata": {
    "collapsed": false,
    "pycharm": {
     "name": "#%%\n"
    }
   }
  },
  {
   "cell_type": "code",
   "execution_count": null,
   "outputs": [],
   "source": [
    "ar_dataOfFrance=[str(words).split() for words in dataOfFrance ]\n",
    "ar_dataOfUK=[str(words).split() for words in dataOfUK ]\n",
    "ar_dataOfPortugal=[str(words).split() for words in dataOfPortugal ]\n",
    "ar_dataOfSweden=[str(words).split() for words in dataOfSweden ]\n"
   ],
   "metadata": {
    "collapsed": false,
    "pycharm": {
     "name": "#%%\n"
    }
   }
  },
  {
   "cell_type": "code",
   "execution_count": null,
   "outputs": [],
   "source": [
    "from mlxtend.preprocessing import TransactionEncoder\n",
    "\n",
    "te = TransactionEncoder()\n",
    "ar_dataOfFrance = te.fit(ar_dataOfFrance).transform(ar_dataOfFrance)\n",
    "df_dataOfFrance = pd.DataFrame(ar_dataOfFrance, columns=te.columns_)\n",
    "\n",
    "ar_dataOfUK = te.fit(ar_dataOfUK).transform(ar_dataOfUK)\n",
    "df_dataOfUK = pd.DataFrame(ar_dataOfUK, columns=te.columns_)\n",
    "\n",
    "ar_dataOfPortugal = te.fit(ar_dataOfPortugal).transform(ar_dataOfPortugal)\n",
    "df_dataOfPortugal = pd.DataFrame(ar_dataOfPortugal, columns=te.columns_)\n",
    "\n",
    "ar_dataOfSweden = te.fit(ar_dataOfSweden).transform(ar_dataOfSweden)\n",
    "df_dataOfSweden = pd.DataFrame(ar_dataOfSweden, columns=te.columns_)\n",
    "\n",
    "\n"
   ],
   "metadata": {
    "collapsed": false,
    "pycharm": {
     "name": "#%%\n"
    }
   }
  },
  {
   "cell_type": "code",
   "execution_count": null,
   "outputs": [],
   "source": [
    "from mlxtend.frequent_patterns import apriori\n",
    "from mlxtend.frequent_patterns import association_rules\n",
    "\n",
    "temp=apriori(df_dataOfFrance, min_support=0.05)\n"
   ],
   "metadata": {
    "collapsed": false,
    "pycharm": {
     "name": "#%%\n"
    }
   }
  },
  {
   "cell_type": "code",
   "execution_count": null,
   "outputs": [],
   "source": [
    "association_rules(temp, metric='lift', min_threshold=1, support_only=False)"
   ],
   "metadata": {
    "collapsed": false,
    "pycharm": {
     "name": "#%%\n"
    }
   }
  },
  {
   "cell_type": "code",
   "execution_count": null,
   "outputs": [],
   "source": [
    "temp_1=apriori(df_dataOfUK, min_support=0.05)"
   ],
   "metadata": {
    "collapsed": false,
    "pycharm": {
     "name": "#%%\n"
    }
   }
  },
  {
   "cell_type": "code",
   "execution_count": null,
   "outputs": [],
   "source": [
    "rules=association_rules(temp_1, metric='lift', min_threshold=1, support_only=False)\n",
    "print(rules)\n",
    "rules[ (rules['confidence'] > 1.75) &\n",
    "       (rules['lift'] > 1.2) ]"
   ],
   "metadata": {
    "collapsed": false,
    "pycharm": {
     "name": "#%%\n"
    }
   }
  },
  {
   "cell_type": "code",
   "execution_count": null,
   "outputs": [],
   "source": [
    "rules=temp_2=apriori(df_dataOfPortugal, min_support=0.05)"
   ],
   "metadata": {
    "collapsed": false,
    "pycharm": {
     "name": "#%%\n"
    }
   }
  },
  {
   "cell_type": "code",
   "execution_count": null,
   "outputs": [],
   "source": [
    "rules=association_rules(temp_2, metric='lift', min_threshold=1, support_only=False)"
   ],
   "metadata": {
    "collapsed": false,
    "pycharm": {
     "name": "#%%\n"
    }
   }
  },
  {
   "cell_type": "code",
   "execution_count": null,
   "outputs": [],
   "source": [
    "temp_3=apriori(df_dataOfSweden, min_support=0.05)"
   ],
   "metadata": {
    "collapsed": false,
    "pycharm": {
     "name": "#%%\n"
    }
   }
  },
  {
   "cell_type": "code",
   "execution_count": null,
   "outputs": [],
   "source": [
    "rules=association_rules(temp_3, metric='lift', min_threshold=1, support_only=False)"
   ],
   "metadata": {
    "collapsed": false,
    "pycharm": {
     "name": "#%%\n"
    }
   }
  },
  {
   "cell_type": "code",
   "execution_count": null,
   "outputs": [],
   "source": [
    "from mlxtend.frequent_patterns import fpgrowth\n",
    "temp=fpgrowth(df_dataOfFrance, min_support=0.05)"
   ],
   "metadata": {
    "collapsed": false,
    "pycharm": {
     "name": "#%%\n"
    }
   }
  },
  {
   "cell_type": "code",
   "execution_count": null,
   "outputs": [],
   "source": [
    "rules=association_rules(temp, metric='lift', min_threshold=1, support_only=False)"
   ],
   "metadata": {
    "collapsed": false,
    "pycharm": {
     "name": "#%%\n"
    }
   }
  },
  {
   "cell_type": "code",
   "execution_count": null,
   "outputs": [],
   "source": [
    "temp=fpgrowth(df_dataOfUK, min_support=0.05)"
   ],
   "metadata": {
    "collapsed": false,
    "pycharm": {
     "name": "#%%\n"
    }
   }
  },
  {
   "cell_type": "code",
   "execution_count": null,
   "outputs": [],
   "source": [
    "rules=association_rules(temp, metric='lift', min_threshold=1, support_only=False)"
   ],
   "metadata": {
    "collapsed": false,
    "pycharm": {
     "name": "#%%\n"
    }
   }
  },
  {
   "cell_type": "code",
   "execution_count": null,
   "outputs": [],
   "source": [
    "temp=fpgrowth(df_dataOfPortugal, min_support=0.05)"
   ],
   "metadata": {
    "collapsed": false,
    "pycharm": {
     "name": "#%%\n"
    }
   }
  },
  {
   "cell_type": "code",
   "execution_count": null,
   "outputs": [],
   "source": [
    "rules=association_rules(temp, metric='lift', min_threshold=1, support_only=False)"
   ],
   "metadata": {
    "collapsed": false,
    "pycharm": {
     "name": "#%%\n"
    }
   }
  },
  {
   "cell_type": "code",
   "execution_count": null,
   "outputs": [],
   "source": [
    "temp=fpgrowth(df_dataOfSweden, min_support=0.05)"
   ],
   "metadata": {
    "collapsed": false,
    "pycharm": {
     "name": "#%%\n"
    }
   }
  },
  {
   "cell_type": "code",
   "execution_count": null,
   "outputs": [],
   "source": [
    "rules=association_rules(temp, metric='lift', min_threshold=1, support_only=False)"
   ],
   "metadata": {
    "collapsed": false,
    "pycharm": {
     "name": "#%%\n"
    }
   }
  },
  {
   "cell_type": "code",
   "execution_count": null,
   "outputs": [],
   "source": [
    "\n",
    "\n"
   ],
   "metadata": {
    "collapsed": false,
    "pycharm": {
     "name": "#%%\n"
    }
   }
  }
 ],
 "metadata": {
  "kernelspec": {
   "display_name": "Python 3",
   "language": "python",
   "name": "python3"
  },
  "language_info": {
   "codemirror_mode": {
    "name": "ipython",
    "version": 2
   },
   "file_extension": ".py",
   "mimetype": "text/x-python",
   "name": "python",
   "nbconvert_exporter": "python",
   "pygments_lexer": "ipython2",
   "version": "2.7.6"
  }
 },
 "nbformat": 4,
 "nbformat_minor": 0
}