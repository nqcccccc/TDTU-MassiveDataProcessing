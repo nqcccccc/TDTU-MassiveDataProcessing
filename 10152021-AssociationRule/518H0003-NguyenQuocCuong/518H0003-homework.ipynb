{
 "cells": [
  {
   "cell_type": "code",
   "execution_count": 3,
   "metadata": {
    "collapsed": true
   },
   "outputs": [
    {
     "name": "stdout",
     "output_type": "stream",
     "text": [
      "CPU times: user 250 ms, sys: 183 ms, total: 433 ms\n",
      "Wall time: 869 ms\n"
     ]
    }
   ],
   "source": [
    "data = {'T1':['I1','I2','I3'],\n",
    "        'T2':['I2','I3','I4'],\n",
    "        'T3':['I2','I4','I5'],\n",
    "        'T4':['I1','I2','I4'],\n",
    "        'T5':['I1','I2','I3','I5'],\n",
    "        'T6':['I1','I2','I3','I4']}\n",
    "\n",
    "for i in data:\n",
    "    print(data[i])"
   ]
  },
  {
   "cell_type": "code",
   "execution_count": 124,
   "outputs": [
    {
     "name": "stdout",
     "output_type": "stream",
     "text": [
      "{('I1', 'I2', 'I3'): 3}\n",
      "CPU times: user 566 µs, sys: 308 µs, total: 874 µs\n",
      "Wall time: 714 µs\n"
     ]
    }
   ],
   "source": [
    "%%time\n",
    "\n",
    "count = {}\n",
    "support = {}\n",
    "cont = True\n",
    "k=1\n",
    "while cont:\n",
    "    if k == 1:\n",
    "        for i in data:\n",
    "            for j in data[i]:\n",
    "                if j in count:\n",
    "                    count[j] = count[j] +1\n",
    "                else:\n",
    "                    count[j] = 1\n",
    "    else:\n",
    "        pair =[]\n",
    "        for i in range(len(count)):\n",
    "            for j in range(i+1,len(count)):\n",
    "                value = []\n",
    "                if k != 2:\n",
    "                    for x in list(count)[i]:\n",
    "                        if x not in value:\n",
    "                            value.append(x)\n",
    "                    for x in list(count)[j]:\n",
    "                        if x not in value:\n",
    "                            value.append(x)\n",
    "                    value = sorted(value)\n",
    "                    if tuple(value) not in pair:\n",
    "                        pair.append(tuple(value))\n",
    "                else:\n",
    "                    pair.append((list(count)[i],list(count)[j]))\n",
    "\n",
    "        count = {}\n",
    "        for d in data:\n",
    "            for i in pair:\n",
    "                check = len(i)\n",
    "                for j in i:\n",
    "                    if j in data[d]:\n",
    "                        check -=1\n",
    "                if check==0:\n",
    "                    if i in count:\n",
    "                        count[i] = count[i]+1\n",
    "                    else:\n",
    "                        count[i] = 1\n",
    "\n",
    "    new_count = {}\n",
    "    for i in count:\n",
    "        support[i] = count[i]/len(data)\n",
    "        if count[i]/len(data) >= 0.5:\n",
    "            new_count[i] = count[i]\n",
    "\n",
    "    count = new_count\n",
    "\n",
    "    if len(count)<=1:\n",
    "        cont = False\n",
    "    k += 1\n",
    "\n",
    "print(count)"
   ],
   "metadata": {
    "collapsed": false,
    "pycharm": {
     "name": "#%%\n"
    }
   }
  },
  {
   "cell_type": "code",
   "execution_count": 125,
   "outputs": [
    {
     "name": "stdout",
     "output_type": "stream",
     "text": [
      "Confident of ('I1', 'I2', 'I3') : 50.0%\n"
     ]
    }
   ],
   "source": [
    "conf  = support[('I1', 'I2', 'I3')]/(support['I2', 'I3']/support['I3'])\n",
    "print(f'Confident of {list(count)[0]} : {conf *100}%')"
   ],
   "metadata": {
    "collapsed": false,
    "pycharm": {
     "name": "#%%\n"
    }
   }
  },
  {
   "cell_type": "code",
   "execution_count": null,
   "outputs": [],
   "source": [],
   "metadata": {
    "collapsed": false,
    "pycharm": {
     "name": "#%%\n"
    }
   }
  }
 ],
 "metadata": {
  "kernelspec": {
   "display_name": "Python 3",
   "language": "python",
   "name": "python3"
  },
  "language_info": {
   "codemirror_mode": {
    "name": "ipython",
    "version": 2
   },
   "file_extension": ".py",
   "mimetype": "text/x-python",
   "name": "python",
   "nbconvert_exporter": "python",
   "pygments_lexer": "ipython2",
   "version": "2.7.6"
  }
 },
 "nbformat": 4,
 "nbformat_minor": 0
}